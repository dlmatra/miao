{
 "cells": [
  {
   "cell_type": "markdown",
   "metadata": {},
   "source": [
    "## Carry out imaging in CASA \n",
    "given parameters in imagepars.npy file, which were fed by the main.py routine\n",
    "\n",
    "Needs to be run within imaging folder in the presence of imagepars.npy"
   ]
  },
  {
   "cell_type": "code",
   "execution_count": 1,
   "metadata": {},
   "outputs": [
    {
     "ename": "NameError",
     "evalue": "name 'workingdir' is not defined",
     "output_type": "error",
     "traceback": [
      "\u001b[0;31m---------------------------------------------------------------------------\u001b[0m",
      "\u001b[0;31mNameError\u001b[0m                                 Traceback (most recent call last)",
      "\u001b[0;32m<ipython-input-1-19efb4d4aeb9>\u001b[0m in \u001b[0;36m<module>\u001b[0;34m()\u001b[0m\n\u001b[1;32m      1\u001b[0m \u001b[0;32mimport\u001b[0m \u001b[0mnumpy\u001b[0m \u001b[0;32mas\u001b[0m \u001b[0mnp\u001b[0m\u001b[0;34m\u001b[0m\u001b[0;34m\u001b[0m\u001b[0m\n\u001b[0;32m----> 2\u001b[0;31m \u001b[0msourcetag\u001b[0m\u001b[0;34m,\u001b[0m\u001b[0mworkingdir\u001b[0m\u001b[0;34m,\u001b[0m\u001b[0mvis\u001b[0m\u001b[0;34m,\u001b[0m\u001b[0mnvis\u001b[0m\u001b[0;34m,\u001b[0m\u001b[0mmosaic\u001b[0m\u001b[0;34m,\u001b[0m\u001b[0mphasecenter\u001b[0m\u001b[0;34m,\u001b[0m\u001b[0mweighting\u001b[0m\u001b[0;34m,\u001b[0m\u001b[0mrobust\u001b[0m\u001b[0;34m,\u001b[0m\u001b[0muvtaper\u001b[0m\u001b[0;34m,\u001b[0m\u001b[0minteractive\u001b[0m \u001b[0;34m=\u001b[0m \u001b[0mnp\u001b[0m\u001b[0;34m.\u001b[0m\u001b[0mload\u001b[0m\u001b[0;34m(\u001b[0m\u001b[0mworkingdir\u001b[0m\u001b[0;34m+\u001b[0m\u001b[0;34m'/'\u001b[0m\u001b[0;34m+\u001b[0m\u001b[0msourcetag\u001b[0m\u001b[0;34m+\u001b[0m\u001b[0;34m'/imaging/imagepars.npy'\u001b[0m\u001b[0;34m)\u001b[0m\u001b[0;34m\u001b[0m\u001b[0;34m\u001b[0m\u001b[0m\n\u001b[0m\u001b[1;32m      3\u001b[0m \u001b[0;34m\u001b[0m\u001b[0m\n\u001b[1;32m      4\u001b[0m \u001b[0;31m#Run this within imaging folder\u001b[0m\u001b[0;34m\u001b[0m\u001b[0;34m\u001b[0m\u001b[0;34m\u001b[0m\u001b[0m\n\u001b[1;32m      5\u001b[0m \u001b[0;31m#vis=['../uvfit/radmc/evaluation/HD202628_calibratedvis_cont_12m_rwdat.ms','../uvfit/radmc/evaluation/HD202628_calibratedvis_cont_ACA_rwdat.ms']\u001b[0m\u001b[0;34m\u001b[0m\u001b[0;34m\u001b[0m\u001b[0;34m\u001b[0m\u001b[0m\n",
      "\u001b[0;31mNameError\u001b[0m: name 'workingdir' is not defined"
     ]
    }
   ],
   "source": [
    "import numpy as np\n",
    "sourcetag,workingdir,vis,nvis,mosaic,phasecenter,weighting,robust,uvtaper,interactive = np.load('./imagepars.npy')\n",
    "\n",
    "#Run this within imaging folder\n",
    "concatvis=workingdir+'/'+sourcetag+'/calibratedms/'+sourcetag+'_calibratedvis_cont_concat.ms'\n",
    "if not os.path.exists(concatvis):\n",
    "    concaten=False\n",
    "    imagesingles=True\n",
    "else:\n",
    "    concaten=True\n",
    "    weightfacts=[1.0 for x in np.arange(len(vis))]\n",
    "    imageconcat=True\n",
    "    imagesingles=True\n",
    "\n",
    "if concaten:\n",
    "\tos.system('rm -r '+concatvis)\n",
    "\tconcat(vis=vis, concatvis=concatvis, visweightscale=weightfacts, copypointing=False)\n",
    "\t#If needed, manually fix coordinates to match coordinates of first observation, otherwise mosaic won't work. Phase centers are all aligned already from fit\n",
    "\t#fixplanets(vis=concatvis, field='0,1', direction='J2000 02h26m16.337489 +06d17m32.38948')\n",
    "\tlistobs(concatvis)\n",
    "\n",
    "if imageconcat:\n",
    "\timagename=concatvis[16:-3]+'_'+weighting+robust\n",
    "\t#clean parameters\n",
    "\timsize=[512,512]\n",
    "\tcell=['0.05arcsec']\n",
    "\tpblimit=1e-5\n",
    "\tif mosaic:\n",
    "\t\tgridder='mosaic'\n",
    "\telse:\n",
    "\t\tgridder='standard'\n",
    "\tdeconvolver='multiscale'\n",
    "\t#Scales should be roughly [0, n where n*cell~expected syntesized beam size, 3n, 9n, etc.]\n",
    "\tscales=[0,10,30,90]\n",
    "\tniter=100000000000000\n",
    "\tspecmode='mfs'\n",
    "\t\n",
    "\t#Remove image if it exists\n",
    "\tos.system('rm -r '+imagename+'.*')\n",
    "\t\n",
    "\t#Run iterative tclean with manual masking\n",
    "\ttclean(vis=concatvis, interactive=interactive, imsize=imsize, cell=cell, weighting=weighting, niter=niter, specmode=specmode, gridder=gridder, deconvolver=deconvolver, scales=scales, imagename=imagename, uvtaper=uvtaper,  robust=robust, pblimit=pblimit)\n",
    "\n",
    "\t#Export image to FITS\n",
    "\texportfits(imagename=imagename+'.image', fitsimage=imagename+'.fits', overwrite=True)\n",
    "\t#Export primary beam to FITS\n",
    "\texportfits(imagename=imagename+'.pb', fitsimage=imagename+'_pb.fits', overwrite=True)\n",
    "\t\n",
    "\t#View result\n",
    "\tviewer(imagename+'.image')\n",
    "\n",
    "if imagesingles:\n",
    "\tfor i in np.arange(nvis):\n",
    "\t\timagename=vis[i][16:-3]+'_'+weighting+robust\n",
    "\t\t#clean parameters\n",
    "\t\timsize=[1024,1024]\n",
    "\t\tcell=['0.05arcsec']\n",
    "\t\tpblimit=1e-5\n",
    "\t\tgridder='standard'\n",
    "\t\tdeconvolver='multiscale'\n",
    "\t\t#Scales should be roughly [0, n where n*cell~expected syntesized beam size, 3n, 9n, etc.]\n",
    "\t\tscales=[0,10,30,90]\n",
    "\t\tniter=10000000000000000000000000\n",
    "\t\tspecmode='mfs'\n",
    "\t\t\n",
    "\t\t#Remove image if it exists\n",
    "\t\tos.system('rm -r '+imagename+'.*')\n",
    "\t\t\n",
    "\t\t#Run iterative tclean with manual masking\n",
    "\t\ttclean(vis=vis[i], interactive=interactive, imsize=imsize, cell=cell, weighting=weighting, niter=niter, specmode=specmode, gridder=gridder, deconvolver=deconvolver, scales=scales, imagename=imagename, uvtaper=uvtaper,  robust=robust)\n",
    "\n",
    "\t\t#Export image to FITS\n",
    "\t\texportfits(imagename=imagename+'.image', fitsimage=imagename+'.fits', overwrite=True)\n",
    "\t\t#Export primary beam to FITS\n",
    "\t\texportfits(imagename=imagename+'.pb', fitsimage=imagename+'_pb.fits', overwrite=True)\n",
    "\t\n",
    "\t\t#View result\n",
    "\t\tviewer(imagename+'.image')\n",
    "\n",
    "\t\t#RMS X uJy for X\" taper, beam X\" x X\" @Xdeg PA\n"
   ]
  },
  {
   "cell_type": "code",
   "execution_count": null,
   "metadata": {},
   "outputs": [],
   "source": []
  }
 ],
 "metadata": {
  "kernelspec": {
   "display_name": "Python 3",
   "language": "python",
   "name": "python3"
  },
  "language_info": {
   "codemirror_mode": {
    "name": "ipython",
    "version": 3
   },
   "file_extension": ".py",
   "mimetype": "text/x-python",
   "name": "python",
   "nbconvert_exporter": "python",
   "pygments_lexer": "ipython3",
   "version": "3.7.3"
  }
 },
 "nbformat": 4,
 "nbformat_minor": 2
}
