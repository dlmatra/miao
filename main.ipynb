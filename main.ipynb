{
 "cells": [
  {
   "cell_type": "markdown",
   "metadata": {},
   "source": [
    "## Analyzing and fitting interferometric visibility datasets of circumstellar rings"
   ]
  },
  {
   "cell_type": "markdown",
   "metadata": {},
   "source": [
    "Bringing your data from archive to paper-ready plots requires several steps, which we will follow and execute in this Notebook. Built in **Python 3 and with CASA 5.4.0**, but may handle other versions.\n",
    "\n",
    "**GALARIO package**:\n",
    "https://github.com/mtazzari/galario\n",
    "**needs to be installed within local Python 3 installation**, e.g. with conda with a command like: 'conda install -c conda-forge galario'. This code was tested with version 1.2\n",
    "\n",
    "**RADMC-3D version 0.41**:\n",
    "http://www.ita.uni-heidelberg.de/~dullemond/software/radmc-3d/index.html\n",
    "comes with the package, in a version that has been slightly modified to avoid print statements if nothing goes wrong, and hence save time. **This however needs to be installed** through: 'cd radmc-gala/radmc-3d/version_0.41/srcnoprint' and then 'make'. It is strongly advised that the user familiarises themselves with the ray-tracing capabilities of radmc-3d, although this knowledge should not be needed to run radmc-gala.\n",
    "The **radmc3dPy** add-on: https://www.ast.cam.ac.uk/~juhasz/radmc3dPyDoc/index.html is used to read radmc-3d files into Python, and is included within the radmc-3d package.\n",
    "\n",
    "**Astropy**:\n",
    "https://www.astropy.org/\n",
    "**needs to be installed within local Python 3 installation**, to enable read and write of FITS format files. Installation is as simple as: 'conda install astropy' or 'pip install astropy'."
   ]
  },
  {
   "cell_type": "markdown",
   "metadata": {},
   "source": [
    "## Step 0: Create list with all requested inputs"
   ]
  },
  {
   "cell_type": "markdown",
   "metadata": {},
   "source": [
    "Here you need to decide if you are doing imaging and/or fitting and/or \n",
    "input some parameters that are needed for the imaging and/or fitting and/or postprocessing.\n"
   ]
  },
  {
   "cell_type": "code",
   "execution_count": 1,
   "metadata": {},
   "outputs": [
    {
     "name": "stdout",
     "output_type": "stream",
     "text": [
      "Directory for object GJ14 already exists at /d1/boudica1/lmatra\n"
     ]
    }
   ],
   "source": [
    "import numpy as np\n",
    "import os\n",
    "import pickle\n",
    "\n",
    "#Decide which you want to do, imaging and/or fitting and/or postprocessing\n",
    "imaging=True\n",
    "fit=True\n",
    "postproc=True\n",
    "\n",
    "radmcgalapath='/d1/boudica1/lmatra/radmc-gala'\n",
    "casapath='/d1/boudica1/casa-release-5.4.0-68.el6/bin'\n",
    "sourcetag='GJ14'\n",
    "workingdir='/d1/boudica1/lmatra'\n",
    "vis=['/sma/SMAusers/lmatra/REASONS_ALMA/cycle5/GJ14/calibratedms/GJ14_calibratedvis_cont.ms']\n",
    "nvis=len(vis)\n",
    "if not os.path.exists(workingdir+'/'+sourcetag):\n",
    "    os.mkdir(workingdir+'/'+sourcetag)\n",
    "    print('Creating directory for object '+sourcetag+' at '+workingdir)\n",
    "else:\n",
    "    print('Directory for object '+sourcetag+' already exists at '+workingdir)\n",
    "\n",
    "if imaging:\n",
    "    #Imaging parameters\n",
    "    mosaic=False\n",
    "    if mosaic:\n",
    "        mosaic=True\n",
    "        phasecenter='J2000 22h57m39.449700 -29d37m22.68681'\n",
    "    else:\n",
    "        phasecenter=''\n",
    "    weighting='natural'\n",
    "    if weighting=='briggs':\n",
    "        robust=0.5\n",
    "    else:\n",
    "        robust=''\n",
    "    uvtaper=['']\n",
    "    interactive=True\n",
    "\n",
    "if fit:\n",
    "    #Parameters for fit\n",
    "    Lstar=0.111  #Solar luminosities\n",
    "    dist=14.7  #pc\n",
    "    imsize=24.0     #arcsec, used for radiative transfer. >>2x belt outer radius, but not too large or it will slow down computation.\n",
    "    #imsize above is also the size of the grid over which the model is setup in RADMC. No disk will be put beyond this.\n",
    "\n",
    "    #Add disk parameters\n",
    "    fluxdensity=1.8e-3 #Jy\n",
    "    fluxdensity_dwn, fluxdensity_up = [0.1e-3, 50e-3]\n",
    "    rmid=99.0/dist # Radial peak location of Gaussian surface density, arcsec\n",
    "    rmid_dwn, rmid_up = [0.3, 12.0]\n",
    "    sigma=32.0/2.35/dist #standard deviation of radial Gaussian surface density\n",
    "    sigma_dwn, sigma_up = [0.05, 'halfrmid'] #halfrmid is special setup that enables maximum sigma to be half whatever rmid\n",
    "    #is in current model evaluation.\n",
    "    useh=True\n",
    "    if useh:\n",
    "        h=0.05 #aspect ratio of belt, constant with radius, whose vertical density structure at radius r is a Gaussian with width hr.\n",
    "        h_dwn, h_up = [0.005, 0.2]\n",
    "    else:\n",
    "        h=0.03\n",
    "    incl=65.0 #inclination, degrees from face-on\n",
    "    incl_dwn, incl_up = [0.1, 89.99]\n",
    "    posang=5.5 #position angle, East of North. **Needs to be between 0 and 180 degrees!**\n",
    "    if posang<45.0 or posang>135.0:\n",
    "        posang_dwn, posang_up = [-90.0, 90.0]\n",
    "    else:\n",
    "        posang_dwn, posang_up = [0.0, 180.0]\n",
    "       \n",
    "    \n",
    "    #Add star if wanted/needed\n",
    "    star=True\n",
    "    if star:\n",
    "        fstar=4e-5 #Jy\n",
    "        fstar_dwn, fstar_up = [1e-6, 2e-3]\n",
    "    \n",
    "    #Add extra parameters independently for each of the visibility datasets.\n",
    "    if nvis>1:\n",
    "        dRA=[-0.07,0.1,0.1] #RA offset of star+disk from phase center of observations\n",
    "        dRA_dwn=[-3.0,-3.0,-3.0]\n",
    "        dRA_up=[3.0,3.0,3.0]\n",
    "        dDec=[0.14,-0.1,-0.1] #Dec offset of star+disk from phase center of observations\n",
    "        dDec_dwn=[-3.0,-3.0,-3.0]\n",
    "        dDec_up=[3.0,3.0,3.0]\n",
    "        wtfact=[0.289,0.289,1e-4] #factors by which incorrect weights should be multiplied by\\\n",
    "        wtfact_dwn=[1e-6,1e-6,1e-6]\n",
    "        wtfact_up=[10.0,10.0,10.0]\n",
    "    else:\n",
    "        dRA=[-0.07] #RA offset of star+disk from phase center of observations\n",
    "        dRA_dwn=[-3.0]\n",
    "        dRA_up=[3.0]\n",
    "        dDec=[0.14] #Dec offset of star+disk from phase center of observations\n",
    "        dDec_dwn=[-3.0]\n",
    "        dDec_up=[3.0]\n",
    "        wtfact=[0.289] #factors by which incorrect weights should be multiplied by\n",
    "        wtfact_dwn=[1e-6]\n",
    "        wtfact_up=[10.0]\n",
    "\n",
    "    #Add galaxies if needed\n",
    "    ngal=0\n",
    "    if ngal>=1:\n",
    "        resolved=[True, False, False] # if definitely resolved, use 2D Gaussian as galaxy model (6 free parameters), and set resolved=True for that galaxy. \n",
    "    #Otherwise, use point source (3 free parameters) by setting resolved=False.\n",
    "        fbkg=[285e-6,500e-6,500e-6] #Flux (Jy)\n",
    "        fbkg_dwn=[1e-6,1e-6,1e-6]\n",
    "        fbkg_up=[10e-3,10e-3,10e-3]\n",
    "        dRAbkg=[2.97,2.97,2.97] # RA offset (\")\n",
    "        dRAbkg_dwn=[x-3.0 for x in dRAbkg]\n",
    "        dRAbkg_up=[x+3.0 for x in dRAbkg]\n",
    "        dDecbkg=[1.81,1.81,1.81] # Dec offset (\")\n",
    "        dDecbkg_dwn=[x-3.0 for x in dDecbkg]\n",
    "        dDecbkg_up=[x+3.0 for x in dDecbkg]\n",
    "        sigmagal=[0.3,0,0] # sigma (\")\n",
    "        sigmagal_dwn=[0.05,0.05,0.05]\n",
    "        sigmagal_up=[1.0,1.0,1.0]\n",
    "        PAgal=[28.0,0,0] # PA (deg), East of North. **Needs to be between 0 and 180 degrees!**\n",
    "        PAgal_dwn=[]\n",
    "        PAgal_up=[]\n",
    "        for i in PAgal:\n",
    "            if PAgal<45.0 or PAgal>135.0:\n",
    "                PAgal_dwn.append(-90.0)\n",
    "                PAgal_up.append(90.0)\n",
    "            else:\n",
    "                PAgal_dwn.append(0.0)\n",
    "                PAgal_up.append(180.0)   \n",
    "        incgal=[49.0,0,0] # inc (deg)\n",
    "        incgal_dwn=[0.1,0.1,0.1]\n",
    "        incgal_up=[89.99,89.99,89.99]\n",
    "    else: \n",
    "        resolved=None\n",
    "        fbkg=None\n",
    "        dRAbkg=None\n",
    "        dDecbkg=None\n",
    "        sigmagal=None\n",
    "        PAgal=None\n",
    "        incgal=None\n",
    "        \n",
    "    #Now define array containing all initial parameters\n",
    "    ## NB DO NOT MODIFY ORDER AS SETUP_MCMC CODE WILL NOT RECOGNISE PARAMETERS CORRECTLY\n",
    "    pars_init=[fluxdensity, rmid, sigma, incl, posang]\n",
    "    priors_dwn=[fluxdensity_dwn, rmid_dwn, sigma_dwn, incl_dwn, posang_dwn]\n",
    "    priors_up=[fluxdensity_up, rmid_up, sigma_up, incl_up, posang_up]\n",
    "    if useh:\n",
    "        pars_init.append(h)\n",
    "        priors_dwn.append(h_dwn)\n",
    "        priors_up.append(h_up)\n",
    "    if star:\n",
    "        pars_init.append(fstar)\n",
    "        priors_dwn.append(fstar_dwn)\n",
    "        priors_up.append(fstar_up)\n",
    "    for i in np.arange(nvis):\n",
    "        pars_init.append(dRA[i])\n",
    "        priors_dwn.append(dRA_dwn[i])\n",
    "        priors_up.append(dRA_up[i])\n",
    "        pars_init.append(dDec[i])\n",
    "        priors_dwn.append(dDec_dwn[i])\n",
    "        priors_up.append(dDec_up[i])\n",
    "        pars_init.append(wtfact[i])\n",
    "        priors_dwn.append(wtfact_dwn[i])\n",
    "        priors_up.append(wtfact_up[i])\n",
    "    if ngal>=1:\n",
    "        for i in np.arange(ngal):\n",
    "            pars_init.append(fbkg[i])\n",
    "            priors_dwn.append(fbkg_dwn[i])\n",
    "            priors_up.append(fbkg_up[i])\n",
    "            pars_init.append(dRAbkg[i])\n",
    "            priors_dwn.append(dRAbkg_dwn[i])\n",
    "            priors_up.append(dRAbkg_up[i])\n",
    "            pars_init.append(dDecbkg[i])\n",
    "            priors_dwn.append(dDecbkg_dwn[i])\n",
    "            priors_up.append(dDecbkg_up[i])\n",
    "            if resolved[i]:\n",
    "                pars_init.append(sigmagal[i])\n",
    "                priors_dwn.append(sigmagal_dwn[i])\n",
    "                priors_up.append(sigmagal_up[i])\n",
    "                pars_init.append(PAgal[i])\n",
    "                priors_dwn.append(PAgal_dwn[i])\n",
    "                priors_up.append(PAgal_up[i])\n",
    "                pars_init.append(incgal[i])\n",
    "                priors_dwn.append(incgal_dwn[i])\n",
    "                priors_up.append(incgal_up[i])\n",
    "\n"
   ]
  },
  {
   "cell_type": "markdown",
   "metadata": {},
   "source": [
    "## Step 1: Create directory structure"
   ]
  },
  {
   "cell_type": "code",
   "execution_count": 2,
   "metadata": {},
   "outputs": [
    {
     "name": "stdout",
     "output_type": "stream",
     "text": [
      "Creating directory structure\n",
      "Will be carrying out imaging\n",
      "Will be carrying out visibility fit\n",
      "Will be carrying out postprocessing\n",
      "cp: cannot stat `/d1/boudica1/lmatra/radmc-gala/utils/evaluatemodel_radmc3d.py': No such file or directory\n",
      "cp: cannot stat `/d1/boudica1/lmatra/radmc-gala/utils/uvresidualtoms.py': No such file or directory\n",
      "cp: cannot stat `/d1/boudica1/lmatra/radmc-gala/utils/makeuvdeprojplot_simple_multiple.py': No such file or directory\n",
      "cp: cannot stat `/d1/boudica1/lmatra/radmc-gala/utils/plotimage.py': No such file or directory\n",
      "cp: cannot stat `/d1/boudica1/lmatra/radmc-gala/utils/imagecombo.py': No such file or directory\n"
     ]
    }
   ],
   "source": [
    "print('Creating directory structure')\n",
    "os.chdir(workingdir+'/'+sourcetag)\n",
    "\n",
    "#Imaging\n",
    "if imaging:\n",
    "    print('Will be carrying out imaging')\n",
    "    for i in ['calibratedms', 'imaging']:\n",
    "        if not os.path.exists(workingdir+'/'+sourcetag+'/'+i):\n",
    "            os.mkdir(workingdir+'/'+sourcetag+'/'+i)\n",
    "    !cp -r {radmcgalapath}/utils/mstonumpyortxt_multiple.py {workingdir}/{sourcetag}/calibratedms/.\n",
    "    for i in np.arange(len(vis)):\n",
    "        if not os.path.exists('calibratedms/'+vis[i].rsplit('/',1)[1]):\n",
    "            !cp -r {vis[i]} {workingdir}/{sourcetag}/calibratedms/.\n",
    "        vis[i]=vis[i].rsplit('/',1)[1]\n",
    "        #print(vis[i])\n",
    "    !cp -r {radmcgalapath}/utils/imagingscript_multiple.py {workingdir}/{sourcetag}/imaging/.  \n",
    "    #Save imaging parameters\n",
    "    pickle.dump([sourcetag,workingdir,vis,nvis,mosaic,phasecenter,weighting,robust,uvtaper,interactive], open(workingdir+'/'+sourcetag+'/imaging/imagepars.npy', 'wb'), protocol=2)\n",
    "\n",
    "    \n",
    "#Fitting\n",
    "if fit: \n",
    "    print('Will be carrying out visibility fit')\n",
    "    if not os.path.exists(workingdir+'/'+sourcetag+'/'+'imaging'):\n",
    "        sys.exit('Carry out imaging first: need .pb primary beam image')\n",
    "    for i in ['uvfit']:\n",
    "        if not os.path.exists(workingdir+'/'+sourcetag+'/'+i):\n",
    "            os.mkdir(workingdir+'/'+sourcetag+'/'+i)\n",
    "    !cp -r {radmcgalapath}/utils/setup_mcmc.py {workingdir}/{sourcetag}/uvfit/. \n",
    "    !cp -r {radmcgalapath}/utils/problem_setup_cont_gauss.py {workingdir}/{sourcetag}/uvfit/.  \n",
    "    !cp -r {radmcgalapath}/utils/dustkappa_10445.micr.inp {workingdir}/{sourcetag}/uvfit/. \n",
    "    #Predict names of primary beam files according to standard naming convention\n",
    "    pbfilenames=[[] for x in vis]\n",
    "    for i in np.arange(nvis):\n",
    "        if not imaging:\n",
    "            vis[i]=vis[i].rsplit('/',1)[1]\n",
    "        pbfilenames[i]=vis[i][:-3]+'_'+weighting+robust+'_pb.fits'\n",
    "    #Save fit parameters\n",
    "    pickle.dump([pbfilenames,vis,nvis,radmcgalapath,workingdir,sourcetag,Lstar,dist,imsize,useh,star\n",
    "                 ,ngal,resolved, pars_init, priors_dwn, priors_up], open(workingdir+'/'+sourcetag+'/uvfit/fitpars.npy', 'wb'), protocol=2)\n",
    "\n",
    "#Postprocessing\n",
    "if postproc:\n",
    "    if not (imaging or fit):\n",
    "        print ('Will be carrying out postprocessing ONLY')\n",
    "    else:\n",
    "        print('Will be carrying out postprocessing')\n",
    "    if not os.path.exists(workingdir+'/'+sourcetag+'/'+'uvfit'):\n",
    "        sys.exit('Carry out fit before POSTprocessing!')\n",
    "    for i in ['analysis', 'plots', 'uvfit/evaluation']:\n",
    "        if not os.path.exists(workingdir+'/'+sourcetag+'/'+i):\n",
    "            os.mkdir(workingdir+'/'+sourcetag+'/'+i)\n",
    "    !cp -r {radmcgalapath}/utils/evaluatemodel_radmc3d.py {workingdir}/{sourcetag}/uvfit/. \n",
    "    !cp -r {radmcgalapath}/utils/uvresidualtoms.py {workingdir}/{sourcetag}/uvfit/. \n",
    "    !cp -r {radmcgalapath}/utils/makeuvdeprojplot_simple_multiple.py {workingdir}/{sourcetag}/uvfit/.\n",
    "    !cp -r {radmcgalapath}/utils/plotimage.py {workingdir}/{sourcetag}/analysis/.  \n",
    "    !cp -r {radmcgalapath}/utils/imagecombo.py {workingdir}/{sourcetag}/analysis/. \n",
    "   \n"
   ]
  },
  {
   "cell_type": "markdown",
   "metadata": {},
   "source": [
    "## Step 2: Carry out imaging via imagingscript_multiple CASA script\n",
    "First convert visibilities in CASA MS format to a python save file"
   ]
  },
  {
   "cell_type": "code",
   "execution_count": 3,
   "metadata": {},
   "outputs": [
    {
     "name": "stdout",
     "output_type": "stream",
     "text": [
      "\n",
      "=========================================\n",
      "The start-up time of CASA may vary\n",
      "depending on whether the shared libraries\n",
      "are cached or not.\n",
      "=========================================\n",
      "\n",
      "\u001b]0;IPython: GJ14/calibratedms\u0007IPython 5.1.0 -- An enhanced Interactive Python.\n",
      "\n",
      "CASA 5.4.0-68   -- Common Astronomy Software Applications\n",
      "\n",
      "--> CrashReporter initialized.\n",
      "Found data with 225826 uv points per channel\n",
      "with 1 channels per SPW and 2 polarizations,\n",
      "8 SPWs and Channel 0 frequency of 1st SPW of 243.116401246 GHz\n",
      "corresponding to 1.23311302102 mm\n",
      "Datasets has baselines between 11.6500031801 and 371.63538144 m\n"
     ]
    }
   ],
   "source": [
    "os.chdir('calibratedms')\n",
    "!{casapath}/casa -c mstonumpyortxt_multiple.py"
   ]
  },
  {
   "cell_type": "markdown",
   "metadata": {},
   "source": [
    "Read in visibilities into Python, and use Galario to figure out ideal cell size and image size.\n",
    "Typically half the suggested image size is OK."
   ]
  },
  {
   "cell_type": "code",
   "execution_count": 4,
   "metadata": {},
   "outputs": [
    {
     "name": "stdout",
     "output_type": "stream",
     "text": [
      "Pixel size (arcsec) and number of pixels required for dataset GJ14_calibratedvis_cont.ms:\n",
      "0.06843568580635173 512.0\n",
      "Pixel size (arcsec) and number of pixels that will be used:\n",
      "0.06843568580635173 512\n"
     ]
    }
   ],
   "source": [
    "from galario.double import get_image_size\n",
    "u=[[] for x in vis]\n",
    "v=[[] for x in vis]\n",
    "Re=[[] for x in vis]\n",
    "Im=[[] for x in vis]\n",
    "w=[[] for x in vis]\n",
    "nxy=[[] for x in vis]\n",
    "dxy=[[] for x in vis]\n",
    "for i in np.arange(nvis):\n",
    "    u[i], v[i], Re[i], Im[i], w[i] = np.load(vis[i][:-3]+'.npy')\n",
    "    nxy[i], dxy[i] = get_image_size(u, v)\n",
    "    nxy[i]/=2\n",
    "    print('Pixel size (arcsec) and number of pixels required for dataset '+vis[i]+':')\n",
    "    print(dxy[i]*180.0/np.pi*3600, nxy[i])    \n",
    "\n",
    "#Figure out pix size and number for concatenated image.\n",
    "dxyall=np.min(dxy)\n",
    "nxyall=np.int(np.ceil(np.max(np.asarray(dxy)*np.asarray(nxy))/dxyall/2.0)*2)\n",
    "print('Pixel size (arcsec) and number of pixels that will be used:')\n",
    "print(dxyall*180.0/np.pi*3600, nxyall)    \n",
    "\n",
    "\n",
    "    \n",
    "#Save pixel sizes and number of pixels, for imaging and fitting\n",
    "pickle.dump([dxyall, np.int(nxyall)], open(workingdir+'/'+sourcetag+'/calibratedms/pixinfo.npy', 'wb'), protocol=2)\n"
   ]
  },
  {
   "cell_type": "markdown",
   "metadata": {},
   "source": [
    "Then run the CLEANing using CASA's tclean.\n",
    "\n",
    "Run this within CASA locally. There is no way around this if you want to use the interactive cleaning mode!"
   ]
  },
  {
   "cell_type": "code",
   "execution_count": 5,
   "metadata": {
    "scrolled": true
   },
   "outputs": [
    {
     "ename": "NameError",
     "evalue": "name 'execfile' is not defined",
     "output_type": "error",
     "traceback": [
      "\u001b[0;31m---------------------------------------------------------------------------\u001b[0m",
      "\u001b[0;31mNameError\u001b[0m                                 Traceback (most recent call last)",
      "\u001b[0;32m<ipython-input-5-305e320bba94>\u001b[0m in \u001b[0;36m<module>\u001b[0;34m()\u001b[0m\n\u001b[1;32m      1\u001b[0m \u001b[0mos\u001b[0m\u001b[0;34m.\u001b[0m\u001b[0mchdir\u001b[0m\u001b[0;34m(\u001b[0m\u001b[0;34m'../imaging'\u001b[0m\u001b[0;34m)\u001b[0m\u001b[0;34m\u001b[0m\u001b[0;34m\u001b[0m\u001b[0m\n\u001b[1;32m      2\u001b[0m \u001b[0;31m#THE COMMAND BELOW to be run on local computer for CASA to bring up interactive prompt\u001b[0m\u001b[0;34m\u001b[0m\u001b[0;34m\u001b[0m\u001b[0;34m\u001b[0m\u001b[0m\n\u001b[0;32m----> 3\u001b[0;31m \u001b[0mexecfile\u001b[0m\u001b[0;34m(\u001b[0m\u001b[0;34m'imagingscript_multiple.py'\u001b[0m\u001b[0;34m)\u001b[0m\u001b[0;34m\u001b[0m\u001b[0;34m\u001b[0m\u001b[0m\n\u001b[0m",
      "\u001b[0;31mNameError\u001b[0m: name 'execfile' is not defined"
     ]
    }
   ],
   "source": [
    "os.chdir('../imaging')\n",
    "#THE COMMAND BELOW to be run on local computer for CASA to bring up interactive prompt\n",
    "execfile('imagingscript_multiple.py')"
   ]
  },
  {
   "cell_type": "markdown",
   "metadata": {},
   "source": [
    "## Step 3: Run visibility fit by forward-modeling with RADMC-3D (ray tracing) and GALARIO (for FFT) through emcee package"
   ]
  },
  {
   "cell_type": "code",
   "execution_count": 6,
   "metadata": {},
   "outputs": [
    {
     "name": "stdout",
     "output_type": "stream",
     "text": [
      "Fast (Fortran90) Mie-scattering module could not be imported. Falling back to the slower Python version.\n",
      "Setting up sampler...\n"
     ]
    },
    {
     "ename": "AttributeError",
     "evalue": "Can't pickle local object 'get_sampler.<locals>.lnpostfn'",
     "output_type": "error",
     "traceback": [
      "\u001b[0;31m---------------------------------------------------------------------------\u001b[0m",
      "\u001b[0;31mAttributeError\u001b[0m                            Traceback (most recent call last)",
      "\u001b[0;32m<ipython-input-6-2b75ad88c616>\u001b[0m in \u001b[0;36m<module>\u001b[0;34m()\u001b[0m\n\u001b[1;32m      7\u001b[0m \u001b[0;31m# This step actually starts the MCMC, at which point a progress bar should come up (may need installation of a python package).\u001b[0m\u001b[0;34m\u001b[0m\u001b[0;34m\u001b[0m\u001b[0;34m\u001b[0m\u001b[0m\n\u001b[1;32m      8\u001b[0m \u001b[0;31m# The MCMC runs for nsteps and starts the walkers for each parameter at position 'pos' defined above\u001b[0m\u001b[0;34m\u001b[0m\u001b[0;34m\u001b[0m\u001b[0;34m\u001b[0m\u001b[0m\n\u001b[0;32m----> 9\u001b[0;31m \u001b[0msampler\u001b[0m\u001b[0;34m.\u001b[0m\u001b[0mrun_mcmc\u001b[0m\u001b[0;34m(\u001b[0m\u001b[0mpos\u001b[0m\u001b[0;34m,\u001b[0m\u001b[0mnsteps\u001b[0m\u001b[0;34m,\u001b[0m\u001b[0mprogress\u001b[0m\u001b[0;34m=\u001b[0m\u001b[0;32mTrue\u001b[0m\u001b[0;34m)\u001b[0m\u001b[0;34m\u001b[0m\u001b[0;34m\u001b[0m\u001b[0m\n\u001b[0m\u001b[1;32m     10\u001b[0m \u001b[0;31m# If number of steps is insufficient, i.e. if the chains have not converged for each parameter, run for more steps using:\u001b[0m\u001b[0;34m\u001b[0m\u001b[0;34m\u001b[0m\u001b[0;34m\u001b[0m\u001b[0m\n\u001b[1;32m     11\u001b[0m \u001b[0;31m#sampler.run_mcmc(None,nsteps,progress=True)\u001b[0m\u001b[0;34m\u001b[0m\u001b[0;34m\u001b[0m\u001b[0;34m\u001b[0m\u001b[0m\n",
      "\u001b[0;32m/d1/boudica1/lmatra/radmc-gala/emcee/emcee3/ensemble.py\u001b[0m in \u001b[0;36mrun_mcmc\u001b[0;34m(self, pos0, nsteps, rstate0, log_prob0, blobs0, **kwargs)\u001b[0m\n\u001b[1;32m    336\u001b[0m         \u001b[0mresults\u001b[0m \u001b[0;34m=\u001b[0m \u001b[0;32mNone\u001b[0m\u001b[0;34m\u001b[0m\u001b[0;34m\u001b[0m\u001b[0m\n\u001b[1;32m    337\u001b[0m         for results in self.sample(pos0, log_prob0, rstate0=rstate0,\n\u001b[0;32m--> 338\u001b[0;31m                                    blobs0=blobs0, iterations=nsteps, **kwargs):\n\u001b[0m\u001b[1;32m    339\u001b[0m             \u001b[0;32mpass\u001b[0m\u001b[0;34m\u001b[0m\u001b[0;34m\u001b[0m\u001b[0m\n\u001b[1;32m    340\u001b[0m \u001b[0;34m\u001b[0m\u001b[0m\n",
      "\u001b[0;32m/d1/boudica1/lmatra/radmc-gala/emcee/emcee3/ensemble.py\u001b[0m in \u001b[0;36msample\u001b[0;34m(self, p0, log_prob0, rstate0, blobs0, iterations, thin_by, thin, store, progress)\u001b[0m\n\u001b[1;32m    228\u001b[0m         \u001b[0mblobs\u001b[0m \u001b[0;34m=\u001b[0m \u001b[0mblobs0\u001b[0m\u001b[0;34m\u001b[0m\u001b[0;34m\u001b[0m\u001b[0m\n\u001b[1;32m    229\u001b[0m         \u001b[0;32mif\u001b[0m \u001b[0mlog_prob\u001b[0m \u001b[0;32mis\u001b[0m \u001b[0;32mNone\u001b[0m\u001b[0;34m:\u001b[0m\u001b[0;34m\u001b[0m\u001b[0;34m\u001b[0m\u001b[0m\n\u001b[0;32m--> 230\u001b[0;31m             \u001b[0mlog_prob\u001b[0m\u001b[0;34m,\u001b[0m \u001b[0mblobs\u001b[0m \u001b[0;34m=\u001b[0m \u001b[0mself\u001b[0m\u001b[0;34m.\u001b[0m\u001b[0mcompute_log_prob\u001b[0m\u001b[0;34m(\u001b[0m\u001b[0mp\u001b[0m\u001b[0;34m)\u001b[0m\u001b[0;34m\u001b[0m\u001b[0;34m\u001b[0m\u001b[0m\n\u001b[0m\u001b[1;32m    231\u001b[0m         \u001b[0;32mif\u001b[0m \u001b[0mnp\u001b[0m\u001b[0;34m.\u001b[0m\u001b[0mshape\u001b[0m\u001b[0;34m(\u001b[0m\u001b[0mlog_prob\u001b[0m\u001b[0;34m)\u001b[0m \u001b[0;34m!=\u001b[0m \u001b[0;34m(\u001b[0m\u001b[0mself\u001b[0m\u001b[0;34m.\u001b[0m\u001b[0mnwalkers\u001b[0m\u001b[0;34m,\u001b[0m \u001b[0;34m)\u001b[0m\u001b[0;34m:\u001b[0m\u001b[0;34m\u001b[0m\u001b[0;34m\u001b[0m\u001b[0m\n\u001b[1;32m    232\u001b[0m             \u001b[0;32mraise\u001b[0m \u001b[0mValueError\u001b[0m\u001b[0;34m(\u001b[0m\u001b[0;34m\"incompatible input dimensions\"\u001b[0m\u001b[0;34m)\u001b[0m\u001b[0;34m\u001b[0m\u001b[0;34m\u001b[0m\u001b[0m\n",
      "\u001b[0;32m/d1/boudica1/lmatra/radmc-gala/emcee/emcee3/ensemble.py\u001b[0m in \u001b[0;36mcompute_log_prob\u001b[0;34m(self, coords)\u001b[0m\n\u001b[1;32m    379\u001b[0m                 \u001b[0mmap_func\u001b[0m \u001b[0;34m=\u001b[0m \u001b[0mmap\u001b[0m\u001b[0;34m\u001b[0m\u001b[0;34m\u001b[0m\u001b[0m\n\u001b[1;32m    380\u001b[0m             results = list(map_func(self.log_prob_fn,\n\u001b[0;32m--> 381\u001b[0;31m                                     (p[i] for i in range(len(p)))))\n\u001b[0m\u001b[1;32m    382\u001b[0m \u001b[0;34m\u001b[0m\u001b[0m\n\u001b[1;32m    383\u001b[0m         \u001b[0;32mtry\u001b[0m\u001b[0;34m:\u001b[0m\u001b[0;34m\u001b[0m\u001b[0;34m\u001b[0m\u001b[0m\n",
      "\u001b[0;32m/d1/boudica1/anaconda3/lib/python3.7/multiprocessing/pool.py\u001b[0m in \u001b[0;36mmap\u001b[0;34m(self, func, iterable, chunksize)\u001b[0m\n\u001b[1;32m    266\u001b[0m         \u001b[0;32min\u001b[0m \u001b[0ma\u001b[0m \u001b[0mlist\u001b[0m \u001b[0mthat\u001b[0m \u001b[0;32mis\u001b[0m \u001b[0mreturned\u001b[0m\u001b[0;34m.\u001b[0m\u001b[0;34m\u001b[0m\u001b[0;34m\u001b[0m\u001b[0m\n\u001b[1;32m    267\u001b[0m         '''\n\u001b[0;32m--> 268\u001b[0;31m         \u001b[0;32mreturn\u001b[0m \u001b[0mself\u001b[0m\u001b[0;34m.\u001b[0m\u001b[0m_map_async\u001b[0m\u001b[0;34m(\u001b[0m\u001b[0mfunc\u001b[0m\u001b[0;34m,\u001b[0m \u001b[0miterable\u001b[0m\u001b[0;34m,\u001b[0m \u001b[0mmapstar\u001b[0m\u001b[0;34m,\u001b[0m \u001b[0mchunksize\u001b[0m\u001b[0;34m)\u001b[0m\u001b[0;34m.\u001b[0m\u001b[0mget\u001b[0m\u001b[0;34m(\u001b[0m\u001b[0;34m)\u001b[0m\u001b[0;34m\u001b[0m\u001b[0;34m\u001b[0m\u001b[0m\n\u001b[0m\u001b[1;32m    269\u001b[0m \u001b[0;34m\u001b[0m\u001b[0m\n\u001b[1;32m    270\u001b[0m     \u001b[0;32mdef\u001b[0m \u001b[0mstarmap\u001b[0m\u001b[0;34m(\u001b[0m\u001b[0mself\u001b[0m\u001b[0;34m,\u001b[0m \u001b[0mfunc\u001b[0m\u001b[0;34m,\u001b[0m \u001b[0miterable\u001b[0m\u001b[0;34m,\u001b[0m \u001b[0mchunksize\u001b[0m\u001b[0;34m=\u001b[0m\u001b[0;32mNone\u001b[0m\u001b[0;34m)\u001b[0m\u001b[0;34m:\u001b[0m\u001b[0;34m\u001b[0m\u001b[0;34m\u001b[0m\u001b[0m\n",
      "\u001b[0;32m/d1/boudica1/anaconda3/lib/python3.7/multiprocessing/pool.py\u001b[0m in \u001b[0;36mget\u001b[0;34m(self, timeout)\u001b[0m\n\u001b[1;32m    655\u001b[0m             \u001b[0;32mreturn\u001b[0m \u001b[0mself\u001b[0m\u001b[0;34m.\u001b[0m\u001b[0m_value\u001b[0m\u001b[0;34m\u001b[0m\u001b[0;34m\u001b[0m\u001b[0m\n\u001b[1;32m    656\u001b[0m         \u001b[0;32melse\u001b[0m\u001b[0;34m:\u001b[0m\u001b[0;34m\u001b[0m\u001b[0;34m\u001b[0m\u001b[0m\n\u001b[0;32m--> 657\u001b[0;31m             \u001b[0;32mraise\u001b[0m \u001b[0mself\u001b[0m\u001b[0;34m.\u001b[0m\u001b[0m_value\u001b[0m\u001b[0;34m\u001b[0m\u001b[0;34m\u001b[0m\u001b[0m\n\u001b[0m\u001b[1;32m    658\u001b[0m \u001b[0;34m\u001b[0m\u001b[0m\n\u001b[1;32m    659\u001b[0m     \u001b[0;32mdef\u001b[0m \u001b[0m_set\u001b[0m\u001b[0;34m(\u001b[0m\u001b[0mself\u001b[0m\u001b[0;34m,\u001b[0m \u001b[0mi\u001b[0m\u001b[0;34m,\u001b[0m \u001b[0mobj\u001b[0m\u001b[0;34m)\u001b[0m\u001b[0;34m:\u001b[0m\u001b[0;34m\u001b[0m\u001b[0;34m\u001b[0m\u001b[0m\n",
      "\u001b[0;32m/d1/boudica1/anaconda3/lib/python3.7/multiprocessing/pool.py\u001b[0m in \u001b[0;36m_handle_tasks\u001b[0;34m(taskqueue, put, outqueue, pool, cache)\u001b[0m\n\u001b[1;32m    429\u001b[0m                         \u001b[0;32mbreak\u001b[0m\u001b[0;34m\u001b[0m\u001b[0;34m\u001b[0m\u001b[0m\n\u001b[1;32m    430\u001b[0m                     \u001b[0;32mtry\u001b[0m\u001b[0;34m:\u001b[0m\u001b[0;34m\u001b[0m\u001b[0;34m\u001b[0m\u001b[0m\n\u001b[0;32m--> 431\u001b[0;31m                         \u001b[0mput\u001b[0m\u001b[0;34m(\u001b[0m\u001b[0mtask\u001b[0m\u001b[0;34m)\u001b[0m\u001b[0;34m\u001b[0m\u001b[0;34m\u001b[0m\u001b[0m\n\u001b[0m\u001b[1;32m    432\u001b[0m                     \u001b[0;32mexcept\u001b[0m \u001b[0mException\u001b[0m \u001b[0;32mas\u001b[0m \u001b[0me\u001b[0m\u001b[0;34m:\u001b[0m\u001b[0;34m\u001b[0m\u001b[0;34m\u001b[0m\u001b[0m\n\u001b[1;32m    433\u001b[0m                         \u001b[0mjob\u001b[0m\u001b[0;34m,\u001b[0m \u001b[0midx\u001b[0m \u001b[0;34m=\u001b[0m \u001b[0mtask\u001b[0m\u001b[0;34m[\u001b[0m\u001b[0;34m:\u001b[0m\u001b[0;36m2\u001b[0m\u001b[0;34m]\u001b[0m\u001b[0;34m\u001b[0m\u001b[0;34m\u001b[0m\u001b[0m\n",
      "\u001b[0;32m/d1/boudica1/anaconda3/lib/python3.7/multiprocessing/connection.py\u001b[0m in \u001b[0;36msend\u001b[0;34m(self, obj)\u001b[0m\n\u001b[1;32m    204\u001b[0m         \u001b[0mself\u001b[0m\u001b[0;34m.\u001b[0m\u001b[0m_check_closed\u001b[0m\u001b[0;34m(\u001b[0m\u001b[0;34m)\u001b[0m\u001b[0;34m\u001b[0m\u001b[0;34m\u001b[0m\u001b[0m\n\u001b[1;32m    205\u001b[0m         \u001b[0mself\u001b[0m\u001b[0;34m.\u001b[0m\u001b[0m_check_writable\u001b[0m\u001b[0;34m(\u001b[0m\u001b[0;34m)\u001b[0m\u001b[0;34m\u001b[0m\u001b[0;34m\u001b[0m\u001b[0m\n\u001b[0;32m--> 206\u001b[0;31m         \u001b[0mself\u001b[0m\u001b[0;34m.\u001b[0m\u001b[0m_send_bytes\u001b[0m\u001b[0;34m(\u001b[0m\u001b[0m_ForkingPickler\u001b[0m\u001b[0;34m.\u001b[0m\u001b[0mdumps\u001b[0m\u001b[0;34m(\u001b[0m\u001b[0mobj\u001b[0m\u001b[0;34m)\u001b[0m\u001b[0;34m)\u001b[0m\u001b[0;34m\u001b[0m\u001b[0;34m\u001b[0m\u001b[0m\n\u001b[0m\u001b[1;32m    207\u001b[0m \u001b[0;34m\u001b[0m\u001b[0m\n\u001b[1;32m    208\u001b[0m     \u001b[0;32mdef\u001b[0m \u001b[0mrecv_bytes\u001b[0m\u001b[0;34m(\u001b[0m\u001b[0mself\u001b[0m\u001b[0;34m,\u001b[0m \u001b[0mmaxlength\u001b[0m\u001b[0;34m=\u001b[0m\u001b[0;32mNone\u001b[0m\u001b[0;34m)\u001b[0m\u001b[0;34m:\u001b[0m\u001b[0;34m\u001b[0m\u001b[0;34m\u001b[0m\u001b[0m\n",
      "\u001b[0;32m/d1/boudica1/anaconda3/lib/python3.7/multiprocessing/reduction.py\u001b[0m in \u001b[0;36mdumps\u001b[0;34m(cls, obj, protocol)\u001b[0m\n\u001b[1;32m     49\u001b[0m     \u001b[0;32mdef\u001b[0m \u001b[0mdumps\u001b[0m\u001b[0;34m(\u001b[0m\u001b[0mcls\u001b[0m\u001b[0;34m,\u001b[0m \u001b[0mobj\u001b[0m\u001b[0;34m,\u001b[0m \u001b[0mprotocol\u001b[0m\u001b[0;34m=\u001b[0m\u001b[0;32mNone\u001b[0m\u001b[0;34m)\u001b[0m\u001b[0;34m:\u001b[0m\u001b[0;34m\u001b[0m\u001b[0;34m\u001b[0m\u001b[0m\n\u001b[1;32m     50\u001b[0m         \u001b[0mbuf\u001b[0m \u001b[0;34m=\u001b[0m \u001b[0mio\u001b[0m\u001b[0;34m.\u001b[0m\u001b[0mBytesIO\u001b[0m\u001b[0;34m(\u001b[0m\u001b[0;34m)\u001b[0m\u001b[0;34m\u001b[0m\u001b[0;34m\u001b[0m\u001b[0m\n\u001b[0;32m---> 51\u001b[0;31m         \u001b[0mcls\u001b[0m\u001b[0;34m(\u001b[0m\u001b[0mbuf\u001b[0m\u001b[0;34m,\u001b[0m \u001b[0mprotocol\u001b[0m\u001b[0;34m)\u001b[0m\u001b[0;34m.\u001b[0m\u001b[0mdump\u001b[0m\u001b[0;34m(\u001b[0m\u001b[0mobj\u001b[0m\u001b[0;34m)\u001b[0m\u001b[0;34m\u001b[0m\u001b[0;34m\u001b[0m\u001b[0m\n\u001b[0m\u001b[1;32m     52\u001b[0m         \u001b[0;32mreturn\u001b[0m \u001b[0mbuf\u001b[0m\u001b[0;34m.\u001b[0m\u001b[0mgetbuffer\u001b[0m\u001b[0;34m(\u001b[0m\u001b[0;34m)\u001b[0m\u001b[0;34m\u001b[0m\u001b[0;34m\u001b[0m\u001b[0m\n\u001b[1;32m     53\u001b[0m \u001b[0;34m\u001b[0m\u001b[0m\n",
      "\u001b[0;31mAttributeError\u001b[0m: Can't pickle local object 'get_sampler.<locals>.lnpostfn'"
     ]
    }
   ],
   "source": [
    "os.chdir('../uvfit')\n",
    "backendaddress='./backend_'+sourcetag+'_todaysdate_computersname.pkl'\n",
    "import setup_mcmc\n",
    "pos, sampler = setup_mcmc.get_sampler(backendaddress)\n",
    "nsteps=10\n",
    "\n",
    "# This step actually starts the MCMC, at which point a progress bar should come up (may need installation of a python package).\n",
    "# The MCMC runs for nsteps and starts the walkers for each parameter at position 'pos' defined above\n",
    "sampler.run_mcmc(pos,nsteps,progress=True)\n",
    "# If number of steps is insufficient, i.e. if the chains have not converged for each parameter, run for more steps using:\n",
    "#sampler.run_mcmc(None,nsteps,progress=True)\n",
    "# where nsteps is the number of steps you want to go further by."
   ]
  },
  {
   "cell_type": "code",
   "execution_count": null,
   "metadata": {},
   "outputs": [],
   "source": []
  },
  {
   "cell_type": "code",
   "execution_count": null,
   "metadata": {},
   "outputs": [],
   "source": []
  },
  {
   "cell_type": "code",
   "execution_count": null,
   "metadata": {},
   "outputs": [],
   "source": []
  }
 ],
 "metadata": {
  "kernelspec": {
   "display_name": "Python 3",
   "language": "python",
   "name": "python3"
  },
  "language_info": {
   "codemirror_mode": {
    "name": "ipython",
    "version": 3
   },
   "file_extension": ".py",
   "mimetype": "text/x-python",
   "name": "python",
   "nbconvert_exporter": "python",
   "pygments_lexer": "ipython3",
   "version": "3.7.3"
  }
 },
 "nbformat": 4,
 "nbformat_minor": 2
}
