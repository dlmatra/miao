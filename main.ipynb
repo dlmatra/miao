{
 "cells": [
  {
   "cell_type": "markdown",
   "metadata": {},
   "source": [
    "## Analyzing and fitting interferometric visibility datasets of circumstellar rings"
   ]
  },
  {
   "cell_type": "markdown",
   "metadata": {},
   "source": [
    "Bringing your data from archive to paper-ready plots requires several steps, which we will follow and execute in this Notebook. Built in Python 3 and with CASA 5.4.0, but may (should) handle other versions."
   ]
  },
  {
   "cell_type": "markdown",
   "metadata": {},
   "source": [
    "## Step 0: Create list with all requested inputs"
   ]
  },
  {
   "cell_type": "markdown",
   "metadata": {},
   "source": [
    "Here you need to decide if you are doing imaging and/or fitting and/or \n",
    "input some parameters that are needed for the imaging and/or fitting and/or postprocessing.\n"
   ]
  },
  {
   "cell_type": "code",
   "execution_count": 19,
   "metadata": {},
   "outputs": [
    {
     "name": "stdout",
     "output_type": "stream",
     "text": [
      "Directory structure for object GJ14 already exists at /d1/boudica1/lmatra\n"
     ]
    }
   ],
   "source": [
    "import numpy as np\n",
    "import os\n",
    "\n",
    "#Decide which you want to do, imaging and/or fitting and/or postprocessing\n",
    "imaging=True\n",
    "fit=False\n",
    "postproc=False\n",
    "\n",
    "casapath='/d1/boudica1/casa-release-5.4.0-68/bin'\n",
    "sourcetag='GJ14'\n",
    "workingdir='/d1/boudica1/lmatra'\n",
    "vis=['GJ14_calibratedvis_cont.ms']\n",
    "nvis=len(vis)\n",
    "if not os.path.exists(workingdir+'/'+sourcetag):\n",
    "    os.system('mkdir '+workingdir+'/'+sourcetag)\n",
    "    print('Creating directory structure for object '+sourcetag+' at '+workingdir)\n",
    "else:\n",
    "    print('Directory structure for object '+sourcetag+' already exists at '+workingdir)\n",
    "\n",
    "if imaging:\n",
    "    #Imaging parameters\n",
    "    mosaic=False\n",
    "    if mosaic:\n",
    "        phasecenter='J2000 22h57m39.449700 -29d37m22.68681'\n",
    "    else:\n",
    "        phasecenter=''\n",
    "    weighting='natural'\n",
    "    if weighting=='briggs':\n",
    "        robust=0.5\n",
    "    else:\n",
    "        robust=''\n",
    "    uvtaper=''\n",
    "    interactive=True\n",
    "    #Save parameters\n",
    "    np.save(workingdir+'/'+sourcetag+'/imagepars.npy', [casapath,sourcetag,workingdir,vis,nvis,mosaic,phasecenter,weighting,robust,uvtaper,interactive])\n",
    "\n",
    "if fit:\n",
    "    #Parameters for fit\n",
    "    Lstar=0.111  #Solar luminosities\n",
    "    dist=14.7  #pc\n",
    "    imsize=24.0     #arcsec, used for radiative transfer. >>2x belt outer radius, but not too large or it will slow down computation.\n",
    "    #imsize above is also the size of the grid over which the model is setup in RADMC. No disk will be put beyond this.\n",
    "\n",
    "    #Add disk parameters\n",
    "    fluxdensity=1.8e-3 #Jy\n",
    "    rmid=99.0/dist # Radial peak location of Gaussian surface density, arcsec\n",
    "    sigma=32.0/2.35/dist #standard deviation of radial Gaussian surface density\n",
    "    useh=True\n",
    "    if useh:\n",
    "        h=0.05 #aspect ratio of belt, constant with radius, whose vertical density structure at radius r is a Gaussian with width hr.\n",
    "    else:\n",
    "        h=0.03\n",
    "    incl=65.0 #inclination, degrees from face-on\n",
    "    posang=5.5 #position angle, East of North.\n",
    "\n",
    "    #Add star if wanted/needed\n",
    "    star=True\n",
    "    if star:\n",
    "        fstar=4e-5 #Jy\n",
    "    \n",
    "    #Add extra parameters independently for each of the visibility datasets.\n",
    "    if nvis>=1:\n",
    "        dRA=[-0.07,0.1,0.1] #RA offset of star+disk from phase center of observations\n",
    "        dDec=[0.14,-0.1,-0.1] #Dec offset of star+disk from phase center of observations\n",
    "        wtfact=[0.289,0.289,1e-4] #factors by which incorrect weights should be multiplied by\n",
    "    else:\n",
    "        dRA=[-0.07] #RA offset of star+disk from phase center of observations\n",
    "        dDec=[0.14] #Dec offset of star+disk from phase center of observations\n",
    "        wtfact=[0.289] #factors by which incorrect weights should be multiplied by\n",
    "\n",
    "    #Add galaxies if needed\n",
    "    ngal=0\n",
    "    if ngal>=1:\n",
    "        resolved=[True, False, False] # if definitely resolved, use 2D Gaussian as galaxy model (6 free parameters), and set resolved=True for that galaxy. \n",
    "    #Otherwise, use point source (3 free parameters) by setting resolved=False.\n",
    "        fbkg=[285e-6,500e-6,500e-6] #Flux (Jy)\n",
    "        dRAbkg=[2.97,2.97,2.97] # RA offset (\")\n",
    "        dDecbkg=[1.81,1.81,1.81] # Dec offset (\")\n",
    "        sigmagal=[0.3,0,0] # sigma (\")\n",
    "        PAgal=[28.0,0,0] # PA (deg)\n",
    "        incgal=[49.0,0,0] # inc (deg)\n",
    "    #Save parameters\n",
    "    np.save(workingdir+'/'+sourcetag+'/fitpars.npy', [Lstar,dist,imsize, fluxdensity,rmid,sigma,useh,h,incl,posang,star,fstar,nvis,dRA,dDec,wtfact\n",
    "             ,ngal,resolved,fbkg,dRAbkg,dDecbkg,sigmagal,PAgal,incgal])\n"
   ]
  },
  {
   "cell_type": "code",
   "execution_count": null,
   "metadata": {},
   "outputs": [],
   "source": []
  }
 ],
 "metadata": {
  "kernelspec": {
   "display_name": "Python 3",
   "language": "python",
   "name": "python3"
  },
  "language_info": {
   "codemirror_mode": {
    "name": "ipython",
    "version": 3
   },
   "file_extension": ".py",
   "mimetype": "text/x-python",
   "name": "python",
   "nbconvert_exporter": "python",
   "pygments_lexer": "ipython3",
   "version": "3.7.3"
  }
 },
 "nbformat": 4,
 "nbformat_minor": 2
}
