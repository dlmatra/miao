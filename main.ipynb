{
 "cells": [
  {
   "cell_type": "markdown",
   "metadata": {},
   "source": [
    "## Analyzing and fitting interferometric visibility datasets of circumstellar rings"
   ]
  },
  {
   "cell_type": "markdown",
   "metadata": {},
   "source": [
    "Bringing your data from archive to paper-ready plots requires several steps, which we will follow and execute in this Notebook. Built in **Python 3.7.3 and with CASA 5.4.0**, but is likely to handle other versions.\n",
    "\n",
    "**GALARIO package**:\n",
    "https://github.com/mtazzari/galario\n",
    "**needs to be installed within local Python 3 installation**, e.g. with conda with a command like: 'conda install -c conda-forge galario'. This code was tested with version 1.2\n",
    "\n",
    "**RADMC-3D version 0.41**:\n",
    "http://www.ita.uni-heidelberg.de/~dullemond/software/radmc-3d/index.html\n",
    "comes with the package, in a version that has been slightly modified to avoid print statements if nothing goes wrong, and hence save time. **This however needs to be installed** through: 'cd radmc-gala/radmc-3d/version_0.41/srcnoprint' and then 'make'. It is strongly advised that the user familiarises themselves with the ray-tracing capabilities of radmc-3d, although this knowledge is not strictly needed to run radmc-gala.\n",
    "The **radmc3dPy** add-on: https://www.ast.cam.ac.uk/~juhasz/radmc3dPyDoc/index.html is used to read radmc-3d files into Python, and is included within the radmc-3d package.\n",
    "\n",
    "**Astropy**:\n",
    "https://www.astropy.org/\n",
    "**needs to be installed within local Python 3 installation**, to enable read and write of FITS format files. Installation is as simple as: 'conda install astropy' or 'pip install astropy'. This code was tested with version 3.0.4\n",
    "\n",
    "**Tqdm**:\n",
    "https://pypi.org/project/tqdm/\n",
    "**needs to be installed within local Python 3 installation**, to enable a progress bar to appear during MCMC run.\n",
    "Installation is as simple as: 'conda install -c conda-forge tqdm'. This code was tested with version 4.36.1\n",
    "\n",
    "**Corner**:\n",
    "https://corner.readthedocs.io/en/latest/\n",
    "**needs to be installed within local Python 3 installation**, to enable production of corner plots.\n",
    "Installation is as simple as: 'conda install -c astropy corner'. This code was tested with version 2.0.1"
   ]
  },
  {
   "cell_type": "markdown",
   "metadata": {},
   "source": [
    "## Step 0: Create list with all requested inputs"
   ]
  },
  {
   "cell_type": "markdown",
   "metadata": {},
   "source": [
    "Here you need to decide if you are doing imaging and/or fitting and/or \n",
    "input some parameters that are needed for the imaging and/or fitting and/or postprocessing.\n"
   ]
  },
  {
   "cell_type": "code",
   "execution_count": 1,
   "metadata": {},
   "outputs": [
    {
     "name": "stdout",
     "output_type": "stream",
     "text": [
      "Directory for object GJ14 already exists at /d1/boudica1/lmatra\n"
     ]
    }
   ],
   "source": [
    "import numpy as np\n",
    "import os\n",
    "import pickle\n",
    "\n",
    "#Decide which you want to do, imaging and/or fitting and/or postprocessing\n",
    "imaging=True\n",
    "fit=True\n",
    "postproc=True\n",
    "\n",
    "radmcgalapath='/d1/boudica1/lmatra/radmc-gala'\n",
    "casapath='/d1/boudica1/casa-release-5.4.0-68.el6/bin'\n",
    "sourcetag='GJ14'\n",
    "workingdir='/d1/boudica1/lmatra'\n",
    "vis=['/sma/SMAusers/lmatra/REASONS_ALMA/cycle5/GJ14/calibratedms/GJ14_calibratedvis_cont.ms']\n",
    "nvis=len(vis)\n",
    "if not os.path.exists(workingdir+'/'+sourcetag):\n",
    "    os.mkdir(workingdir+'/'+sourcetag)\n",
    "    print('Creating directory for object '+sourcetag+' at '+workingdir)\n",
    "else:\n",
    "    print('Directory for object '+sourcetag+' already exists at '+workingdir)\n",
    "\n",
    "if imaging:\n",
    "    #Imaging parameters\n",
    "    mosaic=False\n",
    "    if mosaic:\n",
    "        mosaic=True\n",
    "        phasecenter='J2000 22h57m39.449700 -29d37m22.68681'\n",
    "    else:\n",
    "        phasecenter=''\n",
    "    weighting='natural'\n",
    "    if weighting=='briggs':\n",
    "        robust=0.5\n",
    "    else:\n",
    "        robust=''\n",
    "    uvtaper=['']\n",
    "    interactive=True\n",
    "\n",
    "if fit:\n",
    "    #Parameters for fit\n",
    "    Lstar=0.111  #Solar luminosities\n",
    "    dist=14.7  #pc\n",
    "    imsize=24.0     #arcsec, used for radiative transfer. >>2x belt outer radius, but not too large or it will slow down computation.\n",
    "    #imsize above is also the size of the grid over which the model is setup in RADMC. No disk will be put beyond this.\n",
    "\n",
    "    #Add disk parameters\n",
    "    fluxdensity=1.8e-3 #Jy\n",
    "    fluxdensity_dwn, fluxdensity_up = [0.1e-3, 50e-3]\n",
    "    rmid=99.0/dist # Radial peak location of Gaussian surface density, arcsec\n",
    "    rmid_dwn, rmid_up = [0.3, 12.0]\n",
    "    sigma=32.0/2.35/dist #standard deviation of radial Gaussian surface density\n",
    "    sigma_dwn, sigma_up = [0.05, 'halfrmid'] #halfrmid is special setup that enables maximum sigma to be half whatever rmid\n",
    "    #is in current model evaluation.\n",
    "    useh=True\n",
    "    if useh:\n",
    "        h=0.05 #aspect ratio of belt, constant with radius, whose vertical density structure at radius r is a Gaussian with width hr.\n",
    "        h_dwn, h_up = [0.005, 0.2]\n",
    "    else:\n",
    "        h=0.03\n",
    "    incl=65.0 #inclination, degrees from face-on\n",
    "    incl_dwn, incl_up = [0.1, 89.99]\n",
    "    posang=5.5 #position angle, East of North. **Needs to be between 0 and 180 degrees!**\n",
    "    if posang<45.0 or posang>135.0:\n",
    "        posang_dwn, posang_up = [-90.0, 90.0]\n",
    "    else:\n",
    "        posang_dwn, posang_up = [0.0, 180.0]\n",
    "       \n",
    "    \n",
    "    #Add star if wanted/needed\n",
    "    star=True\n",
    "    if star:\n",
    "        fstar=4e-5 #Jy\n",
    "        fstar_dwn, fstar_up = [1e-6, 2e-3]\n",
    "    \n",
    "    #Add extra parameters independently for each of the visibility datasets.\n",
    "    if nvis>1:\n",
    "        dRA=[-0.07,0.1,0.1] #RA offset of star+disk from phase center of observations\n",
    "        dRA_dwn=[-3.0,-3.0,-3.0]\n",
    "        dRA_up=[3.0,3.0,3.0]\n",
    "        dDec=[0.14,-0.1,-0.1] #Dec offset of star+disk from phase center of observations\n",
    "        dDec_dwn=[-3.0,-3.0,-3.0]\n",
    "        dDec_up=[3.0,3.0,3.0]\n",
    "        wtfact=[0.289,0.289,1e-4] #factors by which incorrect weights should be multiplied by\\\n",
    "        wtfact_dwn=[1e-6,1e-6,1e-6]\n",
    "        wtfact_up=[10.0,10.0,10.0]\n",
    "    else:\n",
    "        dRA=[-0.07] #RA offset of star+disk from phase center of observations\n",
    "        dRA_dwn=[-3.0]\n",
    "        dRA_up=[3.0]\n",
    "        dDec=[0.14] #Dec offset of star+disk from phase center of observations\n",
    "        dDec_dwn=[-3.0]\n",
    "        dDec_up=[3.0]\n",
    "        wtfact=[0.289] #factors by which incorrect weights should be multiplied by\n",
    "        wtfact_dwn=[1e-6]\n",
    "        wtfact_up=[10.0]\n",
    "\n",
    "    #Add galaxies if needed\n",
    "    ngal=0\n",
    "    if ngal>=1:\n",
    "        resolved=[True, False, False] # if definitely resolved, use 2D Gaussian as galaxy model (6 free parameters), and set resolved=True for that galaxy. \n",
    "    #Otherwise, use point source (3 free parameters) by setting resolved=False.\n",
    "        fbkg=[285e-6,500e-6,500e-6] #Flux (Jy)\n",
    "        fbkg_dwn=[1e-6,1e-6,1e-6]\n",
    "        fbkg_up=[10e-3,10e-3,10e-3]\n",
    "        dRAbkg=[2.97,2.97,2.97] # RA offset (\")\n",
    "        dRAbkg_dwn=[x-3.0 for x in dRAbkg]\n",
    "        dRAbkg_up=[x+3.0 for x in dRAbkg]\n",
    "        dDecbkg=[1.81,1.81,1.81] # Dec offset (\")\n",
    "        dDecbkg_dwn=[x-3.0 for x in dDecbkg]\n",
    "        dDecbkg_up=[x+3.0 for x in dDecbkg]\n",
    "        sigmagal=[0.3,0,0] # sigma (\")\n",
    "        sigmagal_dwn=[0.05,0.05,0.05]\n",
    "        sigmagal_up=[1.0,1.0,1.0]\n",
    "        PAgal=[28.0,0,0] # PA (deg), East of North. **Needs to be between 0 and 180 degrees!**\n",
    "        PAgal_dwn=[]\n",
    "        PAgal_up=[]\n",
    "        for i in PAgal:\n",
    "            if PAgal<45.0 or PAgal>135.0:\n",
    "                PAgal_dwn.append(-90.0)\n",
    "                PAgal_up.append(90.0)\n",
    "            else:\n",
    "                PAgal_dwn.append(0.0)\n",
    "                PAgal_up.append(180.0)   \n",
    "        incgal=[49.0,0,0] # inc (deg)\n",
    "        incgal_dwn=[0.1,0.1,0.1]\n",
    "        incgal_up=[89.99,89.99,89.99]\n",
    "    else: \n",
    "        resolved=None\n",
    "        fbkg=None\n",
    "        dRAbkg=None\n",
    "        dDecbkg=None\n",
    "        sigmagal=None\n",
    "        PAgal=None\n",
    "        incgal=None\n",
    "        \n",
    "    #Now define array containing all initial parameters\n",
    "    ## NB DO NOT MODIFY ORDER AS SETUP_MCMC CODE WILL NOT RECOGNISE PARAMETERS CORRECTLY\n",
    "    pars_init=[fluxdensity, rmid, sigma, incl, posang]\n",
    "    priors_dwn=[fluxdensity_dwn, rmid_dwn, sigma_dwn, incl_dwn, posang_dwn]\n",
    "    priors_up=[fluxdensity_up, rmid_up, sigma_up, incl_up, posang_up]\n",
    "    if useh:\n",
    "        pars_init.append(h)\n",
    "        priors_dwn.append(h_dwn)\n",
    "        priors_up.append(h_up)\n",
    "    if star:\n",
    "        pars_init.append(fstar)\n",
    "        priors_dwn.append(fstar_dwn)\n",
    "        priors_up.append(fstar_up)\n",
    "    for i in np.arange(nvis):\n",
    "        pars_init.append(dRA[i])\n",
    "        priors_dwn.append(dRA_dwn[i])\n",
    "        priors_up.append(dRA_up[i])\n",
    "        pars_init.append(dDec[i])\n",
    "        priors_dwn.append(dDec_dwn[i])\n",
    "        priors_up.append(dDec_up[i])\n",
    "        pars_init.append(wtfact[i])\n",
    "        priors_dwn.append(wtfact_dwn[i])\n",
    "        priors_up.append(wtfact_up[i])\n",
    "    if ngal>=1:\n",
    "        for i in np.arange(ngal):\n",
    "            pars_init.append(fbkg[i])\n",
    "            priors_dwn.append(fbkg_dwn[i])\n",
    "            priors_up.append(fbkg_up[i])\n",
    "            pars_init.append(dRAbkg[i])\n",
    "            priors_dwn.append(dRAbkg_dwn[i])\n",
    "            priors_up.append(dRAbkg_up[i])\n",
    "            pars_init.append(dDecbkg[i])\n",
    "            priors_dwn.append(dDecbkg_dwn[i])\n",
    "            priors_up.append(dDecbkg_up[i])\n",
    "            if resolved[i]:\n",
    "                pars_init.append(sigmagal[i])\n",
    "                priors_dwn.append(sigmagal_dwn[i])\n",
    "                priors_up.append(sigmagal_up[i])\n",
    "                pars_init.append(PAgal[i])\n",
    "                priors_dwn.append(PAgal_dwn[i])\n",
    "                priors_up.append(PAgal_up[i])\n",
    "                pars_init.append(incgal[i])\n",
    "                priors_dwn.append(incgal_dwn[i])\n",
    "                priors_up.append(incgal_up[i])\n",
    "\n"
   ]
  },
  {
   "cell_type": "markdown",
   "metadata": {},
   "source": [
    "## Step 1: Create directory structure"
   ]
  },
  {
   "cell_type": "code",
   "execution_count": 2,
   "metadata": {},
   "outputs": [
    {
     "name": "stdout",
     "output_type": "stream",
     "text": [
      "Creating directory structure\n",
      "Will be carrying out imaging\n",
      "Will be carrying out visibility fit\n",
      "Will be carrying out postprocessing\n",
      "cp: cannot stat `/d1/boudica1/lmatra/radmc-gala/utils/evaluatemodel_radmc3d.py': No such file or directory\n",
      "cp: cannot stat `/d1/boudica1/lmatra/radmc-gala/utils/uvresidualtoms.py': No such file or directory\n",
      "cp: cannot stat `/d1/boudica1/lmatra/radmc-gala/utils/makeuvdeprojplot_simple_multiple.py': No such file or directory\n",
      "cp: cannot stat `/d1/boudica1/lmatra/radmc-gala/utils/plotimage.py': No such file or directory\n",
      "cp: cannot stat `/d1/boudica1/lmatra/radmc-gala/utils/imagecombo.py': No such file or directory\n"
     ]
    }
   ],
   "source": [
    "print('Creating directory structure')\n",
    "os.chdir(workingdir+'/'+sourcetag)\n",
    "\n",
    "#Imaging\n",
    "if imaging:\n",
    "    print('Will be carrying out imaging')\n",
    "    for i in ['calibratedms', 'imaging']:\n",
    "        if not os.path.exists(workingdir+'/'+sourcetag+'/'+i):\n",
    "            os.mkdir(workingdir+'/'+sourcetag+'/'+i)\n",
    "    !cp -r {radmcgalapath}/utils/mstonumpyortxt_multiple.py {workingdir}/{sourcetag}/calibratedms/.\n",
    "    for i in np.arange(len(vis)):\n",
    "        if not os.path.exists('calibratedms/'+vis[i].rsplit('/',1)[1]):\n",
    "            !cp -r {vis[i]} {workingdir}/{sourcetag}/calibratedms/.\n",
    "        vis[i]=vis[i].rsplit('/',1)[1]\n",
    "        #print(vis[i])\n",
    "    !cp -r {radmcgalapath}/utils/imagingscript_multiple.py {workingdir}/{sourcetag}/imaging/.  \n",
    "    #Save imaging parameters\n",
    "    pickle.dump([sourcetag,workingdir,vis,nvis,mosaic,phasecenter,weighting,robust,uvtaper,interactive], open(workingdir+'/'+sourcetag+'/imaging/imagepars.npy', 'wb'), protocol=2)\n",
    "\n",
    "    \n",
    "#Fitting\n",
    "if fit: \n",
    "    print('Will be carrying out visibility fit')\n",
    "    if not os.path.exists(workingdir+'/'+sourcetag+'/'+'imaging'):\n",
    "        sys.exit('Carry out imaging first: need .pb primary beam image')\n",
    "    for i in ['uvfit']:\n",
    "        if not os.path.exists(workingdir+'/'+sourcetag+'/'+i):\n",
    "            os.mkdir(workingdir+'/'+sourcetag+'/'+i)\n",
    "    !cp -r {radmcgalapath}/utils/setup_mcmc.py {workingdir}/{sourcetag}/uvfit/. \n",
    "    !cp -r {radmcgalapath}/utils/problem_setup_cont_gauss.py {workingdir}/{sourcetag}/uvfit/.  \n",
    "    !cp -r {radmcgalapath}/utils/dustkappa_10445.micr.inp {workingdir}/{sourcetag}/uvfit/. \n",
    "    #Predict names of primary beam files according to standard naming convention\n",
    "    pbfilenames=[[] for x in vis]\n",
    "    for i in np.arange(nvis):\n",
    "        if not imaging:\n",
    "            vis[i]=vis[i].rsplit('/',1)[1]\n",
    "        pbfilenames[i]=vis[i][:-3]+'_'+weighting+robust+'_pb.fits'\n",
    "    #Save fit parameters\n",
    "    pickle.dump([pbfilenames,vis,nvis,radmcgalapath,workingdir,sourcetag,Lstar,dist,imsize,useh,star\n",
    "                 ,ngal,resolved, pars_init, priors_dwn, priors_up], open(workingdir+'/'+sourcetag+'/uvfit/fitpars.npy', 'wb'), protocol=2)\n",
    "\n",
    "#Postprocessing\n",
    "if postproc:\n",
    "    if not (imaging or fit):\n",
    "        print ('Will be carrying out postprocessing ONLY')\n",
    "    else:\n",
    "        print('Will be carrying out postprocessing')\n",
    "    if not os.path.exists(workingdir+'/'+sourcetag+'/'+'uvfit'):\n",
    "        sys.exit('Carry out fit before POSTprocessing!')\n",
    "    for i in ['analysis', 'plots', 'uvfit/evaluation']:\n",
    "        if not os.path.exists(workingdir+'/'+sourcetag+'/'+i):\n",
    "            os.mkdir(workingdir+'/'+sourcetag+'/'+i)\n",
    "    !cp -r {radmcgalapath}/utils/evaluatemodel_radmc3d.py {workingdir}/{sourcetag}/uvfit/. \n",
    "    !cp -r {radmcgalapath}/utils/uvresidualtoms.py {workingdir}/{sourcetag}/uvfit/. \n",
    "    !cp -r {radmcgalapath}/utils/makeuvdeprojplot_simple_multiple.py {workingdir}/{sourcetag}/uvfit/.\n",
    "    !cp -r {radmcgalapath}/utils/plotimage.py {workingdir}/{sourcetag}/analysis/.  \n",
    "    !cp -r {radmcgalapath}/utils/imagecombo.py {workingdir}/{sourcetag}/analysis/. \n",
    "   \n"
   ]
  },
  {
   "cell_type": "markdown",
   "metadata": {},
   "source": [
    "## Step 2: Carry out imaging via imagingscript_multiple CASA script\n",
    "First convert visibilities in CASA MS format to a python save file"
   ]
  },
  {
   "cell_type": "code",
   "execution_count": 3,
   "metadata": {},
   "outputs": [
    {
     "name": "stdout",
     "output_type": "stream",
     "text": [
      "\n",
      "=========================================\n",
      "The start-up time of CASA may vary\n",
      "depending on whether the shared libraries\n",
      "are cached or not.\n",
      "=========================================\n",
      "\n",
      "\u001b]0;IPython: GJ14/calibratedms\u0007IPython 5.1.0 -- An enhanced Interactive Python.\n",
      "\n",
      "CASA 5.4.0-68   -- Common Astronomy Software Applications\n",
      "\n",
      "--> CrashReporter initialized.\n",
      "Found data with 225826 uv points per channel\n",
      "with 1 channels per SPW and 2 polarizations,\n",
      "8 SPWs and Channel 0 frequency of 1st SPW of 243.116401246 GHz\n",
      "corresponding to 1.23311302102 mm\n",
      "Datasets has baselines between 11.6500031801 and 371.63538144 m\n"
     ]
    }
   ],
   "source": [
    "os.chdir('calibratedms')\n",
    "!{casapath}/casa -c mstonumpyortxt_multiple.py"
   ]
  },
  {
   "cell_type": "markdown",
   "metadata": {},
   "source": [
    "Read in visibilities into Python, and use Galario to figure out ideal cell size and image size.\n",
    "Typically half the suggested image size is OK."
   ]
  },
  {
   "cell_type": "code",
   "execution_count": 4,
   "metadata": {},
   "outputs": [
    {
     "name": "stdout",
     "output_type": "stream",
     "text": [
      "Pixel size (arcsec) and number of pixels required for dataset GJ14_calibratedvis_cont.ms:\n",
      "0.06843568580635173 512.0\n",
      "Pixel size (arcsec) and number of pixels that will be used:\n",
      "0.06843568580635173 512\n"
     ]
    }
   ],
   "source": [
    "from galario.double import get_image_size\n",
    "u=[[] for x in vis]\n",
    "v=[[] for x in vis]\n",
    "Re=[[] for x in vis]\n",
    "Im=[[] for x in vis]\n",
    "w=[[] for x in vis]\n",
    "nxy=[[] for x in vis]\n",
    "dxy=[[] for x in vis]\n",
    "for i in np.arange(nvis):\n",
    "    u[i], v[i], Re[i], Im[i], w[i] = np.load(vis[i][:-3]+'.npy')\n",
    "    nxy[i], dxy[i] = get_image_size(u, v)\n",
    "    nxy[i]/=2\n",
    "    print('Pixel size (arcsec) and number of pixels required for dataset '+vis[i]+':')\n",
    "    print(dxy[i]*180.0/np.pi*3600, nxy[i])    \n",
    "\n",
    "#Figure out pix size and number for concatenated image.\n",
    "dxyall=np.min(dxy)\n",
    "nxyall=np.int(np.ceil(np.max(np.asarray(dxy)*np.asarray(nxy))/dxyall/2.0)*2)\n",
    "print('Pixel size (arcsec) and number of pixels that will be used:')\n",
    "print(dxyall*180.0/np.pi*3600, nxyall)    \n",
    "\n",
    "\n",
    "    \n",
    "#Save pixel sizes and number of pixels, for imaging and fitting\n",
    "pickle.dump([dxyall, np.int(nxyall)], open(workingdir+'/'+sourcetag+'/calibratedms/pixinfo.npy', 'wb'), protocol=2)\n"
   ]
  },
  {
   "cell_type": "markdown",
   "metadata": {},
   "source": [
    "Then run the CLEANing using CASA's tclean.\n",
    "\n",
    "Run this within CASA locally. There is no way around this if you want to use the interactive cleaning mode!"
   ]
  },
  {
   "cell_type": "code",
   "execution_count": 5,
   "metadata": {
    "scrolled": true
   },
   "outputs": [
    {
     "ename": "NameError",
     "evalue": "name 'execfile' is not defined",
     "output_type": "error",
     "traceback": [
      "\u001b[0;31m---------------------------------------------------------------------------\u001b[0m",
      "\u001b[0;31mNameError\u001b[0m                                 Traceback (most recent call last)",
      "\u001b[0;32m<ipython-input-5-767c6c6857c0>\u001b[0m in \u001b[0;36m<module>\u001b[0;34m()\u001b[0m\n\u001b[1;32m      2\u001b[0m \u001b[0;31m#THE COMMAND BELOW to be run on local computer for CASA to bring up interactive prompt:\u001b[0m\u001b[0;34m\u001b[0m\u001b[0;34m\u001b[0m\u001b[0;34m\u001b[0m\u001b[0m\n\u001b[1;32m      3\u001b[0m \u001b[0;31m#Within your terminal, go to the workingdir+sourcetag+'/imaging' folder, open CASA, and run:\u001b[0m\u001b[0;34m\u001b[0m\u001b[0;34m\u001b[0m\u001b[0;34m\u001b[0m\u001b[0m\n\u001b[0;32m----> 4\u001b[0;31m \u001b[0mexecfile\u001b[0m\u001b[0;34m(\u001b[0m\u001b[0;34m'imagingscript_multiple.py'\u001b[0m\u001b[0;34m)\u001b[0m\u001b[0;34m\u001b[0m\u001b[0;34m\u001b[0m\u001b[0m\n\u001b[0m",
      "\u001b[0;31mNameError\u001b[0m: name 'execfile' is not defined"
     ]
    }
   ],
   "source": [
    "os.chdir('../imaging')\n",
    "#THE COMMAND BELOW to be run on local computer for CASA to bring up interactive prompt:\n",
    "#Within your terminal, go to the workingdir+sourcetag+'/imaging' folder, open CASA, and run:\n",
    "execfile('imagingscript_multiple.py')"
   ]
  },
  {
   "cell_type": "markdown",
   "metadata": {},
   "source": [
    "## Step 3: Run visibility fit by forward-modeling with RADMC-3D (ray tracing) and GALARIO (for FFT) through emcee package"
   ]
  },
  {
   "cell_type": "markdown",
   "metadata": {},
   "source": [
    "Probably should define fit parameters here once we have seen the disk."
   ]
  },
  {
   "cell_type": "code",
   "execution_count": 6,
   "metadata": {
    "scrolled": true
   },
   "outputs": [
    {
     "name": "stdout",
     "output_type": "stream",
     "text": [
      "Fast (Fortran90) Mie-scattering module could not be imported. Falling back to the slower Python version.\n",
      "Setting up sampler...\n"
     ]
    },
    {
     "name": "stderr",
     "output_type": "stream",
     "text": [
      "/d1/boudica1/anaconda3/lib/python3.7/site-packages/emcee/ensemble.py:258: RuntimeWarning: Initial state is not linearly independent and it will not allow a full exploration of parameter space\n",
      "  category=RuntimeWarning,\n",
      "  0%|          | 0/1000 [00:00<?, ?it/s]"
     ]
    },
    {
     "name": "stdout",
     "output_type": "stream",
     "text": [
      "WARNING - Grid may not be big enough. Max radius set to 153.46808510638297 but outer 2sigma of Gaussian ring is 154.22876554870012\n",
      "WARNING - Grid may not be big enough. Max radius set to 153.46808510638297 but outer 2sigma of Gaussian ring is 154.02416673099893\n"
     ]
    },
    {
     "name": "stderr",
     "output_type": "stream",
     "text": [
      "  0%|          | 2/1000 [00:19<2:38:51,  9.55s/it]"
     ]
    },
    {
     "name": "stdout",
     "output_type": "stream",
     "text": [
      "WARNING - Grid may not be big enough. Max radius set to 153.46808510638297 but outer 2sigma of Gaussian ring is 161.58166200969552\n"
     ]
    },
    {
     "name": "stderr",
     "output_type": "stream",
     "text": [
      "\r",
      "  0%|          | 3/1000 [00:28<2:37:00,  9.45s/it]"
     ]
    },
    {
     "name": "stdout",
     "output_type": "stream",
     "text": [
      "WARNING - Grid may not be big enough. Max radius set to 153.46808510638297 but outer 2sigma of Gaussian ring is 154.76373376746986\n"
     ]
    },
    {
     "name": "stderr",
     "output_type": "stream",
     "text": [
      "\r",
      "  0%|          | 4/1000 [00:38<2:37:27,  9.48s/it]"
     ]
    },
    {
     "name": "stdout",
     "output_type": "stream",
     "text": [
      "WARNING - Grid may not be big enough. Max radius set to 153.46808510638297 but outer 2sigma of Gaussian ring is 153.68478917397238\n",
      "WARNING - Grid may not be big enough. Max radius set to 153.46808510638297 but outer 2sigma of Gaussian ring is 154.56666532189834\n",
      "WARNING - Grid may not be big enough. Max radius set to 153.46808510638297 but outer 2sigma of Gaussian ring is 167.67981740058042\n"
     ]
    },
    {
     "name": "stderr",
     "output_type": "stream",
     "text": [
      "\r",
      "  0%|          | 5/1000 [00:47<2:36:32,  9.44s/it]"
     ]
    },
    {
     "name": "stdout",
     "output_type": "stream",
     "text": [
      "WARNING - Grid may not be big enough. Max radius set to 153.46808510638297 but outer 2sigma of Gaussian ring is 175.39465625486238\n"
     ]
    },
    {
     "name": "stderr",
     "output_type": "stream",
     "text": [
      "\r",
      "  1%|          | 6/1000 [00:57<2:37:55,  9.53s/it]"
     ]
    },
    {
     "name": "stdout",
     "output_type": "stream",
     "text": [
      "WARNING - Grid may not be big enough. Max radius set to 153.46808510638297 but outer 2sigma of Gaussian ring is 166.25168058321054\n"
     ]
    },
    {
     "name": "stderr",
     "output_type": "stream",
     "text": [
      "\r",
      "  1%|          | 7/1000 [01:06<2:38:03,  9.55s/it]"
     ]
    },
    {
     "name": "stdout",
     "output_type": "stream",
     "text": [
      "WARNING - Grid may not be big enough. Max radius set to 153.46808510638297 but outer 2sigma of Gaussian ring is 156.27757925513808\n",
      "WARNING - Grid may not be big enough. Max radius set to 153.46808510638297 but outer 2sigma of Gaussian ring is 154.1588010589295\n",
      "WARNING - Grid may not be big enough. Max radius set to 153.46808510638297 but outer 2sigma of Gaussian ring is 155.08105324331467\n"
     ]
    },
    {
     "name": "stderr",
     "output_type": "stream",
     "text": [
      "\r",
      "  1%|          | 8/1000 [01:16<2:38:34,  9.59s/it]"
     ]
    },
    {
     "name": "stdout",
     "output_type": "stream",
     "text": [
      "WARNING - Grid may not be big enough. Max radius set to 153.46808510638297 but outer 2sigma of Gaussian ring is 153.8505648445022\n",
      "WARNING - Grid may not be big enough. Max radius set to 153.46808510638297 but outer 2sigma of Gaussian ring is 156.09378924391945\n",
      "WARNING - Grid may not be big enough. Max radius set to 153.46808510638297 but outer 2sigma of Gaussian ring is 156.4215748078063\n"
     ]
    },
    {
     "name": "stderr",
     "output_type": "stream",
     "text": [
      "\r",
      "  1%|          | 9/1000 [01:25<2:37:32,  9.54s/it]"
     ]
    },
    {
     "name": "stdout",
     "output_type": "stream",
     "text": [
      "WARNING - Grid may not be big enough. Max radius set to 153.46808510638297 but outer 2sigma of Gaussian ring is 166.01840765423123\n"
     ]
    },
    {
     "name": "stderr",
     "output_type": "stream",
     "text": [
      "\r",
      "  1%|          | 10/1000 [01:35<2:38:04,  9.58s/it]"
     ]
    },
    {
     "name": "stdout",
     "output_type": "stream",
     "text": [
      "WARNING - Grid may not be big enough. Max radius set to 153.46808510638297 but outer 2sigma of Gaussian ring is 159.99529960656963\n"
     ]
    },
    {
     "name": "stderr",
     "output_type": "stream",
     "text": [
      "\r",
      "  1%|          | 11/1000 [01:45<2:38:02,  9.59s/it]"
     ]
    },
    {
     "name": "stdout",
     "output_type": "stream",
     "text": [
      "WARNING - Grid may not be big enough. Max radius set to 153.46808510638297 but outer 2sigma of Gaussian ring is 155.1767086827052\n"
     ]
    },
    {
     "name": "stderr",
     "output_type": "stream",
     "text": [
      "\r",
      "  1%|          | 12/1000 [01:54<2:38:52,  9.65s/it]"
     ]
    },
    {
     "name": "stdout",
     "output_type": "stream",
     "text": [
      "WARNING - Grid may not be big enough. Max radius set to 153.46808510638297 but outer 2sigma of Gaussian ring is 153.77807590645318\n"
     ]
    },
    {
     "name": "stderr",
     "output_type": "stream",
     "text": [
      "\r",
      "  1%|▏         | 13/1000 [02:04<2:39:05,  9.67s/it]"
     ]
    },
    {
     "name": "stdout",
     "output_type": "stream",
     "text": [
      "WARNING - Grid may not be big enough. Max radius set to 153.46808510638297 but outer 2sigma of Gaussian ring is 154.12565814194005\n"
     ]
    },
    {
     "name": "stderr",
     "output_type": "stream",
     "text": [
      "  2%|▏         | 15/1000 [02:24<2:38:54,  9.68s/it]"
     ]
    },
    {
     "name": "stdout",
     "output_type": "stream",
     "text": [
      "WARNING - Grid may not be big enough. Max radius set to 153.46808510638297 but outer 2sigma of Gaussian ring is 154.88085782459478\n"
     ]
    },
    {
     "name": "stderr",
     "output_type": "stream",
     "text": [
      "  2%|▏         | 23/1000 [03:42<2:39:14,  9.78s/it]"
     ]
    },
    {
     "name": "stdout",
     "output_type": "stream",
     "text": [
      "emcee: Exception while calling your likelihood function:\n"
     ]
    },
    {
     "name": "stderr",
     "output_type": "stream",
     "text": [
      "\r",
      "  2%|▏         | 23/1000 [03:48<2:41:52,  9.94s/it]"
     ]
    },
    {
     "name": "stdout",
     "output_type": "stream",
     "text": [
      "emcee: Exception while calling your likelihood function:\n",
      "emcee: Exception while calling your likelihood function:\n",
      "emcee: Exception while calling your likelihood function:\n",
      "emcee: Exception while calling your likelihood function:\n",
      "emcee: Exception while calling your likelihood function:\n"
     ]
    },
    {
     "name": "stderr",
     "output_type": "stream",
     "text": [
      "KeyboardInterrupt\n"
     ]
    },
    {
     "name": "stdout",
     "output_type": "stream",
     "text": [
      "emcee: Exception while calling your likelihood function:\n",
      "emcee: Exception while calling your likelihood function:\n",
      "emcee: Exception while calling your likelihood function:\n",
      "emcee: Exception while calling your likelihood function:\n",
      "emcee: Exception while calling your likelihood function:\n",
      "emcee: Exception while calling your likelihood function:\n",
      "emcee: Exception while calling your likelihood function:\n",
      "  params: [ 1.73865491e-03  6.83980787e+00  9.70795225e-01  6.57574487e+01\n",
      "  5.36160442e+00  5.33409314e-02  4.26227242e-05 -6.61489325e-02\n",
      "  1.41082427e-01  2.89684855e-01]  params: [ 1.76631527e-03  7.15492161e+00  1.00146304e+00  6.49137833e+01\n",
      "  5.34768322e+00  6.10419162e-02  4.32106847e-05 -6.76063599e-02\n",
      "  1.26229335e-01  2.90413018e-01]  params: [ 1.90200135e-03  6.76589641e+00  9.33827720e-01  6.16610428e+01\n",
      "  5.88900137e+00  5.20315721e-02  4.13871664e-05 -6.90652402e-02\n",
      "  1.21511424e-01  2.86835206e-01]  params: [ 2.03503978e-03  7.01051804e+00  1.07006577e+00  6.48883045e+01\n",
      "  5.37475685e+00  5.31280002e-02  4.00487518e-05 -8.82539926e-02\n",
      "  1.16765704e-01  2.91668772e-01]  params: [ 1.82879241e-03  7.07230384e+00  9.57388027e-01  6.74053251e+01\n",
      "  6.98297168e+00  4.19242745e-02  3.84706028e-05 -7.14591816e-02\n",
      "  1.24670640e-01  2.77497193e-01]emcee: Exception while calling your likelihood function:\n",
      "  params: [ 1.83514855e-03  6.94222060e+00  9.42482742e-01  6.97852069e+01\n",
      "  5.49546026e+00  5.11812169e-02  3.85983523e-05 -6.97543317e-02\n",
      "  1.39770294e-01  2.87742743e-01]  params: [ 1.86503999e-03  6.93937335e+00  8.60158086e-01  6.56121723e+01\n",
      "  5.61174448e+00  5.48698398e-02  3.67222849e-05 -6.27735577e-02\n",
      "  1.50304356e-01  2.90445569e-01]\n",
      "  params: [ 1.61539505e-03  7.43464768e+00  1.05781638e+00  7.03856145e+01\n",
      "  5.98391147e+00  4.70453967e-02  4.25023226e-05 -6.77004504e-02\n",
      "  1.38061878e-01  2.88616782e-01]  params: [ 2.14670052e-03  7.66517800e+00  1.27689323e+00  7.04051658e+01\n",
      "  4.30522158e+00  5.86686867e-02  4.77847099e-05 -8.70775401e-02\n",
      "  1.46345519e-01  2.86501863e-01]\n",
      "  params: [ 1.78507902e-03  6.95919048e+00  9.85647402e-01  6.47370478e+01\n",
      "  5.58020684e+00  5.69592280e-02  4.22304310e-05 -6.88194929e-02\n",
      "  1.29828538e-01  2.88302822e-01]  params: [ 1.76212290e-03  6.69560212e+00  4.82173551e-01  6.47994290e+01\n",
      "  1.83544866e+00  5.87995984e-02  3.75347108e-05 -7.78344472e-02\n",
      "  1.69487950e-01  2.86798527e-01]\n",
      "  params: [ 2.06790153e-03  7.39598003e+00  1.09551398e+00  6.89926885e+01\n",
      "  8.51191874e+00  7.53112657e-02  3.30306985e-05 -3.75713468e-02\n",
      "  1.72673751e-01  2.91410117e-01]\n",
      "\n",
      "  params: [ 1.74671672e-03  6.56968662e+00  1.07456606e+00  6.74828950e+01\n",
      "  5.91631447e+00  5.44515227e-02  4.16652333e-05 -8.14792482e-02\n",
      "  1.35024385e-01  2.86819208e-01]\n",
      "  args: []\n",
      "\n",
      "  params: [ 1.82315172e-03  6.80010606e+00  9.05267209e-01  6.66560022e+01\n",
      "  5.60365128e+00  5.24754917e-02  3.68912267e-05 -6.67144216e-02\n",
      "  1.31473528e-01  2.88764688e-01]\n",
      "\n",
      "  args: []\n",
      "\n",
      "\n",
      "  args: []\n",
      "\n",
      "  args: []\n",
      "  args: []\n",
      "\n",
      "  kwargs: {}\n",
      "  args: []\n",
      "  args: []\n",
      "  args: []\n",
      "  args: []\n",
      "\n",
      "  kwargs: {}\n",
      "  args: []\n",
      "  args: []\n",
      "  kwargs: {}\n",
      "  args: []\n",
      "  kwargs: {}\n",
      "  args: []\n",
      "  kwargs: {}\n",
      "  exception:\n",
      "  kwargs: {}\n",
      "  kwargs: {}\n",
      "  kwargs: {}\n",
      "  kwargs: {}\n",
      "  args: []\n",
      "  exception:\n",
      "  kwargs: {}\n",
      "  kwargs: {}\n",
      "  exception:\n",
      "  exception:\n",
      "  kwargs: {}\n",
      "  kwargs: {}\n",
      "  exception:\n",
      "  exception:\n",
      "  exception:\n",
      "  exception:\n",
      "  exception:\n",
      "  kwargs: {}\n",
      "  exception:\n",
      "  exception:\n"
     ]
    },
    {
     "name": "stderr",
     "output_type": "stream",
     "text": [
      "Traceback (most recent call last):\n"
     ]
    },
    {
     "name": "stdout",
     "output_type": "stream",
     "text": [
      "  exception:\n",
      "  exception:\n"
     ]
    },
    {
     "name": "stderr",
     "output_type": "stream",
     "text": [
      "Traceback (most recent call last):\n",
      "Traceback (most recent call last):\n",
      "Traceback (most recent call last):\n",
      "  File \"/d1/boudica1/anaconda3/lib/python3.7/site-packages/emcee/ensemble.py\", line 546, in __call__\n",
      "    return self.f(x, *self.args, **self.kwargs)\n",
      "Traceback (most recent call last):\n",
      "  File \"/d1/boudica1/anaconda3/lib/python3.7/site-packages/emcee/ensemble.py\", line 546, in __call__\n",
      "    return self.f(x, *self.args, **self.kwargs)\n",
      "Traceback (most recent call last):\n",
      "  File \"/d1/boudica1/anaconda3/lib/python3.7/site-packages/emcee/ensemble.py\", line 546, in __call__\n",
      "    return self.f(x, *self.args, **self.kwargs)\n",
      "  File \"/d1/boudica1/lmatra/GJ14/uvfit/setup_mcmc.py\", line 192, in lnpostfn\n",
      "    problem_setup_cont_gauss.problem_setup([mdisk, p[1]*dist, p[2]*dist, h, rmin, rmax, nr, tcsize])\n",
      "Traceback (most recent call last):\n",
      "  File \"/d1/boudica1/anaconda3/lib/python3.7/site-packages/emcee/ensemble.py\", line 546, in __call__\n",
      "    return self.f(x, *self.args, **self.kwargs)\n",
      "Traceback (most recent call last):\n",
      "  File \"/d1/boudica1/lmatra/GJ14/uvfit/setup_mcmc.py\", line 202, in lnpostfn\n",
      "    imag     =     radmc3dPy.image.readImage(binary=True)\n",
      "  File \"/d1/boudica1/anaconda3/lib/python3.7/site-packages/emcee/ensemble.py\", line 546, in __call__\n",
      "    return self.f(x, *self.args, **self.kwargs)\n",
      "Traceback (most recent call last):\n",
      "Traceback (most recent call last):\n",
      "  File \"/d1/boudica1/anaconda3/lib/python3.7/site-packages/emcee/ensemble.py\", line 546, in __call__\n",
      "    return self.f(x, *self.args, **self.kwargs)\n"
     ]
    },
    {
     "name": "stdout",
     "output_type": "stream",
     "text": [
      "  exception:\n"
     ]
    },
    {
     "name": "stderr",
     "output_type": "stream",
     "text": [
      "  File \"/d1/boudica1/lmatra/GJ14/uvfit/problem_setup_cont_gauss.py\", line 109, in problem_setup\n",
      "    rhod[i,j]    = surfmassdens[i]*np.exp(-(rc[i]*np.sin(((np.pi/2e0)-tc[j]))/(np.sqrt(2.0)*H[i]))**2e0)/(np.sqrt(2.0*np.pi)*H[i])\n",
      "  File \"/d1/boudica1/anaconda3/lib/python3.7/site-packages/emcee/ensemble.py\", line 546, in __call__\n",
      "    return self.f(x, *self.args, **self.kwargs)\n",
      "  File \"/d1/boudica1/anaconda3/lib/python3.7/site-packages/emcee/ensemble.py\", line 546, in __call__\n",
      "    return self.f(x, *self.args, **self.kwargs)\n",
      "  File \"/d1/boudica1/lmatra/radmc-gala/radmc-3d/version_0.41/python/radmc3dPy/image.py\", line 1111, in readImage\n",
      "    dum.readImage(fname=fname, binary=binary, old=old)\n",
      "  File \"/d1/boudica1/lmatra/GJ14/uvfit/setup_mcmc.py\", line 202, in lnpostfn\n",
      "    imag     =     radmc3dPy.image.readImage(binary=True)\n",
      "Traceback (most recent call last):\n",
      "  File \"/d1/boudica1/lmatra/GJ14/uvfit/setup_mcmc.py\", line 202, in lnpostfn\n",
      "    imag     =     radmc3dPy.image.readImage(binary=True)\n",
      "  File \"/d1/boudica1/lmatra/GJ14/uvfit/setup_mcmc.py\", line 202, in lnpostfn\n",
      "    imag     =     radmc3dPy.image.readImage(binary=True)\n",
      "  File \"/d1/boudica1/lmatra/GJ14/uvfit/setup_mcmc.py\", line 202, in lnpostfn\n",
      "    imag     =     radmc3dPy.image.readImage(binary=True)\n",
      "  File \"/d1/boudica1/lmatra/radmc-gala/radmc-3d/version_0.41/python/radmc3dPy/image.py\", line 1111, in readImage\n",
      "    dum.readImage(fname=fname, binary=binary, old=old)\n",
      "Process ForkPoolWorker-5:\n",
      "  File \"/d1/boudica1/anaconda3/lib/python3.7/site-packages/emcee/ensemble.py\", line 546, in __call__\n",
      "    return self.f(x, *self.args, **self.kwargs)\n",
      "  File \"/d1/boudica1/anaconda3/lib/python3.7/site-packages/emcee/ensemble.py\", line 546, in __call__\n",
      "    return self.f(x, *self.args, **self.kwargs)\n",
      "  File \"/d1/boudica1/lmatra/radmc-gala/radmc-3d/version_0.41/python/radmc3dPy/image.py\", line 1111, in readImage\n",
      "    dum.readImage(fname=fname, binary=binary, old=old)\n",
      "Traceback (most recent call last):\n",
      "  File \"/d1/boudica1/lmatra/radmc-gala/radmc-3d/version_0.41/python/radmc3dPy/image.py\", line 724, in readImage\n",
      "    dum = np.fromfile(fname, count=4, dtype=int)\n",
      "  File \"/d1/boudica1/anaconda3/lib/python3.7/site-packages/emcee/ensemble.py\", line 546, in __call__\n",
      "    return self.f(x, *self.args, **self.kwargs)\n",
      "  File \"/d1/boudica1/lmatra/GJ14/uvfit/setup_mcmc.py\", line 202, in lnpostfn\n",
      "    imag     =     radmc3dPy.image.readImage(binary=True)\n",
      "  File \"/d1/boudica1/lmatra/radmc-gala/radmc-3d/version_0.41/python/radmc3dPy/image.py\", line 1111, in readImage\n",
      "    dum.readImage(fname=fname, binary=binary, old=old)\n",
      "  File \"/d1/boudica1/lmatra/radmc-gala/radmc-3d/version_0.41/python/radmc3dPy/image.py\", line 1111, in readImage\n",
      "    dum.readImage(fname=fname, binary=binary, old=old)\n",
      "Traceback (most recent call last):\n",
      "  File \"/d1/boudica1/lmatra/GJ14/uvfit/setup_mcmc.py\", line 202, in lnpostfn\n",
      "    imag     =     radmc3dPy.image.readImage(binary=True)\n",
      "  File \"/d1/boudica1/lmatra/GJ14/uvfit/setup_mcmc.py\", line 202, in lnpostfn\n",
      "    imag     =     radmc3dPy.image.readImage(binary=True)\n",
      "FileNotFoundError: [Errno 2] No such file or directory: 'image.bout'\n",
      "  File \"/d1/boudica1/lmatra/radmc-gala/radmc-3d/version_0.41/python/radmc3dPy/image.py\", line 724, in readImage\n",
      "    dum = np.fromfile(fname, count=4, dtype=int)\n",
      "Traceback (most recent call last):\n",
      "  File \"/d1/boudica1/lmatra/radmc-gala/radmc-3d/version_0.41/python/radmc3dPy/image.py\", line 724, in readImage\n",
      "    dum = np.fromfile(fname, count=4, dtype=int)\n",
      "  File \"/d1/boudica1/lmatra/GJ14/uvfit/setup_mcmc.py\", line 202, in lnpostfn\n",
      "    imag     =     radmc3dPy.image.readImage(binary=True)\n",
      "  File \"/d1/boudica1/lmatra/radmc-gala/radmc-3d/version_0.41/python/radmc3dPy/image.py\", line 1111, in readImage\n",
      "    dum.readImage(fname=fname, binary=binary, old=old)\n",
      "  File \"/d1/boudica1/lmatra/radmc-gala/radmc-3d/version_0.41/python/radmc3dPy/image.py\", line 724, in readImage\n",
      "    dum = np.fromfile(fname, count=4, dtype=int)\n",
      "Traceback (most recent call last):\n",
      "  File \"/d1/boudica1/lmatra/radmc-gala/radmc-3d/version_0.41/python/radmc3dPy/image.py\", line 724, in readImage\n",
      "    dum = np.fromfile(fname, count=4, dtype=int)\n",
      "  File \"/d1/boudica1/lmatra/GJ14/uvfit/setup_mcmc.py\", line 202, in lnpostfn\n",
      "    imag     =     radmc3dPy.image.readImage(binary=True)\n",
      "  File \"/d1/boudica1/anaconda3/lib/python3.7/site-packages/emcee/ensemble.py\", line 546, in __call__\n",
      "    return self.f(x, *self.args, **self.kwargs)\n",
      "  File \"/d1/boudica1/anaconda3/lib/python3.7/multiprocessing/process.py\", line 297, in _bootstrap\n",
      "    self.run()\n",
      "FileNotFoundError: [Errno 2] No such file or directory: 'image.bout'\n",
      "FileNotFoundError: [Errno 2] No such file or directory: 'image.bout'\n",
      "  File \"/d1/boudica1/lmatra/radmc-gala/radmc-3d/version_0.41/python/radmc3dPy/image.py\", line 724, in readImage\n",
      "    dum = np.fromfile(fname, count=4, dtype=int)\n",
      "  File \"/d1/boudica1/anaconda3/lib/python3.7/site-packages/emcee/ensemble.py\", line 546, in __call__\n",
      "    return self.f(x, *self.args, **self.kwargs)\n",
      "FileNotFoundError: [Errno 2] No such file or directory: 'image.bout'\n",
      "  File \"/d1/boudica1/lmatra/radmc-gala/radmc-3d/version_0.41/python/radmc3dPy/image.py\", line 1111, in readImage\n",
      "    dum.readImage(fname=fname, binary=binary, old=old)\n",
      "  File \"/d1/boudica1/lmatra/radmc-gala/radmc-3d/version_0.41/python/radmc3dPy/image.py\", line 1111, in readImage\n",
      "    dum.readImage(fname=fname, binary=binary, old=old)\n",
      "  File \"/d1/boudica1/anaconda3/lib/python3.7/multiprocessing/process.py\", line 99, in run\n",
      "    self._target(*self._args, **self._kwargs)\n",
      "  File \"/d1/boudica1/anaconda3/lib/python3.7/site-packages/emcee/ensemble.py\", line 546, in __call__\n",
      "    return self.f(x, *self.args, **self.kwargs)\n",
      "  File \"/d1/boudica1/lmatra/GJ14/uvfit/setup_mcmc.py\", line 192, in lnpostfn\n",
      "    problem_setup_cont_gauss.problem_setup([mdisk, p[1]*dist, p[2]*dist, h, rmin, rmax, nr, tcsize])\n",
      "  File \"/d1/boudica1/lmatra/radmc-gala/radmc-3d/version_0.41/python/radmc3dPy/image.py\", line 1111, in readImage\n",
      "    dum.readImage(fname=fname, binary=binary, old=old)\n",
      "  File \"/d1/boudica1/lmatra/GJ14/uvfit/setup_mcmc.py\", line 202, in lnpostfn\n",
      "    imag     =     radmc3dPy.image.readImage(binary=True)\n",
      "  File \"/d1/boudica1/lmatra/radmc-gala/radmc-3d/version_0.41/python/radmc3dPy/image.py\", line 724, in readImage\n",
      "    dum = np.fromfile(fname, count=4, dtype=int)\n",
      "FileNotFoundError: [Errno 2] No such file or directory: 'image.bout'\n",
      "  File \"/d1/boudica1/lmatra/GJ14/uvfit/setup_mcmc.py\", line 202, in lnpostfn\n",
      "    imag     =     radmc3dPy.image.readImage(binary=True)\n",
      "FileNotFoundError: [Errno 2] No such file or directory: 'image.bout'\n",
      "  File \"/d1/boudica1/lmatra/radmc-gala/radmc-3d/version_0.41/python/radmc3dPy/image.py\", line 1111, in readImage\n",
      "    dum.readImage(fname=fname, binary=binary, old=old)\n",
      "FileNotFoundError: [Errno 2] No such file or directory: 'image.bout'\n",
      "  File \"/d1/boudica1/lmatra/radmc-gala/radmc-3d/version_0.41/python/radmc3dPy/image.py\", line 1111, in readImage\n",
      "    dum.readImage(fname=fname, binary=binary, old=old)\n",
      "  File \"/d1/boudica1/anaconda3/lib/python3.7/multiprocessing/pool.py\", line 121, in worker\n",
      "    result = (True, func(*args, **kwds))\n",
      "  File \"/d1/boudica1/lmatra/radmc-gala/radmc-3d/version_0.41/python/radmc3dPy/image.py\", line 1111, in readImage\n",
      "    dum.readImage(fname=fname, binary=binary, old=old)\n",
      "  File \"/d1/boudica1/lmatra/radmc-gala/radmc-3d/version_0.41/python/radmc3dPy/image.py\", line 724, in readImage\n",
      "    dum = np.fromfile(fname, count=4, dtype=int)\n",
      "  File \"/d1/boudica1/anaconda3/lib/python3.7/multiprocessing/pool.py\", line 44, in mapstar\n",
      "    return list(map(*args))\n",
      "  File \"/d1/boudica1/lmatra/radmc-gala/radmc-3d/version_0.41/python/radmc3dPy/image.py\", line 724, in readImage\n",
      "    dum = np.fromfile(fname, count=4, dtype=int)\n",
      "  File \"/d1/boudica1/lmatra/radmc-gala/radmc-3d/version_0.41/python/radmc3dPy/image.py\", line 724, in readImage\n",
      "    dum = np.fromfile(fname, count=4, dtype=int)\n",
      "  File \"/d1/boudica1/anaconda3/lib/python3.7/site-packages/emcee/ensemble.py\", line 546, in __call__\n",
      "    return self.f(x, *self.args, **self.kwargs)\n",
      "FileNotFoundError: [Errno 2] No such file or directory: 'image.bout'\n",
      "FileNotFoundError: [Errno 2] No such file or directory: 'image.bout'\n",
      "  File \"/d1/boudica1/lmatra/radmc-gala/radmc-3d/version_0.41/python/radmc3dPy/image.py\", line 724, in readImage\n",
      "    dum = np.fromfile(fname, count=4, dtype=int)\n"
     ]
    },
    {
     "name": "stderr",
     "output_type": "stream",
     "text": [
      "FileNotFoundError: [Errno 2] No such file or directory: 'image.bout'\n",
      "  File \"/d1/boudica1/lmatra/GJ14/uvfit/setup_mcmc.py\", line 192, in lnpostfn\n",
      "    problem_setup_cont_gauss.problem_setup([mdisk, p[1]*dist, p[2]*dist, h, rmin, rmax, nr, tcsize])\n",
      "  File \"/d1/boudica1/lmatra/GJ14/uvfit/problem_setup_cont_gauss.py\", line 109, in problem_setup\n",
      "    rhod[i,j]    = surfmassdens[i]*np.exp(-(rc[i]*np.sin(((np.pi/2e0)-tc[j]))/(np.sqrt(2.0)*H[i]))**2e0)/(np.sqrt(2.0*np.pi)*H[i])\n",
      "  File \"/d1/boudica1/lmatra/GJ14/uvfit/problem_setup_cont_gauss.py\", line 109, in problem_setup\n",
      "    rhod[i,j]    = surfmassdens[i]*np.exp(-(rc[i]*np.sin(((np.pi/2e0)-tc[j]))/(np.sqrt(2.0)*H[i]))**2e0)/(np.sqrt(2.0*np.pi)*H[i])\n",
      "  File \"/d1/boudica1/lmatra/radmc-gala/radmc-3d/version_0.41/python/radmc3dPy/image.py\", line 724, in readImage\n",
      "    dum = np.fromfile(fname, count=4, dtype=int)\n",
      "KeyboardInterrupt\n",
      "FileNotFoundError: [Errno 2] No such file or directory: 'image.bout'\n",
      "KeyboardInterrupt\n",
      "Process ForkPoolWorker-1:\n",
      "  File \"/d1/boudica1/anaconda3/lib/python3.7/multiprocessing/pool.py\", line 121, in worker\n",
      "    result = (True, func(*args, **kwds))\n",
      "Traceback (most recent call last):\n",
      "  File \"/d1/boudica1/anaconda3/lib/python3.7/multiprocessing/process.py\", line 297, in _bootstrap\n",
      "    self.run()\n",
      "  File \"/d1/boudica1/anaconda3/lib/python3.7/multiprocessing/process.py\", line 99, in run\n",
      "    self._target(*self._args, **self._kwargs)\n",
      "  File \"/d1/boudica1/anaconda3/lib/python3.7/multiprocessing/pool.py\", line 44, in mapstar\n",
      "    return list(map(*args))\n",
      "FileNotFoundError: [Errno 2] No such file or directory: 'image.bout'\n",
      "  File \"/d1/boudica1/anaconda3/lib/python3.7/site-packages/emcee/ensemble.py\", line 546, in __call__\n",
      "    return self.f(x, *self.args, **self.kwargs)\n",
      "  File \"/d1/boudica1/lmatra/GJ14/uvfit/setup_mcmc.py\", line 192, in lnpostfn\n",
      "    problem_setup_cont_gauss.problem_setup([mdisk, p[1]*dist, p[2]*dist, h, rmin, rmax, nr, tcsize])\n",
      "KeyboardInterrupt\n",
      "  File \"/d1/boudica1/lmatra/GJ14/uvfit/problem_setup_cont_gauss.py\", line 109, in problem_setup\n",
      "    rhod[i,j]    = surfmassdens[i]*np.exp(-(rc[i]*np.sin(((np.pi/2e0)-tc[j]))/(np.sqrt(2.0)*H[i]))**2e0)/(np.sqrt(2.0*np.pi)*H[i])\n",
      "\n"
     ]
    },
    {
     "ename": "KeyboardInterrupt",
     "evalue": "",
     "output_type": "error",
     "traceback": [
      "\u001b[0;31m---------------------------------------------------------------------------\u001b[0m",
      "\u001b[0;31mKeyboardInterrupt\u001b[0m                         Traceback (most recent call last)",
      "\u001b[0;32m/d1/boudica1/lmatra/GJ14/uvfit/setup_mcmc.py\u001b[0m in \u001b[0;36m<module>\u001b[0;34m()\u001b[0m\n\u001b[1;32m     16\u001b[0m \u001b[0;31m# This step actually starts the MCMC, at which point a progress bar should come up (may need installation of a python package).\u001b[0m\u001b[0;34m\u001b[0m\u001b[0;34m\u001b[0m\u001b[0;34m\u001b[0m\u001b[0m\n\u001b[1;32m     17\u001b[0m \u001b[0;31m# The MCMC runs for nsteps and starts the walkers for each parameter at position 'pos' defined above\u001b[0m\u001b[0;34m\u001b[0m\u001b[0;34m\u001b[0m\u001b[0;34m\u001b[0m\u001b[0m\n\u001b[0;32m---> 18\u001b[0;31m \u001b[0msampler\u001b[0m\u001b[0;34m.\u001b[0m\u001b[0mrun_mcmc\u001b[0m\u001b[0;34m(\u001b[0m\u001b[0mpos\u001b[0m\u001b[0;34m,\u001b[0m\u001b[0mnsteps\u001b[0m\u001b[0;34m,\u001b[0m\u001b[0mprogress\u001b[0m\u001b[0;34m=\u001b[0m\u001b[0;32mTrue\u001b[0m\u001b[0;34m)\u001b[0m\u001b[0;34m\u001b[0m\u001b[0;34m\u001b[0m\u001b[0m\n\u001b[0m\u001b[1;32m     19\u001b[0m \u001b[0;31m# If number of steps is insufficient, i.e. if the chains have not converged for each parameter, run for more steps using:\u001b[0m\u001b[0;34m\u001b[0m\u001b[0;34m\u001b[0m\u001b[0;34m\u001b[0m\u001b[0m\n\u001b[1;32m     20\u001b[0m \u001b[0;31m#sampler.run_mcmc(None,nsteps,progress=True)\u001b[0m\u001b[0;34m\u001b[0m\u001b[0;34m\u001b[0m\u001b[0;34m\u001b[0m\u001b[0m\n",
      "\u001b[0;32m/d1/boudica1/anaconda3/lib/python3.7/site-packages/emcee/ensemble.py\u001b[0m in \u001b[0;36mrun_mcmc\u001b[0;34m(self, initial_state, nsteps, **kwargs)\u001b[0m\n\u001b[1;32m    384\u001b[0m \u001b[0;34m\u001b[0m\u001b[0m\n\u001b[1;32m    385\u001b[0m         \u001b[0mresults\u001b[0m \u001b[0;34m=\u001b[0m \u001b[0;32mNone\u001b[0m\u001b[0;34m\u001b[0m\u001b[0;34m\u001b[0m\u001b[0m\n\u001b[0;32m--> 386\u001b[0;31m         \u001b[0;32mfor\u001b[0m \u001b[0mresults\u001b[0m \u001b[0;32min\u001b[0m \u001b[0mself\u001b[0m\u001b[0;34m.\u001b[0m\u001b[0msample\u001b[0m\u001b[0;34m(\u001b[0m\u001b[0minitial_state\u001b[0m\u001b[0;34m,\u001b[0m \u001b[0miterations\u001b[0m\u001b[0;34m=\u001b[0m\u001b[0mnsteps\u001b[0m\u001b[0;34m,\u001b[0m \u001b[0;34m**\u001b[0m\u001b[0mkwargs\u001b[0m\u001b[0;34m)\u001b[0m\u001b[0;34m:\u001b[0m\u001b[0;34m\u001b[0m\u001b[0;34m\u001b[0m\u001b[0m\n\u001b[0m\u001b[1;32m    387\u001b[0m             \u001b[0;32mpass\u001b[0m\u001b[0;34m\u001b[0m\u001b[0;34m\u001b[0m\u001b[0m\n\u001b[1;32m    388\u001b[0m \u001b[0;34m\u001b[0m\u001b[0m\n",
      "\u001b[0;32m/d1/boudica1/anaconda3/lib/python3.7/site-packages/emcee/ensemble.py\u001b[0m in \u001b[0;36msample\u001b[0;34m(self, initial_state, log_prob0, rstate0, blobs0, iterations, tune, skip_initial_state_check, thin_by, thin, store, progress)\u001b[0m\n\u001b[1;32m    343\u001b[0m \u001b[0;34m\u001b[0m\u001b[0m\n\u001b[1;32m    344\u001b[0m                     \u001b[0;31m# Propose\u001b[0m\u001b[0;34m\u001b[0m\u001b[0;34m\u001b[0m\u001b[0;34m\u001b[0m\u001b[0m\n\u001b[0;32m--> 345\u001b[0;31m                     \u001b[0mstate\u001b[0m\u001b[0;34m,\u001b[0m \u001b[0maccepted\u001b[0m \u001b[0;34m=\u001b[0m \u001b[0mmove\u001b[0m\u001b[0;34m.\u001b[0m\u001b[0mpropose\u001b[0m\u001b[0;34m(\u001b[0m\u001b[0mmodel\u001b[0m\u001b[0;34m,\u001b[0m \u001b[0mstate\u001b[0m\u001b[0;34m)\u001b[0m\u001b[0;34m\u001b[0m\u001b[0;34m\u001b[0m\u001b[0m\n\u001b[0m\u001b[1;32m    346\u001b[0m                     \u001b[0mstate\u001b[0m\u001b[0;34m.\u001b[0m\u001b[0mrandom_state\u001b[0m \u001b[0;34m=\u001b[0m \u001b[0mself\u001b[0m\u001b[0;34m.\u001b[0m\u001b[0mrandom_state\u001b[0m\u001b[0;34m\u001b[0m\u001b[0;34m\u001b[0m\u001b[0m\n\u001b[1;32m    347\u001b[0m \u001b[0;34m\u001b[0m\u001b[0m\n",
      "\u001b[0;32m/d1/boudica1/anaconda3/lib/python3.7/site-packages/emcee/moves/red_blue.py\u001b[0m in \u001b[0;36mpropose\u001b[0;34m(self, model, state)\u001b[0m\n\u001b[1;32m     90\u001b[0m \u001b[0;34m\u001b[0m\u001b[0m\n\u001b[1;32m     91\u001b[0m             \u001b[0;31m# Compute the lnprobs of the proposed position.\u001b[0m\u001b[0;34m\u001b[0m\u001b[0;34m\u001b[0m\u001b[0;34m\u001b[0m\u001b[0m\n\u001b[0;32m---> 92\u001b[0;31m             \u001b[0mnew_log_probs\u001b[0m\u001b[0;34m,\u001b[0m \u001b[0mnew_blobs\u001b[0m \u001b[0;34m=\u001b[0m \u001b[0mmodel\u001b[0m\u001b[0;34m.\u001b[0m\u001b[0mcompute_log_prob_fn\u001b[0m\u001b[0;34m(\u001b[0m\u001b[0mq\u001b[0m\u001b[0;34m)\u001b[0m\u001b[0;34m\u001b[0m\u001b[0;34m\u001b[0m\u001b[0m\n\u001b[0m\u001b[1;32m     93\u001b[0m \u001b[0;34m\u001b[0m\u001b[0m\n\u001b[1;32m     94\u001b[0m             \u001b[0;31m# Loop over the walkers and update them accordingly.\u001b[0m\u001b[0;34m\u001b[0m\u001b[0;34m\u001b[0m\u001b[0;34m\u001b[0m\u001b[0m\n",
      "\u001b[0;32m/d1/boudica1/anaconda3/lib/python3.7/site-packages/emcee/ensemble.py\u001b[0m in \u001b[0;36mcompute_log_prob\u001b[0;34m(self, coords)\u001b[0m\n\u001b[1;32m    427\u001b[0m                 \u001b[0mmap_func\u001b[0m \u001b[0;34m=\u001b[0m \u001b[0mmap\u001b[0m\u001b[0;34m\u001b[0m\u001b[0;34m\u001b[0m\u001b[0m\n\u001b[1;32m    428\u001b[0m             results = list(\n\u001b[0;32m--> 429\u001b[0;31m                 \u001b[0mmap_func\u001b[0m\u001b[0;34m(\u001b[0m\u001b[0mself\u001b[0m\u001b[0;34m.\u001b[0m\u001b[0mlog_prob_fn\u001b[0m\u001b[0;34m,\u001b[0m \u001b[0;34m(\u001b[0m\u001b[0mp\u001b[0m\u001b[0;34m[\u001b[0m\u001b[0mi\u001b[0m\u001b[0;34m]\u001b[0m \u001b[0;32mfor\u001b[0m \u001b[0mi\u001b[0m \u001b[0;32min\u001b[0m \u001b[0mrange\u001b[0m\u001b[0;34m(\u001b[0m\u001b[0mlen\u001b[0m\u001b[0;34m(\u001b[0m\u001b[0mp\u001b[0m\u001b[0;34m)\u001b[0m\u001b[0;34m)\u001b[0m\u001b[0;34m)\u001b[0m\u001b[0;34m)\u001b[0m\u001b[0;34m\u001b[0m\u001b[0;34m\u001b[0m\u001b[0m\n\u001b[0m\u001b[1;32m    430\u001b[0m             )\n\u001b[1;32m    431\u001b[0m \u001b[0;34m\u001b[0m\u001b[0m\n",
      "\u001b[0;32m/d1/boudica1/anaconda3/lib/python3.7/multiprocessing/pool.py\u001b[0m in \u001b[0;36mmap\u001b[0;34m(self, func, iterable, chunksize)\u001b[0m\n\u001b[1;32m    266\u001b[0m         \u001b[0;32min\u001b[0m \u001b[0ma\u001b[0m \u001b[0mlist\u001b[0m \u001b[0mthat\u001b[0m \u001b[0;32mis\u001b[0m \u001b[0mreturned\u001b[0m\u001b[0;34m.\u001b[0m\u001b[0;34m\u001b[0m\u001b[0;34m\u001b[0m\u001b[0m\n\u001b[1;32m    267\u001b[0m         '''\n\u001b[0;32m--> 268\u001b[0;31m         \u001b[0;32mreturn\u001b[0m \u001b[0mself\u001b[0m\u001b[0;34m.\u001b[0m\u001b[0m_map_async\u001b[0m\u001b[0;34m(\u001b[0m\u001b[0mfunc\u001b[0m\u001b[0;34m,\u001b[0m \u001b[0miterable\u001b[0m\u001b[0;34m,\u001b[0m \u001b[0mmapstar\u001b[0m\u001b[0;34m,\u001b[0m \u001b[0mchunksize\u001b[0m\u001b[0;34m)\u001b[0m\u001b[0;34m.\u001b[0m\u001b[0mget\u001b[0m\u001b[0;34m(\u001b[0m\u001b[0;34m)\u001b[0m\u001b[0;34m\u001b[0m\u001b[0;34m\u001b[0m\u001b[0m\n\u001b[0m\u001b[1;32m    269\u001b[0m \u001b[0;34m\u001b[0m\u001b[0m\n\u001b[1;32m    270\u001b[0m     \u001b[0;32mdef\u001b[0m \u001b[0mstarmap\u001b[0m\u001b[0;34m(\u001b[0m\u001b[0mself\u001b[0m\u001b[0;34m,\u001b[0m \u001b[0mfunc\u001b[0m\u001b[0;34m,\u001b[0m \u001b[0miterable\u001b[0m\u001b[0;34m,\u001b[0m \u001b[0mchunksize\u001b[0m\u001b[0;34m=\u001b[0m\u001b[0;32mNone\u001b[0m\u001b[0;34m)\u001b[0m\u001b[0;34m:\u001b[0m\u001b[0;34m\u001b[0m\u001b[0;34m\u001b[0m\u001b[0m\n",
      "\u001b[0;32m/d1/boudica1/anaconda3/lib/python3.7/multiprocessing/pool.py\u001b[0m in \u001b[0;36mget\u001b[0;34m(self, timeout)\u001b[0m\n\u001b[1;32m    649\u001b[0m \u001b[0;34m\u001b[0m\u001b[0m\n\u001b[1;32m    650\u001b[0m     \u001b[0;32mdef\u001b[0m \u001b[0mget\u001b[0m\u001b[0;34m(\u001b[0m\u001b[0mself\u001b[0m\u001b[0;34m,\u001b[0m \u001b[0mtimeout\u001b[0m\u001b[0;34m=\u001b[0m\u001b[0;32mNone\u001b[0m\u001b[0;34m)\u001b[0m\u001b[0;34m:\u001b[0m\u001b[0;34m\u001b[0m\u001b[0;34m\u001b[0m\u001b[0m\n\u001b[0;32m--> 651\u001b[0;31m         \u001b[0mself\u001b[0m\u001b[0;34m.\u001b[0m\u001b[0mwait\u001b[0m\u001b[0;34m(\u001b[0m\u001b[0mtimeout\u001b[0m\u001b[0;34m)\u001b[0m\u001b[0;34m\u001b[0m\u001b[0;34m\u001b[0m\u001b[0m\n\u001b[0m\u001b[1;32m    652\u001b[0m         \u001b[0;32mif\u001b[0m \u001b[0;32mnot\u001b[0m \u001b[0mself\u001b[0m\u001b[0;34m.\u001b[0m\u001b[0mready\u001b[0m\u001b[0;34m(\u001b[0m\u001b[0;34m)\u001b[0m\u001b[0;34m:\u001b[0m\u001b[0;34m\u001b[0m\u001b[0;34m\u001b[0m\u001b[0m\n\u001b[1;32m    653\u001b[0m             \u001b[0;32mraise\u001b[0m \u001b[0mTimeoutError\u001b[0m\u001b[0;34m\u001b[0m\u001b[0;34m\u001b[0m\u001b[0m\n",
      "\u001b[0;32m/d1/boudica1/anaconda3/lib/python3.7/multiprocessing/pool.py\u001b[0m in \u001b[0;36mwait\u001b[0;34m(self, timeout)\u001b[0m\n\u001b[1;32m    646\u001b[0m \u001b[0;34m\u001b[0m\u001b[0m\n\u001b[1;32m    647\u001b[0m     \u001b[0;32mdef\u001b[0m \u001b[0mwait\u001b[0m\u001b[0;34m(\u001b[0m\u001b[0mself\u001b[0m\u001b[0;34m,\u001b[0m \u001b[0mtimeout\u001b[0m\u001b[0;34m=\u001b[0m\u001b[0;32mNone\u001b[0m\u001b[0;34m)\u001b[0m\u001b[0;34m:\u001b[0m\u001b[0;34m\u001b[0m\u001b[0;34m\u001b[0m\u001b[0m\n\u001b[0;32m--> 648\u001b[0;31m         \u001b[0mself\u001b[0m\u001b[0;34m.\u001b[0m\u001b[0m_event\u001b[0m\u001b[0;34m.\u001b[0m\u001b[0mwait\u001b[0m\u001b[0;34m(\u001b[0m\u001b[0mtimeout\u001b[0m\u001b[0;34m)\u001b[0m\u001b[0;34m\u001b[0m\u001b[0;34m\u001b[0m\u001b[0m\n\u001b[0m\u001b[1;32m    649\u001b[0m \u001b[0;34m\u001b[0m\u001b[0m\n\u001b[1;32m    650\u001b[0m     \u001b[0;32mdef\u001b[0m \u001b[0mget\u001b[0m\u001b[0;34m(\u001b[0m\u001b[0mself\u001b[0m\u001b[0;34m,\u001b[0m \u001b[0mtimeout\u001b[0m\u001b[0;34m=\u001b[0m\u001b[0;32mNone\u001b[0m\u001b[0;34m)\u001b[0m\u001b[0;34m:\u001b[0m\u001b[0;34m\u001b[0m\u001b[0;34m\u001b[0m\u001b[0m\n",
      "\u001b[0;32m/d1/boudica1/anaconda3/lib/python3.7/threading.py\u001b[0m in \u001b[0;36mwait\u001b[0;34m(self, timeout)\u001b[0m\n\u001b[1;32m    550\u001b[0m             \u001b[0msignaled\u001b[0m \u001b[0;34m=\u001b[0m \u001b[0mself\u001b[0m\u001b[0;34m.\u001b[0m\u001b[0m_flag\u001b[0m\u001b[0;34m\u001b[0m\u001b[0;34m\u001b[0m\u001b[0m\n\u001b[1;32m    551\u001b[0m             \u001b[0;32mif\u001b[0m \u001b[0;32mnot\u001b[0m \u001b[0msignaled\u001b[0m\u001b[0;34m:\u001b[0m\u001b[0;34m\u001b[0m\u001b[0;34m\u001b[0m\u001b[0m\n\u001b[0;32m--> 552\u001b[0;31m                 \u001b[0msignaled\u001b[0m \u001b[0;34m=\u001b[0m \u001b[0mself\u001b[0m\u001b[0;34m.\u001b[0m\u001b[0m_cond\u001b[0m\u001b[0;34m.\u001b[0m\u001b[0mwait\u001b[0m\u001b[0;34m(\u001b[0m\u001b[0mtimeout\u001b[0m\u001b[0;34m)\u001b[0m\u001b[0;34m\u001b[0m\u001b[0;34m\u001b[0m\u001b[0m\n\u001b[0m\u001b[1;32m    553\u001b[0m             \u001b[0;32mreturn\u001b[0m \u001b[0msignaled\u001b[0m\u001b[0;34m\u001b[0m\u001b[0;34m\u001b[0m\u001b[0m\n\u001b[1;32m    554\u001b[0m \u001b[0;34m\u001b[0m\u001b[0m\n",
      "\u001b[0;32m/d1/boudica1/anaconda3/lib/python3.7/threading.py\u001b[0m in \u001b[0;36mwait\u001b[0;34m(self, timeout)\u001b[0m\n\u001b[1;32m    294\u001b[0m         \u001b[0;32mtry\u001b[0m\u001b[0;34m:\u001b[0m    \u001b[0;31m# restore state no matter what (e.g., KeyboardInterrupt)\u001b[0m\u001b[0;34m\u001b[0m\u001b[0;34m\u001b[0m\u001b[0m\n\u001b[1;32m    295\u001b[0m             \u001b[0;32mif\u001b[0m \u001b[0mtimeout\u001b[0m \u001b[0;32mis\u001b[0m \u001b[0;32mNone\u001b[0m\u001b[0;34m:\u001b[0m\u001b[0;34m\u001b[0m\u001b[0;34m\u001b[0m\u001b[0m\n\u001b[0;32m--> 296\u001b[0;31m                 \u001b[0mwaiter\u001b[0m\u001b[0;34m.\u001b[0m\u001b[0macquire\u001b[0m\u001b[0;34m(\u001b[0m\u001b[0;34m)\u001b[0m\u001b[0;34m\u001b[0m\u001b[0;34m\u001b[0m\u001b[0m\n\u001b[0m\u001b[1;32m    297\u001b[0m                 \u001b[0mgotit\u001b[0m \u001b[0;34m=\u001b[0m \u001b[0;32mTrue\u001b[0m\u001b[0;34m\u001b[0m\u001b[0;34m\u001b[0m\u001b[0m\n\u001b[1;32m    298\u001b[0m             \u001b[0;32melse\u001b[0m\u001b[0;34m:\u001b[0m\u001b[0;34m\u001b[0m\u001b[0;34m\u001b[0m\u001b[0m\n",
      "\u001b[0;31mKeyboardInterrupt\u001b[0m: "
     ]
    }
   ],
   "source": [
    "os.chdir('../uvfit')\n",
    "newbackend=True\n",
    "backendaddress='backend_'+sourcetag+'_todaysdate_computersname_v2.pkl'\n",
    "#np.save('backendaddress.npy', backendaddress)\n",
    "pickle.dump(backendaddress, open('backendaddress.npy', 'wb'), protocol=2)\n",
    "\n",
    "\n",
    "#print(np.load('backendaddress.npy'))\n",
    "#!ls\n",
    "\n",
    "#import setup_mcmc\n",
    "%run -i setup_mcmc\n",
    "nsteps=1000\n",
    "\n",
    "#print(priors_up)\n",
    "# This step actually starts the MCMC, at which point a progress bar should come up (may need installation of a python package).\n",
    "# The MCMC runs for nsteps and starts the walkers for each parameter at position 'pos' defined above\n",
    "sampler.run_mcmc(pos,nsteps,progress=True)\n",
    "# If number of steps is insufficient, i.e. if the chains have not converged for each parameter, run for more steps using:\n",
    "#sampler.run_mcmc(None,nsteps,progress=True)\n",
    "# where nsteps is the number of steps you want to go further by."
   ]
  },
  {
   "cell_type": "code",
   "execution_count": 7,
   "metadata": {},
   "outputs": [
    {
     "data": {
      "text/plain": [
       "'3.0.0'"
      ]
     },
     "execution_count": 7,
     "metadata": {},
     "output_type": "execute_result"
    }
   ],
   "source": [
    "emcee.__version__"
   ]
  },
  {
   "cell_type": "code",
   "execution_count": null,
   "metadata": {},
   "outputs": [],
   "source": [
    "chain=backend.get_chain()\n",
    "for j in range(chain.shape[2]):\n",
    "    pl.figure()\n",
    "    for i in range(chain.shape[1]):\n",
    "        pl.plot(chain[:,i,j], alpha=0.1)"
   ]
  },
  {
   "cell_type": "code",
   "execution_count": null,
   "metadata": {},
   "outputs": [],
   "source": [
    "# If number of steps is insufficient, i.e. if the chains have not converged for each parameter, run for more steps using:\n",
    "newbackend=False\n",
    "%run -i setup_mcmc\n",
    "sampler.run_mcmc(None,1000-chain.shape[0],progress=True)\n",
    "# where nsteps is the number of steps you want to go further by."
   ]
  }
 ],
 "metadata": {
  "kernelspec": {
   "display_name": "Python 3",
   "language": "python",
   "name": "python3"
  },
  "language_info": {
   "codemirror_mode": {
    "name": "ipython",
    "version": 3
   },
   "file_extension": ".py",
   "mimetype": "text/x-python",
   "name": "python",
   "nbconvert_exporter": "python",
   "pygments_lexer": "ipython3",
   "version": "3.7.3"
  }
 },
 "nbformat": 4,
 "nbformat_minor": 2
}
