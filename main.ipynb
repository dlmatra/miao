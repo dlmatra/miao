{
 "cells": [
  {
   "cell_type": "markdown",
   "metadata": {},
   "source": [
    "## Analyzing and fitting interferometric visibility datasets of circumstellar rings"
   ]
  },
  {
   "cell_type": "markdown",
   "metadata": {},
   "source": [
    "Bringing your data from archive to paper-ready plots requires several steps, which we will follow and execute in this Notebook. Built in Python 3 and with CASA 5.4.0, but may handle other versions.\n",
    "\n",
    "Needs GALARIO package:\n",
    "https://github.com/mtazzari/galario\n",
    "to be installed, e.g. with conda with a command like: 'conda install -c conda-forge galario'. This code was tested with version 1.2"
   ]
  },
  {
   "cell_type": "markdown",
   "metadata": {},
   "source": [
    "## Step 0: Create list with all requested inputs"
   ]
  },
  {
   "cell_type": "markdown",
   "metadata": {},
   "source": [
    "Here you need to decide if you are doing imaging and/or fitting and/or \n",
    "input some parameters that are needed for the imaging and/or fitting and/or postprocessing.\n"
   ]
  },
  {
   "cell_type": "code",
   "execution_count": 2,
   "metadata": {},
   "outputs": [
    {
     "name": "stdout",
     "output_type": "stream",
     "text": [
      "Directory for object GJ14 already exists at /d1/boudica1/lmatra\n"
     ]
    }
   ],
   "source": [
    "import numpy as np\n",
    "import os, subprocess\n",
    "import pickle\n",
    "\n",
    "#Decide which you want to do, imaging and/or fitting and/or postprocessing\n",
    "imaging=True\n",
    "fit=True\n",
    "postproc=True\n",
    "\n",
    "radmcgalapath='/d1/boudica1/lmatra/radmc-gala'\n",
    "casapath='/d1/boudica1/casa-release-5.4.0-68.el6/bin'\n",
    "sourcetag='GJ14'\n",
    "workingdir='/d1/boudica1/lmatra'\n",
    "vis=['/sma/SMAusers/lmatra/REASONS_ALMA/cycle5/GJ14/calibratedms/GJ14_calibratedvis_cont.ms']\n",
    "nvis=len(vis)\n",
    "if not os.path.exists(workingdir+'/'+sourcetag):\n",
    "    os.mkdir(workingdir+'/'+sourcetag)\n",
    "    print('Creating directory for object '+sourcetag+' at '+workingdir)\n",
    "else:\n",
    "    print('Directory for object '+sourcetag+' already exists at '+workingdir)\n",
    "\n",
    "if imaging:\n",
    "    #Imaging parameters\n",
    "    mosaic=False\n",
    "    if mosaic:\n",
    "        mosaic=True\n",
    "        phasecenter='J2000 22h57m39.449700 -29d37m22.68681'\n",
    "    else:\n",
    "        phasecenter=''\n",
    "    weighting='natural'\n",
    "    if weighting=='briggs':\n",
    "        robust=0.5\n",
    "    else:\n",
    "        robust=''\n",
    "    uvtaper=['']\n",
    "    interactive=True\n",
    "\n",
    "if fit:\n",
    "    #Parameters for fit\n",
    "    Lstar=0.111  #Solar luminosities\n",
    "    dist=14.7  #pc\n",
    "    imsize=24.0     #arcsec, used for radiative transfer. >>2x belt outer radius, but not too large or it will slow down computation.\n",
    "    #imsize above is also the size of the grid over which the model is setup in RADMC. No disk will be put beyond this.\n",
    "\n",
    "    #Add disk parameters\n",
    "    fluxdensity=1.8e-3 #Jy\n",
    "    rmid=99.0/dist # Radial peak location of Gaussian surface density, arcsec\n",
    "    sigma=32.0/2.35/dist #standard deviation of radial Gaussian surface density\n",
    "    useh=True\n",
    "    if useh:\n",
    "        h=0.05 #aspect ratio of belt, constant with radius, whose vertical density structure at radius r is a Gaussian with width hr.\n",
    "    else:\n",
    "        h=0.03\n",
    "    incl=65.0 #inclination, degrees from face-on\n",
    "    posang=5.5 #position angle, East of North.\n",
    "\n",
    "    #Add star if wanted/needed\n",
    "    star=True\n",
    "    if star:\n",
    "        fstar=4e-5 #Jy\n",
    "    \n",
    "    #Add extra parameters independently for each of the visibility datasets.\n",
    "    if nvis>=1:\n",
    "        dRA=[-0.07,0.1,0.1] #RA offset of star+disk from phase center of observations\n",
    "        dDec=[0.14,-0.1,-0.1] #Dec offset of star+disk from phase center of observations\n",
    "        wtfact=[0.289,0.289,1e-4] #factors by which incorrect weights should be multiplied by\n",
    "    else:\n",
    "        dRA=[-0.07] #RA offset of star+disk from phase center of observations\n",
    "        dDec=[0.14] #Dec offset of star+disk from phase center of observations\n",
    "        wtfact=[0.289] #factors by which incorrect weights should be multiplied by\n",
    "\n",
    "    #Add galaxies if needed\n",
    "    ngal=0\n",
    "    if ngal>=1:\n",
    "        resolved=[True, False, False] # if definitely resolved, use 2D Gaussian as galaxy model (6 free parameters), and set resolved=True for that galaxy. \n",
    "    #Otherwise, use point source (3 free parameters) by setting resolved=False.\n",
    "        fbkg=[285e-6,500e-6,500e-6] #Flux (Jy)\n",
    "        dRAbkg=[2.97,2.97,2.97] # RA offset (\")\n",
    "        dDecbkg=[1.81,1.81,1.81] # Dec offset (\")\n",
    "        sigmagal=[0.3,0,0] # sigma (\")\n",
    "        PAgal=[28.0,0,0] # PA (deg)\n",
    "        incgal=[49.0,0,0] # inc (deg)\n",
    "    else: \n",
    "        resolved=None\n",
    "        fbkg=None\n",
    "        dRAbkg=None\n",
    "        dDecbkg=None\n",
    "        sigmagal=None\n",
    "        PAgal=None\n",
    "        incgal=None\n"
   ]
  },
  {
   "cell_type": "markdown",
   "metadata": {},
   "source": [
    "## Step 1: Create directory structure"
   ]
  },
  {
   "cell_type": "code",
   "execution_count": 3,
   "metadata": {},
   "outputs": [
    {
     "name": "stdout",
     "output_type": "stream",
     "text": [
      "Creating directory structure\n",
      "Will be carrying out imaging\n",
      "GJ14_calibratedvis_cont.ms\n",
      "Will be carrying out visibility fit\n",
      "cp: cannot stat `/d1/boudica1/lmatra/radmc-gala/utils/runfit.py': No such file or directory\n",
      "cp: cannot stat `/d1/boudica1/lmatra/radmc-gala/utils/problem_setup_cont_gauss.py': No such file or directory\n",
      "cp: cannot stat `/d1/boudica1/lmatra/radmc-gala/utils/dustkappa_10445.micr.inp': No such file or directory\n",
      "Will be carrying out postprocessing\n",
      "cp: cannot stat `/d1/boudica1/lmatra/radmc-gala/utils/evaluatemodel_radmc3d.py': No such file or directory\n",
      "cp: cannot stat `/d1/boudica1/lmatra/radmc-gala/utils/uvresidualtoms.py': No such file or directory\n",
      "cp: cannot stat `/d1/boudica1/lmatra/radmc-gala/utils/makeuvdeprojplot_simple_multiple.py': No such file or directory\n",
      "cp: cannot stat `/d1/boudica1/lmatra/radmc-gala/utils/plotimage.py': No such file or directory\n",
      "cp: cannot stat `/d1/boudica1/lmatra/radmc-gala/utils/imagecombo.py': No such file or directory\n"
     ]
    }
   ],
   "source": [
    "print('Creating directory structure')\n",
    "os.chdir(workingdir+'/'+sourcetag)\n",
    "\n",
    "#Imaging\n",
    "if imaging:\n",
    "    print('Will be carrying out imaging')\n",
    "    for i in ['calibratedms', 'imaging']:\n",
    "        if not os.path.exists(workingdir+'/'+sourcetag+'/'+i):\n",
    "            os.mkdir(workingdir+'/'+sourcetag+'/'+i)\n",
    "    !cp -r {radmcgalapath}/utils/mstonumpyortxt_multiple.py {workingdir}/{sourcetag}/calibratedms/.\n",
    "    for i in np.arange(len(vis)):\n",
    "        if not os.path.exists('calibratedms/'+vis[i].rsplit('/',1)[1]):\n",
    "            !cp -r {vis[i]} {workingdir}/{sourcetag}/calibratedms/.\n",
    "        vis[i]=vis[i].rsplit('/',1)[1]\n",
    "        #print(vis[i])\n",
    "    !cp -r {radmcgalapath}/utils/imagingscript_multiple.py {workingdir}/{sourcetag}/imaging/.  \n",
    "    #Save imaging parameters\n",
    "    pickle.dump([sourcetag,workingdir,vis,nvis,mosaic,phasecenter,weighting,robust,uvtaper,interactive], open(workingdir+'/'+sourcetag+'/imaging/imagepars.npy', 'wb'), protocol=2)\n",
    "\n",
    "    \n",
    "#Fitting\n",
    "if fit:\n",
    "    print('Will be carrying out visibility fit')\n",
    "    if not os.path.exists(workingdir+'/'+sourcetag+'/'+'imaging'):\n",
    "        sys.exit('Carry out imaging first: need .pb primary beam image')\n",
    "    for i in ['uvfit']:\n",
    "        if not os.path.exists(workingdir+'/'+sourcetag+'/'+i):\n",
    "            os.mkdir(workingdir+'/'+sourcetag+'/'+i)\n",
    "    !cp -r {radmcgalapath}/utils/runfit.py {workingdir}/{sourcetag}/uvfit/. \n",
    "    !cp -r {radmcgalapath}/utils/problem_setup_cont_gauss.py {workingdir}/{sourcetag}/uvfit/.  \n",
    "    !cp -r {radmcgalapath}/utils/dustkappa_10445.micr.inp {workingdir}/{sourcetag}/uvfit/.  \n",
    "    #Save fit parameters\n",
    "    pickle.dump([Lstar,dist,imsize, fluxdensity,rmid,sigma,useh,h,incl,posang,star,fstar,nvis,dRA,dDec,wtfact\n",
    "             ,ngal,resolved,fbkg,dRAbkg,dDecbkg,sigmagal,PAgal,incgal], open(workingdir+'/'+sourcetag+'/uvfit/fitpars.npy', 'wb'), protocol=2)\n",
    "\n",
    "#Postprocessing\n",
    "if postproc:\n",
    "    if not (imaging or fit):\n",
    "        print ('Will be carrying out postprocessing ONLY')\n",
    "    else:\n",
    "        print('Will be carrying out postprocessing')\n",
    "    if not os.path.exists(workingdir+'/'+sourcetag+'/'+'uvfit'):\n",
    "        sys.exit('Carry out fit before POSTprocessing!')\n",
    "    for i in ['analysis', 'plots', 'uvfit/evaluation']:\n",
    "        if not os.path.exists(workingdir+'/'+sourcetag+'/'+i):\n",
    "            os.mkdir(workingdir+'/'+sourcetag+'/'+i)\n",
    "    !cp -r {radmcgalapath}/utils/evaluatemodel_radmc3d.py {workingdir}/{sourcetag}/uvfit/. \n",
    "    !cp -r {radmcgalapath}/utils/uvresidualtoms.py {workingdir}/{sourcetag}/uvfit/. \n",
    "    !cp -r {radmcgalapath}/utils/makeuvdeprojplot_simple_multiple.py {workingdir}/{sourcetag}/uvfit/.\n",
    "    !cp -r {radmcgalapath}/utils/plotimage.py {workingdir}/{sourcetag}/analysis/.  \n",
    "    !cp -r {radmcgalapath}/utils/imagecombo.py {workingdir}/{sourcetag}/analysis/. \n",
    "   \n"
   ]
  },
  {
   "cell_type": "markdown",
   "metadata": {},
   "source": [
    "## Step 2: Carry out imaging via imagingscript_multiple CASA script\n",
    "First convert visibilities in CASA MS format to a python save file"
   ]
  },
  {
   "cell_type": "code",
   "execution_count": 4,
   "metadata": {},
   "outputs": [
    {
     "name": "stdout",
     "output_type": "stream",
     "text": [
      "\n",
      "=========================================\n",
      "The start-up time of CASA may vary\n",
      "depending on whether the shared libraries\n",
      "are cached or not.\n",
      "=========================================\n",
      "\n",
      "\u001b]0;IPython: GJ14/calibratedms\u0007IPython 5.1.0 -- An enhanced Interactive Python.\n",
      "\n",
      "CASA 5.4.0-68   -- Common Astronomy Software Applications\n",
      "\n",
      "--> CrashReporter initialized.\n",
      "Found data with 225826 uv points per channel\n",
      "with 1 channels per SPW and 2 polarizations,\n",
      "8 SPWs and Channel 0 frequency of 1st SPW of 243.116401246 GHz\n",
      "corresponding to 1.23311302102 mm\n",
      "Datasets has baselines between 11.6500031801 and 371.63538144 m\n"
     ]
    }
   ],
   "source": [
    "os.chdir('calibratedms')\n",
    "!{casapath}/casa -c mstonumpyortxt_multiple.py"
   ]
  },
  {
   "cell_type": "markdown",
   "metadata": {},
   "source": [
    "Read in visibilities into Python, and use Galario to figure out ideal cell size and image size.\n",
    "Typically half the suggested image size is OK."
   ]
  },
  {
   "cell_type": "code",
   "execution_count": 6,
   "metadata": {},
   "outputs": [
    {
     "name": "stdout",
     "output_type": "stream",
     "text": [
      "Pixel size (arcsec) and number of pixels required for dataset GJ14_calibratedvis_cont.ms:\n",
      "0.06843568580635173 512.0\n"
     ]
    }
   ],
   "source": [
    "from galario.double import get_image_size\n",
    "u=[[] for x in vis]\n",
    "v=[[] for x in vis]\n",
    "Re=[[] for x in vis]\n",
    "Im=[[] for x in vis]\n",
    "w=[[] for x in vis]\n",
    "nxy=[[] for x in vis]\n",
    "dxy=[[] for x in vis]\n",
    "for i in np.arange(nvis):\n",
    "    u[i], v[i], Re[i], Im[i], w[i] = np.load(vis[i][:-3]+'.npy')\n",
    "    nxy[i], dxy[i] = get_image_size(u, v)\n",
    "    nxy[i]/=2\n",
    "    print('Pixel size (arcsec) and number of pixels required for dataset '+vis[i]+':')\n",
    "    print(dxy[i]*180.0/np.pi*3600, nxy[i])    \n",
    "\n",
    "#Save pixel sizes and number of pixels, for imaging and fitting\n",
    "pickle.dump([dxy, list(map(int, nxy))], open(workingdir+'/'+sourcetag+'/calibratedms/pixinfo.npy', 'wb'), protocol=2)\n"
   ]
  },
  {
   "cell_type": "markdown",
   "metadata": {},
   "source": [
    "Then run the CLEANing using CASA's tclean.\n",
    "\n",
    "Run this within CASA locally. There is no way around this if you want to use the interactive cleaning mode!"
   ]
  },
  {
   "cell_type": "code",
   "execution_count": 7,
   "metadata": {
    "scrolled": true
   },
   "outputs": [
    {
     "ename": "NameError",
     "evalue": "name 'execfile' is not defined",
     "output_type": "error",
     "traceback": [
      "\u001b[0;31m---------------------------------------------------------------------------\u001b[0m",
      "\u001b[0;31mNameError\u001b[0m                                 Traceback (most recent call last)",
      "\u001b[0;32m<ipython-input-7-305e320bba94>\u001b[0m in \u001b[0;36m<module>\u001b[0;34m()\u001b[0m\n\u001b[1;32m      1\u001b[0m \u001b[0mos\u001b[0m\u001b[0;34m.\u001b[0m\u001b[0mchdir\u001b[0m\u001b[0;34m(\u001b[0m\u001b[0;34m'../imaging'\u001b[0m\u001b[0;34m)\u001b[0m\u001b[0;34m\u001b[0m\u001b[0;34m\u001b[0m\u001b[0m\n\u001b[1;32m      2\u001b[0m \u001b[0;31m#THE COMMAND BELOW to be run on local computer for CASA to bring up interactive prompt\u001b[0m\u001b[0;34m\u001b[0m\u001b[0;34m\u001b[0m\u001b[0;34m\u001b[0m\u001b[0m\n\u001b[0;32m----> 3\u001b[0;31m \u001b[0mexecfile\u001b[0m\u001b[0;34m(\u001b[0m\u001b[0;34m'imagingscript_multiple.py'\u001b[0m\u001b[0;34m)\u001b[0m\u001b[0;34m\u001b[0m\u001b[0;34m\u001b[0m\u001b[0m\n\u001b[0m",
      "\u001b[0;31mNameError\u001b[0m: name 'execfile' is not defined"
     ]
    }
   ],
   "source": [
    "os.chdir('../imaging')\n",
    "#THE COMMAND BELOW to be run on local computer for CASA to bring up interactive prompt\n",
    "execfile('imagingscript_multiple.py')"
   ]
  },
  {
   "cell_type": "markdown",
   "metadata": {},
   "source": [
    "## Step 3: Run visibility fit by forward-modeling with RADMC-3D (ray tracing) and GALARIO (for FFT) through emcee package"
   ]
  },
  {
   "cell_type": "code",
   "execution_count": 11,
   "metadata": {},
   "outputs": [
    {
     "data": {
      "text/plain": [
       "[array([33515.66666037, 27327.65606168, 83329.27393947, ...,\n",
       "         8950.090162  ,  3090.27655607, -5859.83833311])]"
      ]
     },
     "execution_count": 11,
     "metadata": {},
     "output_type": "execute_result"
    }
   ],
   "source": [
    "os.chdir('../uvfit')\n"
   ]
  },
  {
   "cell_type": "code",
   "execution_count": null,
   "metadata": {},
   "outputs": [],
   "source": []
  }
 ],
 "metadata": {
  "kernelspec": {
   "display_name": "Python 3",
   "language": "python",
   "name": "python3"
  },
  "language_info": {
   "codemirror_mode": {
    "name": "ipython",
    "version": 3
   },
   "file_extension": ".py",
   "mimetype": "text/x-python",
   "name": "python",
   "nbconvert_exporter": "python",
   "pygments_lexer": "ipython3",
   "version": "3.7.3"
  }
 },
 "nbformat": 4,
 "nbformat_minor": 2
}
