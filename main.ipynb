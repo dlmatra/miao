{
 "cells": [
  {
   "cell_type": "markdown",
   "metadata": {},
   "source": [
    "## Analyzing and fitting interferometric visibility datasets of circumstellar rings"
   ]
  },
  {
   "cell_type": "markdown",
   "metadata": {},
   "source": [
    "Bringing your data from archive to paper-ready plots requires several steps, which we will follow and execute in this Notebook. Built in **Python 3 and with CASA 5.4.0**, but may handle other versions.\n",
    "\n",
    "**GALARIO package**:\n",
    "https://github.com/mtazzari/galario\n",
    "**needs to be installed within local Python 3 installation**, e.g. with conda with a command like: 'conda install -c conda-forge galario'. This code was tested with version 1.2\n",
    "\n",
    "**RADMC-3D version 0.41**:\n",
    "http://www.ita.uni-heidelberg.de/~dullemond/software/radmc-3d/index.html\n",
    "comes with the package, in a version that has been slightly modified to avoid print statements if nothing goes wrong, and hence save time. **This however needs to be installed** through: 'cd radmc-gala/radmc-3d/version_0.41/srcnoprint' and then 'make'. It is strongly advised that the user familiarises themselves with the ray-tracing capabilities of radmc-3d, although this knowledge should not be needed to run radmc-gala.\n",
    "The **radmc3dPy** add-on: https://www.ast.cam.ac.uk/~juhasz/radmc3dPyDoc/index.html is used to read radmc-3d files into Python, and is included within the radmc-3d package.\n",
    "\n",
    "**Astropy**:\n",
    "https://www.astropy.org/\n",
    "**needs to be installed within local Python 3 installation**, to enable read and write of FITS format files. Installation is as simple as: 'conda install astropy' or 'pip install astropy'."
   ]
  },
  {
   "cell_type": "markdown",
   "metadata": {},
   "source": [
    "## Step 0: Create list with all requested inputs"
   ]
  },
  {
   "cell_type": "markdown",
   "metadata": {},
   "source": [
    "Here you need to decide if you are doing imaging and/or fitting and/or \n",
    "input some parameters that are needed for the imaging and/or fitting and/or postprocessing.\n"
   ]
  },
  {
   "cell_type": "code",
   "execution_count": 1,
   "metadata": {},
   "outputs": [
    {
     "name": "stdout",
     "output_type": "stream",
     "text": [
      "Directory for object GJ14 already exists at /d1/boudica1/lmatra\n"
     ]
    }
   ],
   "source": [
    "import numpy as np\n",
    "import os\n",
    "import pickle\n",
    "\n",
    "#Decide which you want to do, imaging and/or fitting and/or postprocessing\n",
    "imaging=True\n",
    "fit=True\n",
    "postproc=True\n",
    "\n",
    "radmcgalapath='/d1/boudica1/lmatra/radmc-gala'\n",
    "casapath='/d1/boudica1/casa-release-5.4.0-68.el6/bin'\n",
    "sourcetag='GJ14'\n",
    "workingdir='/d1/boudica1/lmatra'\n",
    "vis=['/sma/SMAusers/lmatra/REASONS_ALMA/cycle5/GJ14/calibratedms/GJ14_calibratedvis_cont.ms']\n",
    "nvis=len(vis)\n",
    "if not os.path.exists(workingdir+'/'+sourcetag):\n",
    "    os.mkdir(workingdir+'/'+sourcetag)\n",
    "    print('Creating directory for object '+sourcetag+' at '+workingdir)\n",
    "else:\n",
    "    print('Directory for object '+sourcetag+' already exists at '+workingdir)\n",
    "\n",
    "if imaging:\n",
    "    #Imaging parameters\n",
    "    mosaic=False\n",
    "    if mosaic:\n",
    "        mosaic=True\n",
    "        phasecenter='J2000 22h57m39.449700 -29d37m22.68681'\n",
    "    else:\n",
    "        phasecenter=''\n",
    "    weighting='natural'\n",
    "    if weighting=='briggs':\n",
    "        robust=0.5\n",
    "    else:\n",
    "        robust=''\n",
    "    uvtaper=['']\n",
    "    interactive=True\n",
    "\n",
    "if fit:\n",
    "    #Parameters for fit\n",
    "    Lstar=0.111  #Solar luminosities\n",
    "    dist=14.7  #pc\n",
    "    imsize=24.0     #arcsec, used for radiative transfer. >>2x belt outer radius, but not too large or it will slow down computation.\n",
    "    #imsize above is also the size of the grid over which the model is setup in RADMC. No disk will be put beyond this.\n",
    "\n",
    "    #Add disk parameters\n",
    "    fluxdensity=1.8e-3 #Jy\n",
    "    fluxdensity_dwn, fluxdensity_up = [0.1e-3, 50e-3]\n",
    "    rmid=99.0/dist # Radial peak location of Gaussian surface density, arcsec\n",
    "    rmid_dwn, rmid_up = [0.3, 12.0]\n",
    "    sigma=32.0/2.35/dist #standard deviation of radial Gaussian surface density\n",
    "    sigma_dwn, sigma_up = [0.05, 'halfrmid'] #halfrmid is special setup that enables maximum sigma to be half whatever rmid\n",
    "    #is in current model evaluation.\n",
    "    useh=True\n",
    "    if useh:\n",
    "        h=0.05 #aspect ratio of belt, constant with radius, whose vertical density structure at radius r is a Gaussian with width hr.\n",
    "        h_dwn, h_up = [0.005, 0.2]\n",
    "    else:\n",
    "        h=0.03\n",
    "    incl=65.0 #inclination, degrees from face-on\n",
    "    incl_dwn, incl_up = [0.1, 89.99]\n",
    "    posang=5.5 #position angle, East of North. **Needs to be between 0 and 180 degrees!**\n",
    "    if posang<45.0 or posang>135.0:\n",
    "        posang_dwn, posang_up = [-90.0, 90.0]\n",
    "    else:\n",
    "        posang_dwn, posang_up = [0.0, 180.0]\n",
    "       \n",
    "    \n",
    "    #Add star if wanted/needed\n",
    "    star=True\n",
    "    if star:\n",
    "        fstar=4e-5 #Jy\n",
    "        fstar_dwn, fstar_up = [1e-6, 2e-3]\n",
    "    \n",
    "    #Add extra parameters independently for each of the visibility datasets.\n",
    "    if nvis>1:\n",
    "        dRA=[-0.07,0.1,0.1] #RA offset of star+disk from phase center of observations\n",
    "        dRA_dwn=[-3.0,-3.0,-3.0]\n",
    "        dRA_up=[3.0,3.0,3.0]\n",
    "        dDec=[0.14,-0.1,-0.1] #Dec offset of star+disk from phase center of observations\n",
    "        dDec_dwn=[-3.0,-3.0,-3.0]\n",
    "        dDec_up=[3.0,3.0,3.0]\n",
    "        wtfact=[0.289,0.289,1e-4] #factors by which incorrect weights should be multiplied by\\\n",
    "        wtfact_dwn=[1e-6,1e-6,1e-6]\n",
    "        wtfact_up=[10.0,10.0,10.0]\n",
    "    else:\n",
    "        dRA=[-0.07] #RA offset of star+disk from phase center of observations\n",
    "        dRA_dwn=[-3.0]\n",
    "        dRA_up=[3.0]\n",
    "        dDec=[0.14] #Dec offset of star+disk from phase center of observations\n",
    "        dDec_dwn=[-3.0]\n",
    "        dDec_up=[3.0]\n",
    "        wtfact=[0.289] #factors by which incorrect weights should be multiplied by\n",
    "        wtfact_dwn=[1e-6]\n",
    "        wtfact_up=[10.0]\n",
    "\n",
    "    #Add galaxies if needed\n",
    "    ngal=0\n",
    "    if ngal>=1:\n",
    "        resolved=[True, False, False] # if definitely resolved, use 2D Gaussian as galaxy model (6 free parameters), and set resolved=True for that galaxy. \n",
    "    #Otherwise, use point source (3 free parameters) by setting resolved=False.\n",
    "        fbkg=[285e-6,500e-6,500e-6] #Flux (Jy)\n",
    "        fbkg_dwn=[1e-6,1e-6,1e-6]\n",
    "        fbkg_up=[10e-3,10e-3,10e-3]\n",
    "        dRAbkg=[2.97,2.97,2.97] # RA offset (\")\n",
    "        dRAbkg_dwn=[x-3.0 for x in dRAbkg]\n",
    "        dRAbkg_up=[x+3.0 for x in dRAbkg]\n",
    "        dDecbkg=[1.81,1.81,1.81] # Dec offset (\")\n",
    "        dDecbkg_dwn=[x-3.0 for x in dDecbkg]\n",
    "        dDecbkg_up=[x+3.0 for x in dDecbkg]\n",
    "        sigmagal=[0.3,0,0] # sigma (\")\n",
    "        sigmagal_dwn=[0.05,0.05,0.05]\n",
    "        sigmagal_up=[1.0,1.0,1.0]\n",
    "        PAgal=[28.0,0,0] # PA (deg), East of North. **Needs to be between 0 and 180 degrees!**\n",
    "        PAgal_dwn=[]\n",
    "        PAgal_up=[]\n",
    "        for i in PAgal:\n",
    "            if PAgal<45.0 or PAgal>135.0:\n",
    "                PAgal_dwn.append(-90.0)\n",
    "                PAgal_up.append(90.0)\n",
    "            else:\n",
    "                PAgal_dwn.append(0.0)\n",
    "                PAgal_up.append(180.0)   \n",
    "        incgal=[49.0,0,0] # inc (deg)\n",
    "        incgal_dwn=[0.1,0.1,0.1]\n",
    "        incgal_up=[89.99,89.99,89.99]\n",
    "    else: \n",
    "        resolved=None\n",
    "        fbkg=None\n",
    "        dRAbkg=None\n",
    "        dDecbkg=None\n",
    "        sigmagal=None\n",
    "        PAgal=None\n",
    "        incgal=None\n",
    "        \n",
    "    #Now define array containing all initial parameters\n",
    "    ## NB DO NOT MODIFY ORDER AS SETUP_MCMC CODE WILL NOT RECOGNISE PARAMETERS CORRECTLY\n",
    "    pars_init=[fluxdensity, rmid, sigma, incl, posang]\n",
    "    priors_dwn=[fluxdensity_dwn, rmid_dwn, sigma_dwn, incl_dwn, posang_dwn]\n",
    "    priors_up=[fluxdensity_up, rmid_up, sigma_up, incl_up, posang_up]\n",
    "    if useh:\n",
    "        pars_init.append(h)\n",
    "        priors_dwn.append(h_dwn)\n",
    "        priors_up.append(h_up)\n",
    "    if star:\n",
    "        pars_init.append(fstar)\n",
    "        priors_dwn.append(fstar_dwn)\n",
    "        priors_up.append(fstar_up)\n",
    "    for i in np.arange(nvis):\n",
    "        pars_init.append(dRA[i])\n",
    "        priors_dwn.append(dRA_dwn[i])\n",
    "        priors_up.append(dRA_up[i])\n",
    "        pars_init.append(dDec[i])\n",
    "        priors_dwn.append(dDec_dwn[i])\n",
    "        priors_up.append(dDec_up[i])\n",
    "        pars_init.append(wtfact[i])\n",
    "        priors_dwn.append(wtfact_dwn[i])\n",
    "        priors_up.append(wtfact_up[i])\n",
    "    if ngal>=1:\n",
    "        for i in np.arange(ngal):\n",
    "            pars_init.append(fbkg[i])\n",
    "            priors_dwn.append(fbkg_dwn[i])\n",
    "            priors_up.append(fbkg_up[i])\n",
    "            pars_init.append(dRAbkg[i])\n",
    "            priors_dwn.append(dRAbkg_dwn[i])\n",
    "            priors_up.append(dRAbkg_up[i])\n",
    "            pars_init.append(dDecbkg[i])\n",
    "            priors_dwn.append(dDecbkg_dwn[i])\n",
    "            priors_up.append(dDecbkg_up[i])\n",
    "            if resolved[i]:\n",
    "                pars_init.append(sigmagal[i])\n",
    "                priors_dwn.append(sigmagal_dwn[i])\n",
    "                priors_up.append(sigmagal_up[i])\n",
    "                pars_init.append(PAgal[i])\n",
    "                priors_dwn.append(PAgal_dwn[i])\n",
    "                priors_up.append(PAgal_up[i])\n",
    "                pars_init.append(incgal[i])\n",
    "                priors_dwn.append(incgal_dwn[i])\n",
    "                priors_up.append(incgal_up[i])\n",
    "\n"
   ]
  },
  {
   "cell_type": "markdown",
   "metadata": {},
   "source": [
    "## Step 1: Create directory structure"
   ]
  },
  {
   "cell_type": "code",
   "execution_count": 2,
   "metadata": {},
   "outputs": [
    {
     "name": "stdout",
     "output_type": "stream",
     "text": [
      "Creating directory structure\n",
      "Will be carrying out imaging\n",
      "Will be carrying out visibility fit\n",
      "Will be carrying out postprocessing\n",
      "cp: cannot stat `/d1/boudica1/lmatra/radmc-gala/utils/evaluatemodel_radmc3d.py': No such file or directory\n",
      "cp: cannot stat `/d1/boudica1/lmatra/radmc-gala/utils/uvresidualtoms.py': No such file or directory\n",
      "cp: cannot stat `/d1/boudica1/lmatra/radmc-gala/utils/makeuvdeprojplot_simple_multiple.py': No such file or directory\n",
      "cp: cannot stat `/d1/boudica1/lmatra/radmc-gala/utils/plotimage.py': No such file or directory\n",
      "cp: cannot stat `/d1/boudica1/lmatra/radmc-gala/utils/imagecombo.py': No such file or directory\n"
     ]
    }
   ],
   "source": [
    "print('Creating directory structure')\n",
    "os.chdir(workingdir+'/'+sourcetag)\n",
    "\n",
    "#Imaging\n",
    "if imaging:\n",
    "    print('Will be carrying out imaging')\n",
    "    for i in ['calibratedms', 'imaging']:\n",
    "        if not os.path.exists(workingdir+'/'+sourcetag+'/'+i):\n",
    "            os.mkdir(workingdir+'/'+sourcetag+'/'+i)\n",
    "    !cp -r {radmcgalapath}/utils/mstonumpyortxt_multiple.py {workingdir}/{sourcetag}/calibratedms/.\n",
    "    for i in np.arange(len(vis)):\n",
    "        if not os.path.exists('calibratedms/'+vis[i].rsplit('/',1)[1]):\n",
    "            !cp -r {vis[i]} {workingdir}/{sourcetag}/calibratedms/.\n",
    "        vis[i]=vis[i].rsplit('/',1)[1]\n",
    "        #print(vis[i])\n",
    "    !cp -r {radmcgalapath}/utils/imagingscript_multiple.py {workingdir}/{sourcetag}/imaging/.  \n",
    "    #Save imaging parameters\n",
    "    pickle.dump([sourcetag,workingdir,vis,nvis,mosaic,phasecenter,weighting,robust,uvtaper,interactive], open(workingdir+'/'+sourcetag+'/imaging/imagepars.npy', 'wb'), protocol=2)\n",
    "\n",
    "    \n",
    "#Fitting\n",
    "if fit: \n",
    "    print('Will be carrying out visibility fit')\n",
    "    if not os.path.exists(workingdir+'/'+sourcetag+'/'+'imaging'):\n",
    "        sys.exit('Carry out imaging first: need .pb primary beam image')\n",
    "    for i in ['uvfit']:\n",
    "        if not os.path.exists(workingdir+'/'+sourcetag+'/'+i):\n",
    "            os.mkdir(workingdir+'/'+sourcetag+'/'+i)\n",
    "    !cp -r {radmcgalapath}/utils/setup_mcmc.py {workingdir}/{sourcetag}/uvfit/. \n",
    "    !cp -r {radmcgalapath}/utils/problem_setup_cont_gauss.py {workingdir}/{sourcetag}/uvfit/.  \n",
    "    !cp -r {radmcgalapath}/utils/dustkappa_10445.micr.inp {workingdir}/{sourcetag}/uvfit/. \n",
    "    #Predict names of primary beam files according to standard naming convention\n",
    "    pbfilenames=[[] for x in vis]\n",
    "    for i in np.arange(nvis):\n",
    "        if not imaging:\n",
    "            vis[i]=vis[i].rsplit('/',1)[1]\n",
    "        pbfilenames[i]=vis[i][:-3]+'_'+weighting+robust+'_pb.fits'\n",
    "    #Save fit parameters\n",
    "    pickle.dump([pbfilenames,vis,nvis,radmcgalapath,workingdir,sourcetag,Lstar,dist,imsize,useh,star\n",
    "                 ,ngal,resolved, pars_init, priors_dwn, priors_up], open(workingdir+'/'+sourcetag+'/uvfit/fitpars.npy', 'wb'), protocol=2)\n",
    "\n",
    "#Postprocessing\n",
    "if postproc:\n",
    "    if not (imaging or fit):\n",
    "        print ('Will be carrying out postprocessing ONLY')\n",
    "    else:\n",
    "        print('Will be carrying out postprocessing')\n",
    "    if not os.path.exists(workingdir+'/'+sourcetag+'/'+'uvfit'):\n",
    "        sys.exit('Carry out fit before POSTprocessing!')\n",
    "    for i in ['analysis', 'plots', 'uvfit/evaluation']:\n",
    "        if not os.path.exists(workingdir+'/'+sourcetag+'/'+i):\n",
    "            os.mkdir(workingdir+'/'+sourcetag+'/'+i)\n",
    "    !cp -r {radmcgalapath}/utils/evaluatemodel_radmc3d.py {workingdir}/{sourcetag}/uvfit/. \n",
    "    !cp -r {radmcgalapath}/utils/uvresidualtoms.py {workingdir}/{sourcetag}/uvfit/. \n",
    "    !cp -r {radmcgalapath}/utils/makeuvdeprojplot_simple_multiple.py {workingdir}/{sourcetag}/uvfit/.\n",
    "    !cp -r {radmcgalapath}/utils/plotimage.py {workingdir}/{sourcetag}/analysis/.  \n",
    "    !cp -r {radmcgalapath}/utils/imagecombo.py {workingdir}/{sourcetag}/analysis/. \n",
    "   \n"
   ]
  },
  {
   "cell_type": "markdown",
   "metadata": {},
   "source": [
    "## Step 2: Carry out imaging via imagingscript_multiple CASA script\n",
    "First convert visibilities in CASA MS format to a python save file"
   ]
  },
  {
   "cell_type": "code",
   "execution_count": 3,
   "metadata": {},
   "outputs": [
    {
     "name": "stdout",
     "output_type": "stream",
     "text": [
      "\n",
      "=========================================\n",
      "The start-up time of CASA may vary\n",
      "depending on whether the shared libraries\n",
      "are cached or not.\n",
      "=========================================\n",
      "\n",
      "\u001b]0;IPython: GJ14/calibratedms\u0007IPython 5.1.0 -- An enhanced Interactive Python.\n",
      "\n",
      "CASA 5.4.0-68   -- Common Astronomy Software Applications\n",
      "\n",
      "--> CrashReporter initialized.\n",
      "Found data with 225826 uv points per channel\n",
      "with 1 channels per SPW and 2 polarizations,\n",
      "8 SPWs and Channel 0 frequency of 1st SPW of 243.116401246 GHz\n",
      "corresponding to 1.23311302102 mm\n",
      "Datasets has baselines between 11.6500031801 and 371.63538144 m\n"
     ]
    }
   ],
   "source": [
    "os.chdir('calibratedms')\n",
    "!{casapath}/casa -c mstonumpyortxt_multiple.py"
   ]
  },
  {
   "cell_type": "markdown",
   "metadata": {},
   "source": [
    "Read in visibilities into Python, and use Galario to figure out ideal cell size and image size.\n",
    "Typically half the suggested image size is OK."
   ]
  },
  {
   "cell_type": "code",
   "execution_count": 4,
   "metadata": {},
   "outputs": [
    {
     "name": "stdout",
     "output_type": "stream",
     "text": [
      "Pixel size (arcsec) and number of pixels required for dataset GJ14_calibratedvis_cont.ms:\n",
      "0.06843568580635173 512.0\n",
      "Pixel size (arcsec) and number of pixels that will be used:\n",
      "0.06843568580635173 512\n"
     ]
    }
   ],
   "source": [
    "from galario.double import get_image_size\n",
    "u=[[] for x in vis]\n",
    "v=[[] for x in vis]\n",
    "Re=[[] for x in vis]\n",
    "Im=[[] for x in vis]\n",
    "w=[[] for x in vis]\n",
    "nxy=[[] for x in vis]\n",
    "dxy=[[] for x in vis]\n",
    "for i in np.arange(nvis):\n",
    "    u[i], v[i], Re[i], Im[i], w[i] = np.load(vis[i][:-3]+'.npy')\n",
    "    nxy[i], dxy[i] = get_image_size(u, v)\n",
    "    nxy[i]/=2\n",
    "    print('Pixel size (arcsec) and number of pixels required for dataset '+vis[i]+':')\n",
    "    print(dxy[i]*180.0/np.pi*3600, nxy[i])    \n",
    "\n",
    "#Figure out pix size and number for concatenated image.\n",
    "dxyall=np.min(dxy)\n",
    "nxyall=np.int(np.ceil(np.max(np.asarray(dxy)*np.asarray(nxy))/dxyall/2.0)*2)\n",
    "print('Pixel size (arcsec) and number of pixels that will be used:')\n",
    "print(dxyall*180.0/np.pi*3600, nxyall)    \n",
    "\n",
    "\n",
    "    \n",
    "#Save pixel sizes and number of pixels, for imaging and fitting\n",
    "pickle.dump([dxyall, np.int(nxyall)], open(workingdir+'/'+sourcetag+'/calibratedms/pixinfo.npy', 'wb'), protocol=2)\n"
   ]
  },
  {
   "cell_type": "markdown",
   "metadata": {},
   "source": [
    "Then run the CLEANing using CASA's tclean.\n",
    "\n",
    "Run this within CASA locally. There is no way around this if you want to use the interactive cleaning mode!"
   ]
  },
  {
   "cell_type": "code",
   "execution_count": 5,
   "metadata": {
    "scrolled": true
   },
   "outputs": [
    {
     "ename": "NameError",
     "evalue": "name 'execfile' is not defined",
     "output_type": "error",
     "traceback": [
      "\u001b[0;31m---------------------------------------------------------------------------\u001b[0m",
      "\u001b[0;31mNameError\u001b[0m                                 Traceback (most recent call last)",
      "\u001b[0;32m<ipython-input-5-305e320bba94>\u001b[0m in \u001b[0;36m<module>\u001b[0;34m()\u001b[0m\n\u001b[1;32m      1\u001b[0m \u001b[0mos\u001b[0m\u001b[0;34m.\u001b[0m\u001b[0mchdir\u001b[0m\u001b[0;34m(\u001b[0m\u001b[0;34m'../imaging'\u001b[0m\u001b[0;34m)\u001b[0m\u001b[0;34m\u001b[0m\u001b[0;34m\u001b[0m\u001b[0m\n\u001b[1;32m      2\u001b[0m \u001b[0;31m#THE COMMAND BELOW to be run on local computer for CASA to bring up interactive prompt\u001b[0m\u001b[0;34m\u001b[0m\u001b[0;34m\u001b[0m\u001b[0;34m\u001b[0m\u001b[0m\n\u001b[0;32m----> 3\u001b[0;31m \u001b[0mexecfile\u001b[0m\u001b[0;34m(\u001b[0m\u001b[0;34m'imagingscript_multiple.py'\u001b[0m\u001b[0;34m)\u001b[0m\u001b[0;34m\u001b[0m\u001b[0;34m\u001b[0m\u001b[0m\n\u001b[0m",
      "\u001b[0;31mNameError\u001b[0m: name 'execfile' is not defined"
     ]
    }
   ],
   "source": [
    "os.chdir('../imaging')\n",
    "#THE COMMAND BELOW to be run on local computer for CASA to bring up interactive prompt\n",
    "execfile('imagingscript_multiple.py')"
   ]
  },
  {
   "cell_type": "markdown",
   "metadata": {},
   "source": [
    "## Step 3: Run visibility fit by forward-modeling with RADMC-3D (ray tracing) and GALARIO (for FFT) through emcee package"
   ]
  },
  {
   "cell_type": "code",
   "execution_count": 6,
   "metadata": {},
   "outputs": [
    {
     "name": "stdout",
     "output_type": "stream",
     "text": [
      "Fast (Fortran90) Mie-scattering module could not be imported. Falling back to the slower Python version.\n",
      "Setting up sampler...\n",
      "emcee: Exception while calling your likelihood function:\n",
      "emcee: Exception while calling your likelihood function:\n",
      "  params: [ 1.65404449e-03  6.55113162e+00  9.12850964e-01  5.53834118e+01\n",
      "  5.88143906e+00  5.45303382e-02  4.27112148e-05 -7.15767526e-02\n",
      "  1.22601733e-01  2.91538972e-01]  params: [ 1.62261961e-03  6.97669426e+00  1.02379556e+00  6.28774931e+01\n",
      "  5.85030909e+00  5.11668949e-02  4.21090092e-05 -6.46224940e-02\n",
      "  1.46048332e-01  2.68318306e-01]\n",
      "\n",
      "emcee: Exception while calling your likelihood function:\n",
      "  params: [ 1.43870467e-03  6.43197379e+00  1.04513906e+00  7.02855279e+01\n",
      "  5.59179436e+00  4.66362779e-02  4.37081285e-05 -6.78911884e-02\n",
      "  1.23840308e-01  2.76295301e-01]  args: []\n",
      "emcee: Exception while calling your likelihood function:\n",
      "  kwargs: {}\n",
      "emcee: Exception while calling your likelihood function:\n",
      "  args: []\n",
      "\n",
      "  kwargs: {}\n",
      "  args: []\n",
      "emcee: Exception while calling your likelihood function:\n",
      "  params: [ 1.90066856e-03  6.42476248e+00  9.54508464e-01  5.87026596e+01\n",
      "  5.19433884e+00  5.39939572e-02  4.05289520e-05 -6.31422829e-02\n",
      "  1.40113107e-01  2.61113264e-01]  params: [ 1.83733207e-03  8.04655476e+00  8.10525250e-01  6.69613925e+01\n",
      "  5.60869346e+00  5.66825841e-02  4.56504234e-05 -7.74965234e-02\n",
      "  1.46474501e-01  2.69328444e-01]  kwargs: {}\n",
      "\n",
      "  exception:\n",
      "  exception:\n",
      "\n",
      "  params: [ 1.86731558e-03  7.36789828e+00  8.40182162e-01  6.33857089e+01\n",
      "  5.82441071e+00  6.42224025e-02  3.60500337e-05 -7.56863175e-02\n",
      "  1.22127853e-01  2.94841905e-01]  args: []\n",
      "  args: []\n",
      "  kwargs: {}\n",
      "\n",
      "  exception:\n",
      "  kwargs: {}\n",
      "  args: []\n"
     ]
    },
    {
     "name": "stderr",
     "output_type": "stream",
     "text": [
      "Traceback (most recent call last):\n"
     ]
    },
    {
     "name": "stdout",
     "output_type": "stream",
     "text": [
      "  exception:\n",
      "  kwargs: {}\n"
     ]
    },
    {
     "name": "stderr",
     "output_type": "stream",
     "text": [
      "Traceback (most recent call last):\n"
     ]
    },
    {
     "name": "stdout",
     "output_type": "stream",
     "text": [
      "  exception:\n",
      "  exception:\n"
     ]
    },
    {
     "name": "stderr",
     "output_type": "stream",
     "text": [
      "Traceback (most recent call last):\n",
      "  File \"/d1/boudica1/lmatra/radmc-gala/emcee/emcee3/ensemble.py\", line 487, in __call__\n",
      "    return self.f(x, *self.args, **self.kwargs)\n",
      "  File \"/d1/boudica1/lmatra/radmc-gala/emcee/emcee3/ensemble.py\", line 487, in __call__\n",
      "    return self.f(x, *self.args, **self.kwargs)\n",
      "Traceback (most recent call last):\n",
      "Traceback (most recent call last):\n",
      "  File \"/d1/boudica1/lmatra/GJ14/uvfit/setup_mcmc.py\", line 200, in lnpostfn\n",
      "    imag     =     radmc3dPy.image.readImage(binary=True)\n",
      "Traceback (most recent call last):\n",
      "  File \"/d1/boudica1/lmatra/radmc-gala/radmc-3d/version_0.41/python/radmc3dPy/image.py\", line 1111, in readImage\n",
      "    dum.readImage(fname=fname, binary=binary, old=old)\n",
      "  File \"/d1/boudica1/lmatra/radmc-gala/emcee/emcee3/ensemble.py\", line 487, in __call__\n",
      "    return self.f(x, *self.args, **self.kwargs)\n",
      "  File \"/d1/boudica1/lmatra/radmc-gala/emcee/emcee3/ensemble.py\", line 487, in __call__\n",
      "    return self.f(x, *self.args, **self.kwargs)\n",
      "  File \"/d1/boudica1/lmatra/radmc-gala/emcee/emcee3/ensemble.py\", line 487, in __call__\n",
      "    return self.f(x, *self.args, **self.kwargs)\n",
      "  File \"/d1/boudica1/lmatra/radmc-gala/emcee/emcee3/ensemble.py\", line 487, in __call__\n",
      "    return self.f(x, *self.args, **self.kwargs)\n",
      "  File \"/d1/boudica1/lmatra/GJ14/uvfit/setup_mcmc.py\", line 200, in lnpostfn\n",
      "    imag     =     radmc3dPy.image.readImage(binary=True)\n",
      "  File \"/d1/boudica1/lmatra/radmc-gala/radmc-3d/version_0.41/python/radmc3dPy/image.py\", line 724, in readImage\n",
      "    dum = np.fromfile(fname, count=4, dtype=int)\n",
      "  File \"/d1/boudica1/lmatra/GJ14/uvfit/setup_mcmc.py\", line 200, in lnpostfn\n",
      "    imag     =     radmc3dPy.image.readImage(binary=True)\n",
      "  File \"/d1/boudica1/lmatra/radmc-gala/radmc-3d/version_0.41/python/radmc3dPy/image.py\", line 1111, in readImage\n",
      "    dum.readImage(fname=fname, binary=binary, old=old)\n",
      "  File \"/d1/boudica1/lmatra/GJ14/uvfit/setup_mcmc.py\", line 200, in lnpostfn\n",
      "    imag     =     radmc3dPy.image.readImage(binary=True)\n",
      "  File \"/d1/boudica1/lmatra/GJ14/uvfit/setup_mcmc.py\", line 200, in lnpostfn\n",
      "    imag     =     radmc3dPy.image.readImage(binary=True)\n",
      "  File \"/d1/boudica1/lmatra/GJ14/uvfit/setup_mcmc.py\", line 200, in lnpostfn\n",
      "    imag     =     radmc3dPy.image.readImage(binary=True)\n",
      "  File \"/d1/boudica1/lmatra/radmc-gala/radmc-3d/version_0.41/python/radmc3dPy/image.py\", line 1111, in readImage\n",
      "    dum.readImage(fname=fname, binary=binary, old=old)\n",
      "  File \"/d1/boudica1/lmatra/radmc-gala/radmc-3d/version_0.41/python/radmc3dPy/image.py\", line 724, in readImage\n",
      "    dum = np.fromfile(fname, count=4, dtype=int)\n",
      "FileNotFoundError: [Errno 2] No such file or directory: 'image.bout'\n",
      "  File \"/d1/boudica1/lmatra/radmc-gala/radmc-3d/version_0.41/python/radmc3dPy/image.py\", line 1111, in readImage\n",
      "    dum.readImage(fname=fname, binary=binary, old=old)\n",
      "FileNotFoundError: [Errno 2] No such file or directory: 'image.bout'\n",
      "  File \"/d1/boudica1/lmatra/radmc-gala/radmc-3d/version_0.41/python/radmc3dPy/image.py\", line 724, in readImage\n",
      "    dum = np.fromfile(fname, count=4, dtype=int)\n",
      "  File \"/d1/boudica1/lmatra/radmc-gala/radmc-3d/version_0.41/python/radmc3dPy/image.py\", line 724, in readImage\n",
      "    dum = np.fromfile(fname, count=4, dtype=int)\n",
      "FileNotFoundError: [Errno 2] No such file or directory: 'image.bout'\n",
      "  File \"/d1/boudica1/lmatra/radmc-gala/radmc-3d/version_0.41/python/radmc3dPy/image.py\", line 1111, in readImage\n",
      "    dum.readImage(fname=fname, binary=binary, old=old)\n",
      "  File \"/d1/boudica1/lmatra/radmc-gala/radmc-3d/version_0.41/python/radmc3dPy/image.py\", line 724, in readImage\n",
      "    dum = np.fromfile(fname, count=4, dtype=int)\n",
      "FileNotFoundError: [Errno 2] No such file or directory: 'image.bout'\n",
      "  File \"/d1/boudica1/lmatra/radmc-gala/radmc-3d/version_0.41/python/radmc3dPy/image.py\", line 1111, in readImage\n",
      "    dum.readImage(fname=fname, binary=binary, old=old)\n",
      "FileNotFoundError: [Errno 2] No such file or directory: 'image.bout'\n",
      "  File \"/d1/boudica1/lmatra/radmc-gala/radmc-3d/version_0.41/python/radmc3dPy/image.py\", line 724, in readImage\n",
      "    dum = np.fromfile(fname, count=4, dtype=int)\n",
      "FileNotFoundError: [Errno 2] No such file or directory: 'image.bout'\n"
     ]
    },
    {
     "name": "stdout",
     "output_type": "stream",
     "text": [
      "emcee: Exception while calling your likelihood function:\n",
      "emcee: Exception while calling your likelihood function:\n",
      "  params: [ 1.97893633e-03  6.18173824e+00  9.75939008e-01  6.26529945e+01\n",
      "  4.35432435e+00  5.15530817e-02  4.28856945e-05 -6.80697664e-02\n",
      "  1.67399513e-01  2.64486367e-01]  params: [ 1.56005204e-03  6.30641003e+00  1.03009953e+00  7.19832383e+01\n",
      "  5.92481147e+00  5.70289324e-02  4.03272576e-05 -7.09253226e-02\n",
      "  1.39311298e-01  3.30007436e-01]emcee: Exception while calling your likelihood function:\n",
      "  params: [ 1.88234000e-03  6.15468261e+00  7.96490569e-01  6.20891021e+01\n",
      "  5.76140047e+00  4.94035571e-02  3.52703091e-05 -7.15266068e-02\n",
      "  1.52931213e-01  3.00887454e-01]\n",
      "\n",
      "emcee: Exception while calling your likelihood function:\n",
      "\n",
      "  args: []\n",
      "  args: []\n",
      "  params: [ 1.89751834e-03  6.73347263e+00  7.38059266e-01  7.96175072e+01\n",
      "  5.63631541e+00  5.03661766e-02  3.14573333e-05 -7.18452750e-02\n",
      "  1.32387092e-01  2.91131861e-01]\n",
      "  args: []\n",
      "  args: []\n",
      "  kwargs: {}\n",
      "  kwargs: {}\n",
      "  kwargs: {}\n",
      "  kwargs: {}\n",
      "  exception:\n",
      "emcee: Exception while calling your likelihood function:\n",
      "  exception:\n",
      "emcee: Exception while calling your likelihood function:\n",
      "  exception:\n",
      "  exception:\n"
     ]
    },
    {
     "name": "stderr",
     "output_type": "stream",
     "text": [
      "Traceback (most recent call last):\n",
      "Traceback (most recent call last):\n"
     ]
    },
    {
     "name": "stdout",
     "output_type": "stream",
     "text": [
      "emcee: Exception while calling your likelihood function:\n"
     ]
    },
    {
     "name": "stderr",
     "output_type": "stream",
     "text": [
      "  File \"/d1/boudica1/lmatra/radmc-gala/emcee/emcee3/ensemble.py\", line 487, in __call__\n",
      "    return self.f(x, *self.args, **self.kwargs)\n",
      "Traceback (most recent call last):\n",
      "  File \"/d1/boudica1/lmatra/radmc-gala/emcee/emcee3/ensemble.py\", line 487, in __call__\n",
      "    return self.f(x, *self.args, **self.kwargs)\n"
     ]
    },
    {
     "name": "stdout",
     "output_type": "stream",
     "text": [
      "  params: [ 1.60995598e-03  7.43870912e+00  8.15981930e-01  6.41662067e+01\n",
      "  4.77248260e+00  5.83800141e-02  3.66259994e-05 -7.51343092e-02\n",
      "  9.49173904e-02  3.15175900e-01]"
     ]
    },
    {
     "name": "stderr",
     "output_type": "stream",
     "text": [
      "  File \"/d1/boudica1/lmatra/GJ14/uvfit/setup_mcmc.py\", line 200, in lnpostfn\n",
      "    imag     =     radmc3dPy.image.readImage(binary=True)\n"
     ]
    },
    {
     "name": "stdout",
     "output_type": "stream",
     "text": [
      "  params: [ 1.95270041e-03  6.71732242e+00  8.02850771e-01  6.69501166e+01\n",
      "  5.05176920e+00  5.20587014e-02  3.71291015e-05 -5.81745560e-02\n",
      "  1.67427431e-01  2.91687945e-01]"
     ]
    },
    {
     "name": "stderr",
     "output_type": "stream",
     "text": [
      "  File \"/d1/boudica1/lmatra/radmc-gala/emcee/emcee3/ensemble.py\", line 487, in __call__\n",
      "    return self.f(x, *self.args, **self.kwargs)\n",
      "Traceback (most recent call last):\n",
      "  File \"/d1/boudica1/lmatra/radmc-gala/radmc-3d/version_0.41/python/radmc3dPy/image.py\", line 1111, in readImage\n",
      "    dum.readImage(fname=fname, binary=binary, old=old)\n",
      "  File \"/d1/boudica1/lmatra/radmc-gala/radmc-3d/version_0.41/python/radmc3dPy/image.py\", line 724, in readImage\n",
      "    dum = np.fromfile(fname, count=4, dtype=int)\n",
      "  File \"/d1/boudica1/lmatra/GJ14/uvfit/setup_mcmc.py\", line 200, in lnpostfn\n",
      "    imag     =     radmc3dPy.image.readImage(binary=True)\n",
      "  File \"/d1/boudica1/lmatra/radmc-gala/emcee/emcee3/ensemble.py\", line 487, in __call__\n",
      "    return self.f(x, *self.args, **self.kwargs)\n"
     ]
    },
    {
     "name": "stdout",
     "output_type": "stream",
     "text": [
      "\n"
     ]
    },
    {
     "name": "stderr",
     "output_type": "stream",
     "text": [
      "FileNotFoundError: [Errno 2] No such file or directory: 'image.bout'\n"
     ]
    },
    {
     "name": "stdout",
     "output_type": "stream",
     "text": [
      "  args: []\n"
     ]
    },
    {
     "name": "stderr",
     "output_type": "stream",
     "text": [
      "  File \"/d1/boudica1/lmatra/radmc-gala/radmc-3d/version_0.41/python/radmc3dPy/image.py\", line 1111, in readImage\n",
      "    dum.readImage(fname=fname, binary=binary, old=old)\n",
      "  File \"/d1/boudica1/lmatra/radmc-gala/radmc-3d/version_0.41/python/radmc3dPy/image.py\", line 724, in readImage\n",
      "    dum = np.fromfile(fname, count=4, dtype=int)\n"
     ]
    },
    {
     "name": "stdout",
     "output_type": "stream",
     "text": [
      "\n",
      "  params: [ 1.93882562e-03  6.52575032e+00  9.14188943e-01  6.84818248e+01\n",
      "  5.69377113e+00  4.49799771e-02  4.58835645e-05 -6.74109688e-02\n",
      "  1.31023882e-01  2.68822343e-01]  kwargs: {}\n"
     ]
    },
    {
     "name": "stderr",
     "output_type": "stream",
     "text": [
      "FileNotFoundError: [Errno 2] No such file or directory: 'image.bout'\n"
     ]
    },
    {
     "name": "stdout",
     "output_type": "stream",
     "text": [
      "  args: []\n",
      "  exception:\n",
      "\n",
      "  kwargs: {}\n",
      "  args: []\n"
     ]
    },
    {
     "name": "stderr",
     "output_type": "stream",
     "text": [
      "  File \"/d1/boudica1/lmatra/GJ14/uvfit/setup_mcmc.py\", line 200, in lnpostfn\n",
      "    imag     =     radmc3dPy.image.readImage(binary=True)\n"
     ]
    },
    {
     "name": "stdout",
     "output_type": "stream",
     "text": [
      "  kwargs: {}\n",
      "  exception:\n"
     ]
    },
    {
     "name": "stderr",
     "output_type": "stream",
     "text": [
      "  File \"/d1/boudica1/lmatra/GJ14/uvfit/setup_mcmc.py\", line 200, in lnpostfn\n",
      "    imag     =     radmc3dPy.image.readImage(binary=True)\n",
      "Traceback (most recent call last):\n",
      "  File \"/d1/boudica1/lmatra/radmc-gala/radmc-3d/version_0.41/python/radmc3dPy/image.py\", line 1111, in readImage\n",
      "    dum.readImage(fname=fname, binary=binary, old=old)\n",
      "Traceback (most recent call last):\n",
      "  File \"/d1/boudica1/lmatra/radmc-gala/emcee/emcee3/ensemble.py\", line 487, in __call__\n",
      "    return self.f(x, *self.args, **self.kwargs)\n",
      "  File \"/d1/boudica1/lmatra/radmc-gala/radmc-3d/version_0.41/python/radmc3dPy/image.py\", line 724, in readImage\n",
      "    dum = np.fromfile(fname, count=4, dtype=int)\n",
      "  File \"/d1/boudica1/lmatra/radmc-gala/radmc-3d/version_0.41/python/radmc3dPy/image.py\", line 1111, in readImage\n",
      "    dum.readImage(fname=fname, binary=binary, old=old)\n",
      "  File \"/d1/boudica1/lmatra/radmc-gala/emcee/emcee3/ensemble.py\", line 487, in __call__\n",
      "    return self.f(x, *self.args, **self.kwargs)\n",
      "FileNotFoundError: [Errno 2] No such file or directory: 'image.bout'\n",
      "  File \"/d1/boudica1/lmatra/radmc-gala/radmc-3d/version_0.41/python/radmc3dPy/image.py\", line 724, in readImage\n",
      "    dum = np.fromfile(fname, count=4, dtype=int)\n",
      "  File \"/d1/boudica1/lmatra/GJ14/uvfit/setup_mcmc.py\", line 200, in lnpostfn\n",
      "    imag     =     radmc3dPy.image.readImage(binary=True)\n"
     ]
    },
    {
     "name": "stdout",
     "output_type": "stream",
     "text": [
      "emcee: Exception while calling your likelihood function:\n"
     ]
    },
    {
     "name": "stderr",
     "output_type": "stream",
     "text": [
      "  File \"/d1/boudica1/lmatra/GJ14/uvfit/setup_mcmc.py\", line 200, in lnpostfn\n",
      "    imag     =     radmc3dPy.image.readImage(binary=True)\n"
     ]
    },
    {
     "name": "stdout",
     "output_type": "stream",
     "text": [
      "emcee: Exception while calling your likelihood function:\n"
     ]
    },
    {
     "name": "stderr",
     "output_type": "stream",
     "text": [
      "FileNotFoundError: [Errno 2] No such file or directory: 'image.bout'\n"
     ]
    },
    {
     "name": "stdout",
     "output_type": "stream",
     "text": [
      "  exception:\n"
     ]
    },
    {
     "name": "stderr",
     "output_type": "stream",
     "text": [
      "  File \"/d1/boudica1/lmatra/radmc-gala/radmc-3d/version_0.41/python/radmc3dPy/image.py\", line 1111, in readImage\n",
      "    dum.readImage(fname=fname, binary=binary, old=old)\n",
      "  File \"/d1/boudica1/lmatra/radmc-gala/radmc-3d/version_0.41/python/radmc3dPy/image.py\", line 1111, in readImage\n",
      "    dum.readImage(fname=fname, binary=binary, old=old)\n"
     ]
    },
    {
     "name": "stdout",
     "output_type": "stream",
     "text": [
      "  params: [ 1.74517717e-03  6.62203071e+00  9.61701956e-01  7.27793790e+01\n",
      "  5.05663407e+00  4.46022289e-02  4.34309575e-05 -5.05781809e-02\n",
      "  1.54404178e-01  2.25005273e-01]"
     ]
    },
    {
     "name": "stderr",
     "output_type": "stream",
     "text": [
      "  File \"/d1/boudica1/lmatra/radmc-gala/radmc-3d/version_0.41/python/radmc3dPy/image.py\", line 724, in readImage\n",
      "    dum = np.fromfile(fname, count=4, dtype=int)\n"
     ]
    },
    {
     "name": "stdout",
     "output_type": "stream",
     "text": [
      "  params: [ 1.57418333e-03  5.83317403e+00  1.00567478e+00  7.31799510e+01\n",
      "  5.04033013e+00  5.08263672e-02  4.05502280e-05 -6.14953814e-02\n",
      "  1.38377195e-01  2.99259009e-01]\n",
      "emcee: Exception while calling your likelihood function:\n"
     ]
    },
    {
     "name": "stderr",
     "output_type": "stream",
     "text": [
      "Traceback (most recent call last):\n",
      "  File \"/d1/boudica1/lmatra/radmc-gala/radmc-3d/version_0.41/python/radmc3dPy/image.py\", line 724, in readImage\n",
      "    dum = np.fromfile(fname, count=4, dtype=int)\n"
     ]
    },
    {
     "name": "stdout",
     "output_type": "stream",
     "text": [
      "\n"
     ]
    },
    {
     "name": "stderr",
     "output_type": "stream",
     "text": [
      "FileNotFoundError: [Errno 2] No such file or directory: 'image.bout'\n",
      "FileNotFoundError: [Errno 2] No such file or directory: 'image.bout'\n",
      "  File \"/d1/boudica1/lmatra/radmc-gala/emcee/emcee3/ensemble.py\", line 487, in __call__\n",
      "    return self.f(x, *self.args, **self.kwargs)\n"
     ]
    },
    {
     "name": "stdout",
     "output_type": "stream",
     "text": [
      "  args: []\n",
      "  params: [ 1.74346723e-03  5.20236568e+00  8.48688138e-01  6.89094341e+01\n",
      "  5.33475571e+00  4.38174444e-02  4.13417657e-05 -7.21964527e-02\n",
      "  1.13653786e-01  3.15264484e-01]\n",
      "  kwargs: {}\n"
     ]
    },
    {
     "name": "stderr",
     "output_type": "stream",
     "text": [
      "  File \"/d1/boudica1/lmatra/GJ14/uvfit/setup_mcmc.py\", line 200, in lnpostfn\n",
      "    imag     =     radmc3dPy.image.readImage(binary=True)\n"
     ]
    },
    {
     "name": "stdout",
     "output_type": "stream",
     "text": [
      "  args: []\n"
     ]
    },
    {
     "name": "stderr",
     "output_type": "stream",
     "text": [
      "  File \"/d1/boudica1/lmatra/radmc-gala/radmc-3d/version_0.41/python/radmc3dPy/image.py\", line 1111, in readImage\n",
      "    dum.readImage(fname=fname, binary=binary, old=old)\n"
     ]
    },
    {
     "name": "stdout",
     "output_type": "stream",
     "text": [
      "  exception:\n",
      "emcee: Exception while calling your likelihood function:\n",
      "  kwargs: {}\n"
     ]
    },
    {
     "name": "stderr",
     "output_type": "stream",
     "text": [
      "Traceback (most recent call last):\n",
      "  File \"/d1/boudica1/lmatra/radmc-gala/emcee/emcee3/ensemble.py\", line 487, in __call__\n",
      "    return self.f(x, *self.args, **self.kwargs)\n",
      "  File \"/d1/boudica1/lmatra/radmc-gala/radmc-3d/version_0.41/python/radmc3dPy/image.py\", line 724, in readImage\n",
      "    dum = np.fromfile(fname, count=4, dtype=int)\n"
     ]
    },
    {
     "name": "stdout",
     "output_type": "stream",
     "text": [
      "  args: []\n"
     ]
    },
    {
     "name": "stderr",
     "output_type": "stream",
     "text": [
      "  File \"/d1/boudica1/lmatra/GJ14/uvfit/setup_mcmc.py\", line 200, in lnpostfn\n",
      "    imag     =     radmc3dPy.image.readImage(binary=True)\n",
      "  File \"/d1/boudica1/lmatra/radmc-gala/radmc-3d/version_0.41/python/radmc3dPy/image.py\", line 1111, in readImage\n",
      "    dum.readImage(fname=fname, binary=binary, old=old)\n"
     ]
    },
    {
     "name": "stdout",
     "output_type": "stream",
     "text": [
      "  kwargs: {}\n",
      "  exception:\n"
     ]
    },
    {
     "name": "stderr",
     "output_type": "stream",
     "text": [
      "FileNotFoundError: [Errno 2] No such file or directory: 'image.bout'\n"
     ]
    },
    {
     "name": "stdout",
     "output_type": "stream",
     "text": [
      "  params: [ 1.87985450e-03  7.46402089e+00  9.32580312e-01  6.10765430e+01\n",
      "  5.36266485e+00  5.39234768e-02  3.45863534e-05 -7.83285384e-02\n",
      "  1.51701928e-01  3.11235414e-01]"
     ]
    },
    {
     "name": "stderr",
     "output_type": "stream",
     "text": [
      "  File \"/d1/boudica1/lmatra/radmc-gala/radmc-3d/version_0.41/python/radmc3dPy/image.py\", line 724, in readImage\n",
      "    dum = np.fromfile(fname, count=4, dtype=int)\n",
      "Traceback (most recent call last):\n",
      "FileNotFoundError: [Errno 2] No such file or directory: 'image.bout'\n",
      "  File \"/d1/boudica1/lmatra/radmc-gala/emcee/emcee3/ensemble.py\", line 487, in __call__\n",
      "    return self.f(x, *self.args, **self.kwargs)\n"
     ]
    },
    {
     "name": "stdout",
     "output_type": "stream",
     "text": [
      "\n",
      "  args: []\n",
      "  kwargs: {}\n",
      "  exception:\n"
     ]
    },
    {
     "name": "stderr",
     "output_type": "stream",
     "text": [
      "  File \"/d1/boudica1/lmatra/GJ14/uvfit/setup_mcmc.py\", line 200, in lnpostfn\n",
      "    imag     =     radmc3dPy.image.readImage(binary=True)\n"
     ]
    },
    {
     "name": "stdout",
     "output_type": "stream",
     "text": [
      "  exception:\n"
     ]
    },
    {
     "name": "stderr",
     "output_type": "stream",
     "text": [
      "Traceback (most recent call last):\n",
      "  File \"/d1/boudica1/lmatra/radmc-gala/radmc-3d/version_0.41/python/radmc3dPy/image.py\", line 1111, in readImage\n",
      "    dum.readImage(fname=fname, binary=binary, old=old)\n",
      "Traceback (most recent call last):\n",
      "  File \"/d1/boudica1/lmatra/radmc-gala/emcee/emcee3/ensemble.py\", line 487, in __call__\n",
      "    return self.f(x, *self.args, **self.kwargs)\n",
      "  File \"/d1/boudica1/lmatra/radmc-gala/radmc-3d/version_0.41/python/radmc3dPy/image.py\", line 724, in readImage\n",
      "    dum = np.fromfile(fname, count=4, dtype=int)\n",
      "  File \"/d1/boudica1/lmatra/GJ14/uvfit/setup_mcmc.py\", line 200, in lnpostfn\n",
      "    imag     =     radmc3dPy.image.readImage(binary=True)\n",
      "  File \"/d1/boudica1/lmatra/radmc-gala/emcee/emcee3/ensemble.py\", line 487, in __call__\n",
      "    return self.f(x, *self.args, **self.kwargs)\n",
      "FileNotFoundError: [Errno 2] No such file or directory: 'image.bout'\n",
      "  File \"/d1/boudica1/lmatra/GJ14/uvfit/setup_mcmc.py\", line 200, in lnpostfn\n",
      "    imag     =     radmc3dPy.image.readImage(binary=True)\n",
      "  File \"/d1/boudica1/lmatra/radmc-gala/radmc-3d/version_0.41/python/radmc3dPy/image.py\", line 1111, in readImage\n",
      "    dum.readImage(fname=fname, binary=binary, old=old)\n",
      "  File \"/d1/boudica1/lmatra/radmc-gala/radmc-3d/version_0.41/python/radmc3dPy/image.py\", line 724, in readImage\n",
      "    dum = np.fromfile(fname, count=4, dtype=int)\n",
      "  File \"/d1/boudica1/lmatra/radmc-gala/radmc-3d/version_0.41/python/radmc3dPy/image.py\", line 1111, in readImage\n",
      "    dum.readImage(fname=fname, binary=binary, old=old)\n",
      "  File \"/d1/boudica1/lmatra/radmc-gala/radmc-3d/version_0.41/python/radmc3dPy/image.py\", line 724, in readImage\n",
      "    dum = np.fromfile(fname, count=4, dtype=int)\n",
      "FileNotFoundError: [Errno 2] No such file or directory: 'image.bout'\n",
      "FileNotFoundError: [Errno 2] No such file or directory: 'image.bout'\n"
     ]
    },
    {
     "name": "stdout",
     "output_type": "stream",
     "text": [
      "emcee: Exception while calling your likelihood function:\n",
      "emcee: Exception while calling your likelihood function:\n",
      "  params: [ 1.46910639e-03  7.10231230e+00  1.10662330e+00  6.38538464e+01\n",
      "  6.64694210e+00  4.72850138e-02  3.46509862e-05 -8.66675587e-02\n",
      "  1.36425300e-01  3.22641926e-01]  params: [ 1.82796324e-03  7.83796058e+00  8.92812538e-01  5.69744670e+01\n",
      "  5.30451847e+00  5.42829264e-02  3.74228184e-05 -6.83582747e-02\n",
      "  1.31874534e-01  2.71881895e-01]\n",
      "\n",
      "  args: []\n",
      "  args: []\n",
      "  kwargs: {}\n",
      "  exception:\n"
     ]
    },
    {
     "name": "stderr",
     "output_type": "stream",
     "text": [
      "Traceback (most recent call last):\n"
     ]
    },
    {
     "name": "stdout",
     "output_type": "stream",
     "text": [
      "emcee: Exception while calling your likelihood function:\n"
     ]
    },
    {
     "name": "stderr",
     "output_type": "stream",
     "text": [
      "  File \"/d1/boudica1/lmatra/radmc-gala/emcee/emcee3/ensemble.py\", line 487, in __call__\n",
      "    return self.f(x, *self.args, **self.kwargs)\n"
     ]
    },
    {
     "name": "stdout",
     "output_type": "stream",
     "text": [
      "  kwargs: {}\n",
      "emcee: Exception while calling your likelihood function:\n"
     ]
    },
    {
     "name": "stderr",
     "output_type": "stream",
     "text": [
      "  File \"/d1/boudica1/lmatra/GJ14/uvfit/setup_mcmc.py\", line 200, in lnpostfn\n",
      "    imag     =     radmc3dPy.image.readImage(binary=True)\n"
     ]
    },
    {
     "name": "stdout",
     "output_type": "stream",
     "text": [
      "  exception:\n"
     ]
    },
    {
     "name": "stderr",
     "output_type": "stream",
     "text": [
      "Traceback (most recent call last):\n",
      "  File \"/d1/boudica1/lmatra/radmc-gala/radmc-3d/version_0.41/python/radmc3dPy/image.py\", line 1111, in readImage\n",
      "    dum.readImage(fname=fname, binary=binary, old=old)\n",
      "  File \"/d1/boudica1/lmatra/radmc-gala/emcee/emcee3/ensemble.py\", line 487, in __call__\n",
      "    return self.f(x, *self.args, **self.kwargs)\n"
     ]
    },
    {
     "name": "stdout",
     "output_type": "stream",
     "text": [
      "emcee: Exception while calling your likelihood function:\n",
      "  params: [ 1.63208566e-03  6.37888160e+00  8.50349110e-01  6.16037456e+01\n",
      "  6.28338077e+00  5.35386811e-02  4.53769072e-05 -7.95977560e-02\n",
      "  1.39378629e-01  2.72880753e-01]"
     ]
    },
    {
     "name": "stderr",
     "output_type": "stream",
     "text": [
      "  File \"/d1/boudica1/lmatra/GJ14/uvfit/setup_mcmc.py\", line 200, in lnpostfn\n",
      "    imag     =     radmc3dPy.image.readImage(binary=True)\n"
     ]
    },
    {
     "name": "stdout",
     "output_type": "stream",
     "text": [
      "  params: [ 1.81484805e-03  5.56444600e+00  1.09845420e+00  7.08464717e+01\n",
      "  4.67961791e+00  4.78955758e-02  4.48913840e-05 -7.26480793e-02\n",
      "  1.45170134e-01  3.28682564e-01]\n"
     ]
    },
    {
     "name": "stderr",
     "output_type": "stream",
     "text": [
      "  File \"/d1/boudica1/lmatra/radmc-gala/radmc-3d/version_0.41/python/radmc3dPy/image.py\", line 724, in readImage\n",
      "    dum = np.fromfile(fname, count=4, dtype=int)\n"
     ]
    },
    {
     "name": "stdout",
     "output_type": "stream",
     "text": [
      "\n"
     ]
    },
    {
     "name": "stderr",
     "output_type": "stream",
     "text": [
      "  File \"/d1/boudica1/lmatra/radmc-gala/radmc-3d/version_0.41/python/radmc3dPy/image.py\", line 1111, in readImage\n",
      "    dum.readImage(fname=fname, binary=binary, old=old)\n"
     ]
    },
    {
     "name": "stdout",
     "output_type": "stream",
     "text": [
      "  args: []\n"
     ]
    },
    {
     "name": "stderr",
     "output_type": "stream",
     "text": [
      "FileNotFoundError: [Errno 2] No such file or directory: 'image.bout'\n"
     ]
    },
    {
     "name": "stdout",
     "output_type": "stream",
     "text": [
      "  args: []\n",
      "  kwargs: {}\n",
      "emcee: Exception while calling your likelihood function:\n",
      "emcee: Exception while calling your likelihood function:\n",
      "  exception:\n",
      "  kwargs: {}\n",
      "emcee: Exception while calling your likelihood function:\n",
      "  params: [ 1.88489665e-03  6.91187497e+00  8.01988955e-01  6.42084838e+01\n",
      "  5.97521224e+00  4.65034072e-02  3.86225157e-05 -6.21801004e-02\n",
      "  1.20052855e-01  3.36948895e-01]  exception:\n"
     ]
    },
    {
     "name": "stderr",
     "output_type": "stream",
     "text": [
      "  File \"/d1/boudica1/lmatra/radmc-gala/radmc-3d/version_0.41/python/radmc3dPy/image.py\", line 724, in readImage\n",
      "    dum = np.fromfile(fname, count=4, dtype=int)\n"
     ]
    },
    {
     "name": "stdout",
     "output_type": "stream",
     "text": [
      "  params: [ 1.94209171e-03  6.45550426e+00  8.78488838e-01  5.97672291e+01\n",
      "  6.44901796e+00  5.26029678e-02  4.44814169e-05 -7.19949667e-02\n",
      "  1.42442875e-01  3.03352708e-01]emcee: Exception while calling your likelihood function:\n",
      "\n",
      "  params: [ 1.79916074e-03  7.27016192e+00  9.35936223e-01  5.52576102e+01\n",
      "  4.79968906e+00  5.45367724e-02  4.13723806e-05 -6.58719830e-02\n",
      "  1.49718542e-01  3.57622685e-01]\n"
     ]
    },
    {
     "name": "stderr",
     "output_type": "stream",
     "text": [
      "FileNotFoundError: [Errno 2] No such file or directory: 'image.bout'\n"
     ]
    },
    {
     "name": "stdout",
     "output_type": "stream",
     "text": [
      "\n",
      "  params: [ 1.62280302e-03  6.69874313e+00  7.83997828e-01  6.23495145e+01\n",
      "  4.90591938e+00  4.93923292e-02  3.99739289e-05 -6.27121391e-02\n",
      "  1.53227245e-01  3.14278562e-01]  args: []\n",
      "  args: []\n"
     ]
    },
    {
     "name": "stderr",
     "output_type": "stream",
     "text": [
      "Traceback (most recent call last):\n"
     ]
    },
    {
     "name": "stdout",
     "output_type": "stream",
     "text": [
      "  args: []\n",
      "\n",
      "  kwargs: {}\n",
      "  kwargs: {}\n",
      "  kwargs: {}\n"
     ]
    },
    {
     "name": "stderr",
     "output_type": "stream",
     "text": [
      "Traceback (most recent call last):\n"
     ]
    },
    {
     "name": "stdout",
     "output_type": "stream",
     "text": [
      "  exception:\n",
      "  exception:\n"
     ]
    },
    {
     "name": "stderr",
     "output_type": "stream",
     "text": [
      "Traceback (most recent call last):\n",
      "Traceback (most recent call last):\n",
      "  File \"/d1/boudica1/lmatra/radmc-gala/emcee/emcee3/ensemble.py\", line 487, in __call__\n",
      "    return self.f(x, *self.args, **self.kwargs)\n",
      "  File \"/d1/boudica1/lmatra/radmc-gala/emcee/emcee3/ensemble.py\", line 487, in __call__\n",
      "    return self.f(x, *self.args, **self.kwargs)\n",
      "  File \"/d1/boudica1/lmatra/GJ14/uvfit/setup_mcmc.py\", line 200, in lnpostfn\n",
      "    imag     =     radmc3dPy.image.readImage(binary=True)\n",
      "  File \"/d1/boudica1/lmatra/radmc-gala/emcee/emcee3/ensemble.py\", line 487, in __call__\n",
      "    return self.f(x, *self.args, **self.kwargs)\n",
      "  File \"/d1/boudica1/lmatra/radmc-gala/emcee/emcee3/ensemble.py\", line 487, in __call__\n",
      "    return self.f(x, *self.args, **self.kwargs)\n",
      "  File \"/d1/boudica1/lmatra/GJ14/uvfit/setup_mcmc.py\", line 200, in lnpostfn\n",
      "    imag     =     radmc3dPy.image.readImage(binary=True)\n",
      "  File \"/d1/boudica1/lmatra/radmc-gala/radmc-3d/version_0.41/python/radmc3dPy/image.py\", line 1111, in readImage\n",
      "    dum.readImage(fname=fname, binary=binary, old=old)\n",
      "  File \"/d1/boudica1/lmatra/GJ14/uvfit/setup_mcmc.py\", line 200, in lnpostfn\n",
      "    imag     =     radmc3dPy.image.readImage(binary=True)\n",
      "  File \"/d1/boudica1/lmatra/radmc-gala/radmc-3d/version_0.41/python/radmc3dPy/image.py\", line 1111, in readImage\n",
      "    dum.readImage(fname=fname, binary=binary, old=old)\n",
      "  File \"/d1/boudica1/lmatra/radmc-gala/radmc-3d/version_0.41/python/radmc3dPy/image.py\", line 724, in readImage\n",
      "    dum = np.fromfile(fname, count=4, dtype=int)\n"
     ]
    },
    {
     "name": "stdout",
     "output_type": "stream",
     "text": [
      "  exception:\n"
     ]
    },
    {
     "name": "stderr",
     "output_type": "stream",
     "text": [
      "  File \"/d1/boudica1/lmatra/radmc-gala/radmc-3d/version_0.41/python/radmc3dPy/image.py\", line 1111, in readImage\n",
      "    dum.readImage(fname=fname, binary=binary, old=old)\n",
      "  File \"/d1/boudica1/lmatra/GJ14/uvfit/setup_mcmc.py\", line 200, in lnpostfn\n",
      "    imag     =     radmc3dPy.image.readImage(binary=True)\n",
      "  File \"/d1/boudica1/lmatra/radmc-gala/radmc-3d/version_0.41/python/radmc3dPy/image.py\", line 724, in readImage\n",
      "    dum = np.fromfile(fname, count=4, dtype=int)\n",
      "FileNotFoundError: [Errno 2] No such file or directory: 'image.bout'\n",
      "  File \"/d1/boudica1/lmatra/radmc-gala/radmc-3d/version_0.41/python/radmc3dPy/image.py\", line 724, in readImage\n",
      "    dum = np.fromfile(fname, count=4, dtype=int)\n",
      "FileNotFoundError: [Errno 2] No such file or directory: 'image.bout'\n",
      "FileNotFoundError: [Errno 2] No such file or directory: 'image.bout'\n",
      "Traceback (most recent call last):\n",
      "  File \"/d1/boudica1/lmatra/radmc-gala/radmc-3d/version_0.41/python/radmc3dPy/image.py\", line 1111, in readImage\n",
      "    dum.readImage(fname=fname, binary=binary, old=old)\n",
      "  File \"/d1/boudica1/lmatra/radmc-gala/radmc-3d/version_0.41/python/radmc3dPy/image.py\", line 724, in readImage\n",
      "    dum = np.fromfile(fname, count=4, dtype=int)\n",
      "  File \"/d1/boudica1/lmatra/radmc-gala/emcee/emcee3/ensemble.py\", line 487, in __call__\n",
      "    return self.f(x, *self.args, **self.kwargs)\n"
     ]
    },
    {
     "name": "stdout",
     "output_type": "stream",
     "text": [
      "  params: [ 1.74269415e-03  6.47710289e+00  1.05500335e+00  6.37528511e+01\n",
      "  5.15765655e+00  5.03368956e-02  3.85275093e-05 -6.29308070e-02\n",
      "  1.48174357e-01  2.86172990e-01]"
     ]
    },
    {
     "name": "stderr",
     "output_type": "stream",
     "text": [
      "  File \"/d1/boudica1/lmatra/GJ14/uvfit/setup_mcmc.py\", line 200, in lnpostfn\n",
      "    imag     =     radmc3dPy.image.readImage(binary=True)\n"
     ]
    },
    {
     "name": "stdout",
     "output_type": "stream",
     "text": [
      "emcee: Exception while calling your likelihood function:\n",
      "emcee: Exception while calling your likelihood function:\n",
      "\n",
      "  args: []\n",
      "  params: [ 1.78384016e-03  6.03577018e+00  8.38357770e-01  6.31387482e+01\n",
      "  5.84142854e+00  4.96862164e-02  4.00465624e-05 -6.85028195e-02\n",
      "  1.31703610e-01  3.52208439e-01]  params: [ 2.04129597e-03  6.96382991e+00  1.00093522e+00  6.30371712e+01\n",
      "  4.91794811e+00  4.58915779e-02  3.30342671e-05 -6.19556314e-02\n",
      "  1.41839502e-01  2.62197899e-01]  args: []\n",
      "  kwargs: {}\n",
      "\n",
      "\n",
      "  exception:\n",
      "  kwargs: {}\n",
      "  args: []\n",
      "  args: []\n",
      "  kwargs: {}\n"
     ]
    },
    {
     "name": "stderr",
     "output_type": "stream",
     "text": [
      "FileNotFoundError: [Errno 2] No such file or directory: 'image.bout'\n"
     ]
    },
    {
     "name": "stdout",
     "output_type": "stream",
     "text": [
      "  kwargs: {}\n",
      "  exception:\n"
     ]
    },
    {
     "name": "stderr",
     "output_type": "stream",
     "text": [
      "Traceback (most recent call last):\n"
     ]
    },
    {
     "name": "stdout",
     "output_type": "stream",
     "text": [
      "  exception:\n",
      "  exception:\n"
     ]
    },
    {
     "name": "stderr",
     "output_type": "stream",
     "text": [
      "Traceback (most recent call last):\n",
      "Traceback (most recent call last):\n"
     ]
    },
    {
     "name": "stdout",
     "output_type": "stream",
     "text": [
      "emcee: Exception while calling your likelihood function:\n"
     ]
    },
    {
     "name": "stderr",
     "output_type": "stream",
     "text": [
      "Traceback (most recent call last):\n",
      "  File \"/d1/boudica1/lmatra/radmc-gala/emcee/emcee3/ensemble.py\", line 487, in __call__\n",
      "    return self.f(x, *self.args, **self.kwargs)\n",
      "  File \"/d1/boudica1/lmatra/radmc-gala/emcee/emcee3/ensemble.py\", line 487, in __call__\n",
      "    return self.f(x, *self.args, **self.kwargs)\n",
      "  File \"/d1/boudica1/lmatra/radmc-gala/emcee/emcee3/ensemble.py\", line 487, in __call__\n",
      "    return self.f(x, *self.args, **self.kwargs)\n"
     ]
    },
    {
     "name": "stdout",
     "output_type": "stream",
     "text": [
      "emcee: Exception while calling your likelihood function:\n",
      "  params: [ 1.80458525e-03  5.68480729e+00  9.41989308e-01  7.29458985e+01\n",
      "  5.69706472e+00  4.74525237e-02  3.60940660e-05 -7.06666294e-02\n",
      "  1.54611938e-01  2.50418492e-01]"
     ]
    },
    {
     "name": "stderr",
     "output_type": "stream",
     "text": [
      "  File \"/d1/boudica1/lmatra/GJ14/uvfit/setup_mcmc.py\", line 200, in lnpostfn\n",
      "    imag     =     radmc3dPy.image.readImage(binary=True)\n",
      "  File \"/d1/boudica1/lmatra/GJ14/uvfit/setup_mcmc.py\", line 200, in lnpostfn\n",
      "    imag     =     radmc3dPy.image.readImage(binary=True)\n"
     ]
    },
    {
     "name": "stdout",
     "output_type": "stream",
     "text": [
      "emcee: Exception while calling your likelihood function:\n"
     ]
    },
    {
     "name": "stderr",
     "output_type": "stream",
     "text": [
      "  File \"/d1/boudica1/lmatra/radmc-gala/radmc-3d/version_0.41/python/radmc3dPy/image.py\", line 1111, in readImage\n",
      "    dum.readImage(fname=fname, binary=binary, old=old)\n"
     ]
    },
    {
     "name": "stdout",
     "output_type": "stream",
     "text": [
      "\n"
     ]
    },
    {
     "name": "stderr",
     "output_type": "stream",
     "text": [
      "  File \"/d1/boudica1/lmatra/radmc-gala/emcee/emcee3/ensemble.py\", line 487, in __call__\n",
      "    return self.f(x, *self.args, **self.kwargs)\n"
     ]
    },
    {
     "name": "stdout",
     "output_type": "stream",
     "text": [
      "  params: [ 1.63786709e-03  6.83930431e+00  9.81803494e-01  7.15269457e+01\n",
      "  5.34873958e+00  4.41011415e-02  3.92752788e-05 -6.89472503e-02\n",
      "  1.16490238e-01  2.66391360e-01]  args: []\n",
      "\n"
     ]
    },
    {
     "name": "stderr",
     "output_type": "stream",
     "text": [
      "  File \"/d1/boudica1/lmatra/radmc-gala/radmc-3d/version_0.41/python/radmc3dPy/image.py\", line 1111, in readImage\n",
      "    dum.readImage(fname=fname, binary=binary, old=old)\n"
     ]
    },
    {
     "name": "stdout",
     "output_type": "stream",
     "text": [
      "  kwargs: {}\n"
     ]
    },
    {
     "name": "stderr",
     "output_type": "stream",
     "text": [
      "  File \"/d1/boudica1/lmatra/radmc-gala/radmc-3d/version_0.41/python/radmc3dPy/image.py\", line 724, in readImage\n",
      "    dum = np.fromfile(fname, count=4, dtype=int)\n"
     ]
    },
    {
     "name": "stdout",
     "output_type": "stream",
     "text": [
      "  args: []\n",
      "  kwargs: {}\n"
     ]
    },
    {
     "name": "stderr",
     "output_type": "stream",
     "text": [
      "FileNotFoundError: [Errno 2] No such file or directory: 'image.bout'\n"
     ]
    },
    {
     "name": "stdout",
     "output_type": "stream",
     "text": [
      "  exception:\n"
     ]
    },
    {
     "name": "stderr",
     "output_type": "stream",
     "text": [
      "  File \"/d1/boudica1/lmatra/radmc-gala/radmc-3d/version_0.41/python/radmc3dPy/image.py\", line 1111, in readImage\n",
      "    dum.readImage(fname=fname, binary=binary, old=old)\n",
      "  File \"/d1/boudica1/lmatra/radmc-gala/radmc-3d/version_0.41/python/radmc3dPy/image.py\", line 724, in readImage\n",
      "    dum = np.fromfile(fname, count=4, dtype=int)\n",
      "  File \"/d1/boudica1/lmatra/radmc-gala/radmc-3d/version_0.41/python/radmc3dPy/image.py\", line 724, in readImage\n",
      "    dum = np.fromfile(fname, count=4, dtype=int)\n",
      "Traceback (most recent call last):\n",
      "FileNotFoundError: [Errno 2] No such file or directory: 'image.bout'\n"
     ]
    },
    {
     "name": "stdout",
     "output_type": "stream",
     "text": [
      "  exception:\n"
     ]
    },
    {
     "name": "stderr",
     "output_type": "stream",
     "text": [
      "  File \"/d1/boudica1/lmatra/GJ14/uvfit/setup_mcmc.py\", line 200, in lnpostfn\n",
      "    imag     =     radmc3dPy.image.readImage(binary=True)\n",
      "  File \"/d1/boudica1/lmatra/radmc-gala/emcee/emcee3/ensemble.py\", line 487, in __call__\n",
      "    return self.f(x, *self.args, **self.kwargs)\n",
      "  File \"/d1/boudica1/lmatra/radmc-gala/radmc-3d/version_0.41/python/radmc3dPy/image.py\", line 1111, in readImage\n",
      "    dum.readImage(fname=fname, binary=binary, old=old)\n",
      "  File \"/d1/boudica1/lmatra/GJ14/uvfit/setup_mcmc.py\", line 200, in lnpostfn\n",
      "    imag     =     radmc3dPy.image.readImage(binary=True)\n",
      "FileNotFoundError: [Errno 2] No such file or directory: 'image.bout'\n",
      "Traceback (most recent call last):\n"
     ]
    },
    {
     "name": "stdout",
     "output_type": "stream",
     "text": [
      "  params: [ 1.83920832e-03  6.90185635e+00  9.83801968e-01  6.09383712e+01\n",
      "  4.84724096e+00  4.13980647e-02  4.22176140e-05 -6.68879667e-02\n",
      "  1.42848052e-01  3.00714019e-01]"
     ]
    },
    {
     "name": "stderr",
     "output_type": "stream",
     "text": [
      "  File \"/d1/boudica1/lmatra/radmc-gala/emcee/emcee3/ensemble.py\", line 487, in __call__\n",
      "    return self.f(x, *self.args, **self.kwargs)\n"
     ]
    },
    {
     "name": "stdout",
     "output_type": "stream",
     "text": [
      "\n"
     ]
    },
    {
     "name": "stderr",
     "output_type": "stream",
     "text": [
      "  File \"/d1/boudica1/lmatra/GJ14/uvfit/setup_mcmc.py\", line 200, in lnpostfn\n",
      "    imag     =     radmc3dPy.image.readImage(binary=True)\n"
     ]
    },
    {
     "name": "stdout",
     "output_type": "stream",
     "text": [
      "  args: []\n"
     ]
    },
    {
     "name": "stderr",
     "output_type": "stream",
     "text": [
      "  File \"/d1/boudica1/lmatra/radmc-gala/radmc-3d/version_0.41/python/radmc3dPy/image.py\", line 1111, in readImage\n",
      "    dum.readImage(fname=fname, binary=binary, old=old)\n",
      "  File \"/d1/boudica1/lmatra/GJ14/uvfit/setup_mcmc.py\", line 200, in lnpostfn\n",
      "    imag     =     radmc3dPy.image.readImage(binary=True)\n",
      "  File \"/d1/boudica1/lmatra/radmc-gala/radmc-3d/version_0.41/python/radmc3dPy/image.py\", line 724, in readImage\n",
      "    dum = np.fromfile(fname, count=4, dtype=int)\n",
      "  File \"/d1/boudica1/lmatra/radmc-gala/radmc-3d/version_0.41/python/radmc3dPy/image.py\", line 724, in readImage\n",
      "    dum = np.fromfile(fname, count=4, dtype=int)\n",
      "  File \"/d1/boudica1/lmatra/radmc-gala/radmc-3d/version_0.41/python/radmc3dPy/image.py\", line 1111, in readImage\n",
      "    dum.readImage(fname=fname, binary=binary, old=old)\n",
      "  File \"/d1/boudica1/lmatra/radmc-gala/radmc-3d/version_0.41/python/radmc3dPy/image.py\", line 1111, in readImage\n",
      "    dum.readImage(fname=fname, binary=binary, old=old)\n",
      "  File \"/d1/boudica1/lmatra/radmc-gala/radmc-3d/version_0.41/python/radmc3dPy/image.py\", line 724, in readImage\n",
      "    dum = np.fromfile(fname, count=4, dtype=int)\n",
      "FileNotFoundError: [Errno 2] No such file or directory: 'image.bout'\n"
     ]
    },
    {
     "name": "stdout",
     "output_type": "stream",
     "text": [
      "  kwargs: {}\n"
     ]
    },
    {
     "name": "stderr",
     "output_type": "stream",
     "text": [
      "  File \"/d1/boudica1/lmatra/radmc-gala/radmc-3d/version_0.41/python/radmc3dPy/image.py\", line 724, in readImage\n",
      "    dum = np.fromfile(fname, count=4, dtype=int)\n"
     ]
    },
    {
     "name": "stdout",
     "output_type": "stream",
     "text": [
      "  exception:\n"
     ]
    },
    {
     "name": "stderr",
     "output_type": "stream",
     "text": [
      "FileNotFoundError: [Errno 2] No such file or directory: 'image.bout'\n",
      "Traceback (most recent call last):\n",
      "FileNotFoundError: [Errno 2] No such file or directory: 'image.bout'\n",
      "  File \"/d1/boudica1/lmatra/radmc-gala/emcee/emcee3/ensemble.py\", line 487, in __call__\n",
      "    return self.f(x, *self.args, **self.kwargs)\n",
      "  File \"/d1/boudica1/lmatra/GJ14/uvfit/setup_mcmc.py\", line 200, in lnpostfn\n",
      "    imag     =     radmc3dPy.image.readImage(binary=True)\n",
      "  File \"/d1/boudica1/lmatra/radmc-gala/radmc-3d/version_0.41/python/radmc3dPy/image.py\", line 1111, in readImage\n",
      "    dum.readImage(fname=fname, binary=binary, old=old)\n",
      "  File \"/d1/boudica1/lmatra/radmc-gala/radmc-3d/version_0.41/python/radmc3dPy/image.py\", line 724, in readImage\n",
      "    dum = np.fromfile(fname, count=4, dtype=int)\n",
      "FileNotFoundError: [Errno 2] No such file or directory: 'image.bout'\n",
      "FileNotFoundError: [Errno 2] No such file or directory: 'image.bout'\n"
     ]
    },
    {
     "name": "stdout",
     "output_type": "stream",
     "text": [
      "emcee: Exception while calling your likelihood function:\n",
      "emcee: Exception while calling your likelihood function:\n",
      "  params: [ 1.86578246e-03  6.41277162e+00  7.70667379e-01  6.40865391e+01\n",
      "  5.63577492e+00  4.76904378e-02  3.72288460e-05 -5.92910484e-02\n",
      "  1.39730856e-01  2.87459847e-01]emcee: Exception while calling your likelihood function:\n",
      "  params: [ 1.66614094e-03  5.45223652e+00  9.73984449e-01  6.77504602e+01\n",
      "  6.01332193e+00  5.26247543e-02  4.69005154e-05 -6.59352317e-02\n",
      "  1.32941884e-01  3.06856665e-01]  params: [ 1.85871004e-03  6.22275492e+00  9.12845231e-01  6.53324539e+01\n",
      "  5.23039230e+00  4.63566804e-02  3.19266713e-05 -8.08595063e-02\n",
      "  1.40940931e-01  2.75943733e-01]emcee: Exception while calling your likelihood function:\n",
      "\n",
      "  args: []\n",
      "emcee: Exception while calling your likelihood function:\n",
      "\n",
      "  kwargs: {}\n",
      "  exception:\n",
      "  params: [ 1.80858794e-03  6.09213915e+00  9.31754819e-01  6.33443224e+01\n",
      "  5.38397433e+00  5.72937309e-02  3.46917954e-05 -7.35357119e-02\n",
      "  1.33395013e-01  2.72552890e-01]  params: [ 1.87069486e-03  7.19311113e+00  9.13973516e-01  6.97970978e+01\n",
      "  5.53230956e+00  3.29374586e-02  4.17777964e-05 -7.81826743e-02\n",
      "  1.07229224e-01  2.91679820e-01]"
     ]
    },
    {
     "name": "stderr",
     "output_type": "stream",
     "text": [
      "Traceback (most recent call last):\n"
     ]
    },
    {
     "name": "stdout",
     "output_type": "stream",
     "text": [
      "emcee: Exception while calling your likelihood function:\n",
      "\n",
      "  args: []\n"
     ]
    },
    {
     "name": "stderr",
     "output_type": "stream",
     "text": [
      "  File \"/d1/boudica1/lmatra/radmc-gala/emcee/emcee3/ensemble.py\", line 487, in __call__\n",
      "    return self.f(x, *self.args, **self.kwargs)\n"
     ]
    },
    {
     "name": "stdout",
     "output_type": "stream",
     "text": [
      "  args: []\n",
      "\n",
      "  args: []\n",
      "  params: [ 1.73536543e-03  7.03196759e+00  9.95327807e-01  6.15728869e+01\n",
      "  5.42431506e+00  4.77720915e-02  3.73597400e-05 -6.77181232e-02\n",
      "  1.57058237e-01  3.10562075e-01]\n",
      "\n",
      "  args: []\n",
      "  kwargs: {}\n",
      "  kwargs: {}\n",
      "  args: []\n",
      "  exception:\n",
      "  kwargs: {}\n",
      "  kwargs: {}\n",
      "  kwargs: {}\n"
     ]
    },
    {
     "name": "stderr",
     "output_type": "stream",
     "text": [
      "  File \"/d1/boudica1/lmatra/GJ14/uvfit/setup_mcmc.py\", line 200, in lnpostfn\n",
      "    imag     =     radmc3dPy.image.readImage(binary=True)\n"
     ]
    },
    {
     "name": "stdout",
     "output_type": "stream",
     "text": [
      "emcee: Exception while calling your likelihood function:\n",
      "emcee: Exception while calling your likelihood function:\n",
      "  exception:\n",
      "  exception:\n"
     ]
    },
    {
     "name": "stderr",
     "output_type": "stream",
     "text": [
      "Traceback (most recent call last):\n"
     ]
    },
    {
     "name": "stdout",
     "output_type": "stream",
     "text": [
      "  exception:\n",
      "  params: [ 1.80433792e-03  6.11826283e+00  9.54987551e-01  5.67393012e+01\n",
      "  5.54004158e+00  4.56193750e-02  3.75722504e-05 -6.93857400e-02\n",
      "  1.38901461e-01  3.53785681e-01]"
     ]
    },
    {
     "name": "stderr",
     "output_type": "stream",
     "text": [
      "  File \"/d1/boudica1/lmatra/radmc-gala/emcee/emcee3/ensemble.py\", line 487, in __call__\n",
      "    return self.f(x, *self.args, **self.kwargs)\n",
      "  File \"/d1/boudica1/lmatra/radmc-gala/radmc-3d/version_0.41/python/radmc3dPy/image.py\", line 1111, in readImage\n",
      "    dum.readImage(fname=fname, binary=binary, old=old)\n"
     ]
    },
    {
     "name": "stdout",
     "output_type": "stream",
     "text": [
      "  exception:\n",
      "  params: [ 1.61779537e-03  7.22958213e+00  8.88315143e-01  7.05172352e+01\n",
      "  5.19609366e+00  5.29448394e-02  4.37995705e-05 -7.26764588e-02\n",
      "  1.11068460e-01  2.77962850e-01]emcee: Exception while calling your likelihood function:\n"
     ]
    },
    {
     "name": "stderr",
     "output_type": "stream",
     "text": [
      "Traceback (most recent call last):\n",
      "  File \"/d1/boudica1/lmatra/GJ14/uvfit/setup_mcmc.py\", line 200, in lnpostfn\n",
      "    imag     =     radmc3dPy.image.readImage(binary=True)\n",
      "Traceback (most recent call last):\n"
     ]
    },
    {
     "name": "stdout",
     "output_type": "stream",
     "text": [
      "  params: [ 1.92142631e-03  6.52889324e+00  8.30159625e-01  5.97365329e+01\n",
      "  6.16788338e+00  5.44159690e-02  4.28031117e-05 -7.21193009e-02\n",
      "  1.73523084e-01  2.55078987e-01]"
     ]
    },
    {
     "name": "stderr",
     "output_type": "stream",
     "text": [
      "  File \"/d1/boudica1/lmatra/radmc-gala/emcee/emcee3/ensemble.py\", line 487, in __call__\n",
      "    return self.f(x, *self.args, **self.kwargs)\n",
      "Traceback (most recent call last):\n",
      "  File \"/d1/boudica1/lmatra/radmc-gala/radmc-3d/version_0.41/python/radmc3dPy/image.py\", line 724, in readImage\n",
      "    dum = np.fromfile(fname, count=4, dtype=int)\n",
      "Traceback (most recent call last):\n"
     ]
    },
    {
     "name": "stdout",
     "output_type": "stream",
     "text": [
      "\n"
     ]
    },
    {
     "name": "stderr",
     "output_type": "stream",
     "text": [
      "  File \"/d1/boudica1/lmatra/radmc-gala/emcee/emcee3/ensemble.py\", line 487, in __call__\n",
      "    return self.f(x, *self.args, **self.kwargs)\n",
      "  File \"/d1/boudica1/lmatra/GJ14/uvfit/setup_mcmc.py\", line 200, in lnpostfn\n",
      "    imag     =     radmc3dPy.image.readImage(binary=True)\n"
     ]
    },
    {
     "name": "stdout",
     "output_type": "stream",
     "text": [
      "\n"
     ]
    },
    {
     "name": "stderr",
     "output_type": "stream",
     "text": [
      "  File \"/d1/boudica1/lmatra/radmc-gala/emcee/emcee3/ensemble.py\", line 487, in __call__\n",
      "    return self.f(x, *self.args, **self.kwargs)\n"
     ]
    },
    {
     "name": "stdout",
     "output_type": "stream",
     "text": [
      "\n"
     ]
    },
    {
     "name": "stderr",
     "output_type": "stream",
     "text": [
      "  File \"/d1/boudica1/lmatra/radmc-gala/radmc-3d/version_0.41/python/radmc3dPy/image.py\", line 1111, in readImage\n",
      "    dum.readImage(fname=fname, binary=binary, old=old)\n",
      "  File \"/d1/boudica1/lmatra/GJ14/uvfit/setup_mcmc.py\", line 200, in lnpostfn\n",
      "    imag     =     radmc3dPy.image.readImage(binary=True)\n"
     ]
    },
    {
     "name": "stdout",
     "output_type": "stream",
     "text": [
      "  args: []\n"
     ]
    },
    {
     "name": "stderr",
     "output_type": "stream",
     "text": [
      "  File \"/d1/boudica1/lmatra/radmc-gala/radmc-3d/version_0.41/python/radmc3dPy/image.py\", line 724, in readImage\n",
      "    dum = np.fromfile(fname, count=4, dtype=int)\n",
      "  File \"/d1/boudica1/lmatra/GJ14/uvfit/setup_mcmc.py\", line 200, in lnpostfn\n",
      "    imag     =     radmc3dPy.image.readImage(binary=True)\n",
      "  File \"/d1/boudica1/lmatra/radmc-gala/radmc-3d/version_0.41/python/radmc3dPy/image.py\", line 1111, in readImage\n",
      "    dum.readImage(fname=fname, binary=binary, old=old)\n",
      "  File \"/d1/boudica1/lmatra/radmc-gala/radmc-3d/version_0.41/python/radmc3dPy/image.py\", line 1111, in readImage\n",
      "    dum.readImage(fname=fname, binary=binary, old=old)\n"
     ]
    },
    {
     "name": "stdout",
     "output_type": "stream",
     "text": [
      "  args: []\n",
      "  kwargs: {}\n",
      "  args: []\n"
     ]
    },
    {
     "name": "stderr",
     "output_type": "stream",
     "text": [
      "  File \"/d1/boudica1/lmatra/radmc-gala/radmc-3d/version_0.41/python/radmc3dPy/image.py\", line 724, in readImage\n",
      "    dum = np.fromfile(fname, count=4, dtype=int)\n",
      "  File \"/d1/boudica1/lmatra/radmc-gala/radmc-3d/version_0.41/python/radmc3dPy/image.py\", line 1111, in readImage\n",
      "    dum.readImage(fname=fname, binary=binary, old=old)\n",
      "  File \"/d1/boudica1/lmatra/radmc-gala/radmc-3d/version_0.41/python/radmc3dPy/image.py\", line 724, in readImage\n",
      "    dum = np.fromfile(fname, count=4, dtype=int)\n",
      "FileNotFoundError: [Errno 2] No such file or directory: 'image.bout'\n"
     ]
    },
    {
     "name": "stdout",
     "output_type": "stream",
     "text": [
      "  kwargs: {}\n",
      "  exception:\n",
      "  exception:\n",
      "  kwargs: {}\n"
     ]
    },
    {
     "name": "stderr",
     "output_type": "stream",
     "text": [
      "Traceback (most recent call last):\n"
     ]
    },
    {
     "name": "stdout",
     "output_type": "stream",
     "text": [
      "  exception:\n"
     ]
    },
    {
     "name": "stderr",
     "output_type": "stream",
     "text": [
      "  File \"/d1/boudica1/lmatra/radmc-gala/radmc-3d/version_0.41/python/radmc3dPy/image.py\", line 724, in readImage\n",
      "    dum = np.fromfile(fname, count=4, dtype=int)\n",
      "Traceback (most recent call last):\n",
      "FileNotFoundError: [Errno 2] No such file or directory: 'image.bout'\n"
     ]
    },
    {
     "name": "stdout",
     "output_type": "stream",
     "text": [
      "emcee: Exception while calling your likelihood function:\n"
     ]
    },
    {
     "name": "stderr",
     "output_type": "stream",
     "text": [
      "FileNotFoundError: [Errno 2] No such file or directory: 'image.bout'\n",
      "  File \"/d1/boudica1/lmatra/radmc-gala/emcee/emcee3/ensemble.py\", line 487, in __call__\n",
      "    return self.f(x, *self.args, **self.kwargs)\n"
     ]
    },
    {
     "name": "stdout",
     "output_type": "stream",
     "text": [
      "emcee: Exception while calling your likelihood function:\n"
     ]
    },
    {
     "name": "stderr",
     "output_type": "stream",
     "text": [
      "  File \"/d1/boudica1/lmatra/GJ14/uvfit/setup_mcmc.py\", line 200, in lnpostfn\n",
      "    imag     =     radmc3dPy.image.readImage(binary=True)\n",
      "  File \"/d1/boudica1/lmatra/radmc-gala/emcee/emcee3/ensemble.py\", line 487, in __call__\n",
      "    return self.f(x, *self.args, **self.kwargs)\n",
      "  File \"/d1/boudica1/lmatra/radmc-gala/radmc-3d/version_0.41/python/radmc3dPy/image.py\", line 1111, in readImage\n",
      "    dum.readImage(fname=fname, binary=binary, old=old)\n",
      "FileNotFoundError: [Errno 2] No such file or directory: 'image.bout'\n",
      "Traceback (most recent call last):\n"
     ]
    },
    {
     "name": "stdout",
     "output_type": "stream",
     "text": [
      "  params: [ 1.50918682e-03  7.41595034e+00  8.13588360e-01  6.79365752e+01\n",
      "  5.66740469e+00  4.10821081e-02  3.97494438e-05 -6.80112175e-02\n",
      "  1.43688191e-01  3.17857615e-01]"
     ]
    },
    {
     "name": "stderr",
     "output_type": "stream",
     "text": [
      "  File \"/d1/boudica1/lmatra/GJ14/uvfit/setup_mcmc.py\", line 200, in lnpostfn\n",
      "    imag     =     radmc3dPy.image.readImage(binary=True)\n",
      "  File \"/d1/boudica1/lmatra/radmc-gala/radmc-3d/version_0.41/python/radmc3dPy/image.py\", line 724, in readImage\n",
      "    dum = np.fromfile(fname, count=4, dtype=int)\n",
      "FileNotFoundError: [Errno 2] No such file or directory: 'image.bout'\n"
     ]
    },
    {
     "name": "stdout",
     "output_type": "stream",
     "text": [
      "  params: [ 1.73714009e-03  7.27731794e+00  9.35315073e-01  6.65397852e+01\n",
      "  5.21104064e+00  5.59883889e-02  3.83233193e-05 -6.80438560e-02\n",
      "  1.52390595e-01  2.93301966e-01]\n",
      "\n"
     ]
    },
    {
     "name": "stderr",
     "output_type": "stream",
     "text": [
      "  File \"/d1/boudica1/lmatra/radmc-gala/emcee/emcee3/ensemble.py\", line 487, in __call__\n",
      "    return self.f(x, *self.args, **self.kwargs)\n",
      "  File \"/d1/boudica1/lmatra/radmc-gala/emcee/emcee3/ensemble.py\", line 487, in __call__\n",
      "    return self.f(x, *self.args, **self.kwargs)\n",
      "FileNotFoundError: [Errno 2] No such file or directory: 'image.bout'\n",
      "  File \"/d1/boudica1/lmatra/GJ14/uvfit/setup_mcmc.py\", line 200, in lnpostfn\n",
      "    imag     =     radmc3dPy.image.readImage(binary=True)\n",
      "  File \"/d1/boudica1/lmatra/GJ14/uvfit/setup_mcmc.py\", line 200, in lnpostfn\n",
      "    imag     =     radmc3dPy.image.readImage(binary=True)\n"
     ]
    },
    {
     "name": "stdout",
     "output_type": "stream",
     "text": [
      "emcee: Exception while calling your likelihood function:\n",
      "  args: []\n",
      "  args: []\n",
      "  kwargs: {}\n"
     ]
    },
    {
     "name": "stderr",
     "output_type": "stream",
     "text": [
      "  File \"/d1/boudica1/lmatra/radmc-gala/radmc-3d/version_0.41/python/radmc3dPy/image.py\", line 1111, in readImage\n",
      "    dum.readImage(fname=fname, binary=binary, old=old)\n"
     ]
    },
    {
     "name": "stdout",
     "output_type": "stream",
     "text": [
      "  kwargs: {}\n"
     ]
    },
    {
     "name": "stderr",
     "output_type": "stream",
     "text": [
      "  File \"/d1/boudica1/lmatra/radmc-gala/radmc-3d/version_0.41/python/radmc3dPy/image.py\", line 1111, in readImage\n",
      "    dum.readImage(fname=fname, binary=binary, old=old)\n"
     ]
    },
    {
     "name": "stdout",
     "output_type": "stream",
     "text": [
      "  params: [ 1.46596706e-03  5.92507698e+00  9.30331814e-01  7.26904434e+01\n",
      "  6.34706766e+00  4.79569615e-02  3.49606279e-05 -6.91449150e-02\n",
      "  1.54896154e-01  3.07019689e-01]"
     ]
    },
    {
     "name": "stderr",
     "output_type": "stream",
     "text": [
      "  File \"/d1/boudica1/lmatra/radmc-gala/radmc-3d/version_0.41/python/radmc3dPy/image.py\", line 724, in readImage\n",
      "    dum = np.fromfile(fname, count=4, dtype=int)\n",
      "  File \"/d1/boudica1/lmatra/radmc-gala/radmc-3d/version_0.41/python/radmc3dPy/image.py\", line 724, in readImage\n",
      "    dum = np.fromfile(fname, count=4, dtype=int)\n"
     ]
    },
    {
     "name": "stdout",
     "output_type": "stream",
     "text": [
      "  exception:\n",
      "  exception:\n"
     ]
    },
    {
     "name": "stderr",
     "output_type": "stream",
     "text": [
      "FileNotFoundError: [Errno 2] No such file or directory: 'image.bout'\n"
     ]
    },
    {
     "name": "stdout",
     "output_type": "stream",
     "text": [
      "\n"
     ]
    },
    {
     "name": "stderr",
     "output_type": "stream",
     "text": [
      "Traceback (most recent call last):\n",
      "Traceback (most recent call last):\n",
      "FileNotFoundError: [Errno 2] No such file or directory: 'image.bout'\n"
     ]
    },
    {
     "name": "stdout",
     "output_type": "stream",
     "text": [
      "emcee: Exception while calling your likelihood function:\n"
     ]
    },
    {
     "name": "stderr",
     "output_type": "stream",
     "text": [
      "  File \"/d1/boudica1/lmatra/radmc-gala/emcee/emcee3/ensemble.py\", line 487, in __call__\n",
      "    return self.f(x, *self.args, **self.kwargs)\n"
     ]
    },
    {
     "name": "stdout",
     "output_type": "stream",
     "text": [
      "  args: []\n"
     ]
    },
    {
     "name": "stderr",
     "output_type": "stream",
     "text": [
      "  File \"/d1/boudica1/lmatra/radmc-gala/emcee/emcee3/ensemble.py\", line 487, in __call__\n",
      "    return self.f(x, *self.args, **self.kwargs)\n"
     ]
    },
    {
     "name": "stdout",
     "output_type": "stream",
     "text": [
      "  kwargs: {}\n"
     ]
    },
    {
     "name": "stderr",
     "output_type": "stream",
     "text": [
      "  File \"/d1/boudica1/lmatra/GJ14/uvfit/setup_mcmc.py\", line 200, in lnpostfn\n",
      "    imag     =     radmc3dPy.image.readImage(binary=True)\n",
      "  File \"/d1/boudica1/lmatra/radmc-gala/radmc-3d/version_0.41/python/radmc3dPy/image.py\", line 1111, in readImage\n",
      "    dum.readImage(fname=fname, binary=binary, old=old)\n",
      "  File \"/d1/boudica1/lmatra/GJ14/uvfit/setup_mcmc.py\", line 200, in lnpostfn\n",
      "    imag     =     radmc3dPy.image.readImage(binary=True)\n"
     ]
    },
    {
     "name": "stdout",
     "output_type": "stream",
     "text": [
      "  exception:\n"
     ]
    },
    {
     "name": "stderr",
     "output_type": "stream",
     "text": [
      "  File \"/d1/boudica1/lmatra/radmc-gala/radmc-3d/version_0.41/python/radmc3dPy/image.py\", line 1111, in readImage\n",
      "    dum.readImage(fname=fname, binary=binary, old=old)\n",
      "  File \"/d1/boudica1/lmatra/radmc-gala/radmc-3d/version_0.41/python/radmc3dPy/image.py\", line 724, in readImage\n",
      "    dum = np.fromfile(fname, count=4, dtype=int)\n"
     ]
    },
    {
     "name": "stdout",
     "output_type": "stream",
     "text": [
      "  params: [ 1.72355886e-03  5.90518778e+00  1.02597029e+00  6.04754671e+01\n",
      "  5.43333086e+00  4.59937236e-02  4.06856328e-05 -8.45660447e-02\n",
      "  1.50876333e-01  2.71979231e-01]"
     ]
    },
    {
     "name": "stderr",
     "output_type": "stream",
     "text": [
      "FileNotFoundError: [Errno 2] No such file or directory: 'image.bout'\n"
     ]
    },
    {
     "name": "stdout",
     "output_type": "stream",
     "text": [
      "\n"
     ]
    },
    {
     "name": "stderr",
     "output_type": "stream",
     "text": [
      "  File \"/d1/boudica1/lmatra/radmc-gala/radmc-3d/version_0.41/python/radmc3dPy/image.py\", line 724, in readImage\n",
      "    dum = np.fromfile(fname, count=4, dtype=int)\n",
      "FileNotFoundError: [Errno 2] No such file or directory: 'image.bout'\n",
      "Traceback (most recent call last):\n"
     ]
    },
    {
     "name": "stdout",
     "output_type": "stream",
     "text": [
      "  args: []\n"
     ]
    },
    {
     "name": "stderr",
     "output_type": "stream",
     "text": [
      "  File \"/d1/boudica1/lmatra/radmc-gala/emcee/emcee3/ensemble.py\", line 487, in __call__\n",
      "    return self.f(x, *self.args, **self.kwargs)\n",
      "  File \"/d1/boudica1/lmatra/radmc-gala/radmc-3d/version_0.41/python/radmc3dPy/image.py\", line 1111, in readImage\n",
      "    dum.readImage(fname=fname, binary=binary, old=old)\n"
     ]
    },
    {
     "name": "stdout",
     "output_type": "stream",
     "text": [
      "  kwargs: {}\n"
     ]
    },
    {
     "name": "stderr",
     "output_type": "stream",
     "text": [
      "  File \"/d1/boudica1/lmatra/GJ14/uvfit/setup_mcmc.py\", line 200, in lnpostfn\n",
      "    imag     =     radmc3dPy.image.readImage(binary=True)\n",
      "  File \"/d1/boudica1/lmatra/radmc-gala/radmc-3d/version_0.41/python/radmc3dPy/image.py\", line 724, in readImage\n",
      "    dum = np.fromfile(fname, count=4, dtype=int)\n"
     ]
    },
    {
     "name": "stdout",
     "output_type": "stream",
     "text": [
      "  exception:\n"
     ]
    },
    {
     "name": "stderr",
     "output_type": "stream",
     "text": [
      "  File \"/d1/boudica1/lmatra/radmc-gala/radmc-3d/version_0.41/python/radmc3dPy/image.py\", line 1111, in readImage\n",
      "    dum.readImage(fname=fname, binary=binary, old=old)\n",
      "FileNotFoundError: [Errno 2] No such file or directory: 'image.bout'\n",
      "  File \"/d1/boudica1/lmatra/radmc-gala/radmc-3d/version_0.41/python/radmc3dPy/image.py\", line 724, in readImage\n",
      "    dum = np.fromfile(fname, count=4, dtype=int)\n",
      "FileNotFoundError: [Errno 2] No such file or directory: 'image.bout'\n",
      "Traceback (most recent call last):\n",
      "  File \"/d1/boudica1/lmatra/radmc-gala/emcee/emcee3/ensemble.py\", line 487, in __call__\n",
      "    return self.f(x, *self.args, **self.kwargs)\n",
      "  File \"/d1/boudica1/lmatra/GJ14/uvfit/setup_mcmc.py\", line 200, in lnpostfn\n",
      "    imag     =     radmc3dPy.image.readImage(binary=True)\n",
      "  File \"/d1/boudica1/lmatra/radmc-gala/radmc-3d/version_0.41/python/radmc3dPy/image.py\", line 1111, in readImage\n",
      "    dum.readImage(fname=fname, binary=binary, old=old)\n",
      "  File \"/d1/boudica1/lmatra/radmc-gala/radmc-3d/version_0.41/python/radmc3dPy/image.py\", line 724, in readImage\n",
      "    dum = np.fromfile(fname, count=4, dtype=int)\n",
      "FileNotFoundError: [Errno 2] No such file or directory: 'image.bout'\n"
     ]
    },
    {
     "name": "stdout",
     "output_type": "stream",
     "text": [
      "emcee: Exception while calling your likelihood function:\n",
      "emcee: Exception while calling your likelihood function:\n",
      "  params: [ 1.71701942e-03  6.58645667e+00  9.62608131e-01  6.85345380e+01\n",
      "  5.31460802e+00  5.29535731e-02  4.24892965e-05 -7.78919112e-02\n",
      "  1.38772689e-01  2.52971582e-01]emcee: Exception while calling your likelihood function:\n",
      "\n",
      "  params: [ 1.84193019e-03  6.55098228e+00  7.62237450e-01  8.27335897e+01\n",
      "  5.62299953e+00  4.57516180e-02  3.92349007e-05 -7.39408181e-02\n",
      "  1.39822466e-01  2.75161109e-01]  args: []\n",
      "  kwargs: {}\n",
      "\n",
      "  params: [ 1.99620253e-03  6.58660596e+00  9.27585133e-01  6.97486887e+01\n",
      "  5.91105573e+00  5.54252887e-02  3.07532434e-05 -7.27896266e-02\n",
      "  1.32126181e-01  3.02602346e-01]  exception:\n",
      "  args: []\n",
      "\n",
      "  kwargs: {}\n"
     ]
    },
    {
     "name": "stderr",
     "output_type": "stream",
     "text": [
      "Traceback (most recent call last):\n"
     ]
    },
    {
     "name": "stdout",
     "output_type": "stream",
     "text": [
      "  args: []\n",
      "  exception:\n"
     ]
    },
    {
     "name": "stderr",
     "output_type": "stream",
     "text": [
      "  File \"/d1/boudica1/lmatra/radmc-gala/emcee/emcee3/ensemble.py\", line 487, in __call__\n",
      "    return self.f(x, *self.args, **self.kwargs)\n"
     ]
    },
    {
     "name": "stdout",
     "output_type": "stream",
     "text": [
      "  kwargs: {}\n"
     ]
    },
    {
     "name": "stderr",
     "output_type": "stream",
     "text": [
      "  File \"/d1/boudica1/lmatra/GJ14/uvfit/setup_mcmc.py\", line 200, in lnpostfn\n",
      "    imag     =     radmc3dPy.image.readImage(binary=True)\n",
      "Traceback (most recent call last):\n"
     ]
    },
    {
     "name": "stdout",
     "output_type": "stream",
     "text": [
      "  exception:\n"
     ]
    },
    {
     "name": "stderr",
     "output_type": "stream",
     "text": [
      "  File \"/d1/boudica1/lmatra/radmc-gala/radmc-3d/version_0.41/python/radmc3dPy/image.py\", line 1111, in readImage\n",
      "    dum.readImage(fname=fname, binary=binary, old=old)\n",
      "  File \"/d1/boudica1/lmatra/radmc-gala/emcee/emcee3/ensemble.py\", line 487, in __call__\n",
      "    return self.f(x, *self.args, **self.kwargs)\n",
      "  File \"/d1/boudica1/lmatra/radmc-gala/radmc-3d/version_0.41/python/radmc3dPy/image.py\", line 724, in readImage\n",
      "    dum = np.fromfile(fname, count=4, dtype=int)\n",
      "  File \"/d1/boudica1/lmatra/GJ14/uvfit/setup_mcmc.py\", line 200, in lnpostfn\n",
      "    imag     =     radmc3dPy.image.readImage(binary=True)\n",
      "FileNotFoundError: [Errno 2] No such file or directory: 'image.bout'\n",
      "  File \"/d1/boudica1/lmatra/radmc-gala/radmc-3d/version_0.41/python/radmc3dPy/image.py\", line 1111, in readImage\n",
      "    dum.readImage(fname=fname, binary=binary, old=old)\n",
      "  File \"/d1/boudica1/lmatra/radmc-gala/radmc-3d/version_0.41/python/radmc3dPy/image.py\", line 724, in readImage\n",
      "    dum = np.fromfile(fname, count=4, dtype=int)\n",
      "Traceback (most recent call last):\n",
      "FileNotFoundError: [Errno 2] No such file or directory: 'image.bout'\n",
      "  File \"/d1/boudica1/lmatra/radmc-gala/emcee/emcee3/ensemble.py\", line 487, in __call__\n",
      "    return self.f(x, *self.args, **self.kwargs)\n",
      "  File \"/d1/boudica1/lmatra/GJ14/uvfit/setup_mcmc.py\", line 200, in lnpostfn\n",
      "    imag     =     radmc3dPy.image.readImage(binary=True)\n",
      "  File \"/d1/boudica1/lmatra/radmc-gala/radmc-3d/version_0.41/python/radmc3dPy/image.py\", line 1111, in readImage\n",
      "    dum.readImage(fname=fname, binary=binary, old=old)\n",
      "  File \"/d1/boudica1/lmatra/radmc-gala/radmc-3d/version_0.41/python/radmc3dPy/image.py\", line 724, in readImage\n",
      "    dum = np.fromfile(fname, count=4, dtype=int)\n",
      "FileNotFoundError: [Errno 2] No such file or directory: 'image.bout'\n"
     ]
    },
    {
     "name": "stdout",
     "output_type": "stream",
     "text": [
      "emcee: Exception while calling your likelihood function:\n",
      "  params: [ 2.07419668e-03  7.15719567e+00  9.64104741e-01  8.06067674e+01\n",
      "  6.17474195e+00  5.75868901e-02  4.06701613e-05 -7.91762051e-02\n",
      "  1.27135884e-01  2.74349676e-01]\n",
      "  args: []\n",
      "  kwargs: {}\n",
      "  exception:\n"
     ]
    },
    {
     "name": "stderr",
     "output_type": "stream",
     "text": [
      "Traceback (most recent call last):\n",
      "  File \"/d1/boudica1/lmatra/radmc-gala/emcee/emcee3/ensemble.py\", line 487, in __call__\n",
      "    return self.f(x, *self.args, **self.kwargs)\n",
      "  File \"/d1/boudica1/lmatra/GJ14/uvfit/setup_mcmc.py\", line 200, in lnpostfn\n",
      "    imag     =     radmc3dPy.image.readImage(binary=True)\n",
      "  File \"/d1/boudica1/lmatra/radmc-gala/radmc-3d/version_0.41/python/radmc3dPy/image.py\", line 1111, in readImage\n",
      "    dum.readImage(fname=fname, binary=binary, old=old)\n",
      "  File \"/d1/boudica1/lmatra/radmc-gala/radmc-3d/version_0.41/python/radmc3dPy/image.py\", line 724, in readImage\n",
      "    dum = np.fromfile(fname, count=4, dtype=int)\n"
     ]
    },
    {
     "name": "stdout",
     "output_type": "stream",
     "text": [
      "emcee: Exception while calling your likelihood function:\n"
     ]
    },
    {
     "name": "stderr",
     "output_type": "stream",
     "text": [
      "FileNotFoundError: [Errno 2] No such file or directory: 'image.bout'\n"
     ]
    },
    {
     "name": "stdout",
     "output_type": "stream",
     "text": [
      "  params: [ 1.92542828e-03  7.46015567e+00  8.53593772e-01  7.35634066e+01\n",
      "  5.45360599e+00  6.08825143e-02  4.21985847e-05 -6.35152912e-02\n",
      "  1.16032198e-01  2.85038462e-01]\n",
      "emcee: Exception while calling your likelihood function:\n",
      "  args: []\n",
      "  kwargs: {}\n",
      "  params: [ 1.58848655e-03  7.40717590e+00  9.67494204e-01  6.35999709e+01\n",
      "  5.16096473e+00  4.51711881e-02  4.28196651e-05 -6.58688054e-02\n",
      "  1.16530351e-01  2.79033810e-01]  exception:\n",
      "\n"
     ]
    },
    {
     "name": "stderr",
     "output_type": "stream",
     "text": [
      "Traceback (most recent call last):\n"
     ]
    },
    {
     "name": "stdout",
     "output_type": "stream",
     "text": [
      "  args: []\n"
     ]
    },
    {
     "name": "stderr",
     "output_type": "stream",
     "text": [
      "  File \"/d1/boudica1/lmatra/radmc-gala/emcee/emcee3/ensemble.py\", line 487, in __call__\n",
      "    return self.f(x, *self.args, **self.kwargs)\n"
     ]
    },
    {
     "name": "stdout",
     "output_type": "stream",
     "text": [
      "  kwargs: {}\n"
     ]
    },
    {
     "name": "stderr",
     "output_type": "stream",
     "text": [
      "  File \"/d1/boudica1/lmatra/GJ14/uvfit/setup_mcmc.py\", line 200, in lnpostfn\n",
      "    imag     =     radmc3dPy.image.readImage(binary=True)\n"
     ]
    },
    {
     "name": "stdout",
     "output_type": "stream",
     "text": [
      "  exception:\n"
     ]
    },
    {
     "name": "stderr",
     "output_type": "stream",
     "text": [
      "  File \"/d1/boudica1/lmatra/radmc-gala/radmc-3d/version_0.41/python/radmc3dPy/image.py\", line 1111, in readImage\n",
      "    dum.readImage(fname=fname, binary=binary, old=old)\n",
      "  File \"/d1/boudica1/lmatra/radmc-gala/radmc-3d/version_0.41/python/radmc3dPy/image.py\", line 724, in readImage\n",
      "    dum = np.fromfile(fname, count=4, dtype=int)\n",
      "Traceback (most recent call last):\n",
      "FileNotFoundError: [Errno 2] No such file or directory: 'image.bout'\n",
      "  File \"/d1/boudica1/lmatra/radmc-gala/emcee/emcee3/ensemble.py\", line 487, in __call__\n",
      "    return self.f(x, *self.args, **self.kwargs)\n",
      "  File \"/d1/boudica1/lmatra/GJ14/uvfit/setup_mcmc.py\", line 200, in lnpostfn\n",
      "    imag     =     radmc3dPy.image.readImage(binary=True)\n",
      "  File \"/d1/boudica1/lmatra/radmc-gala/radmc-3d/version_0.41/python/radmc3dPy/image.py\", line 1111, in readImage\n",
      "    dum.readImage(fname=fname, binary=binary, old=old)\n",
      "  File \"/d1/boudica1/lmatra/radmc-gala/radmc-3d/version_0.41/python/radmc3dPy/image.py\", line 724, in readImage\n",
      "    dum = np.fromfile(fname, count=4, dtype=int)\n",
      "FileNotFoundError: [Errno 2] No such file or directory: 'image.bout'\n"
     ]
    },
    {
     "ename": "FileNotFoundError",
     "evalue": "[Errno 2] No such file or directory: 'image.bout'",
     "output_type": "error",
     "traceback": [
      "\u001b[0;31m---------------------------------------------------------------------------\u001b[0m",
      "\u001b[0;31mRemoteTraceback\u001b[0m                           Traceback (most recent call last)",
      "\u001b[0;31mRemoteTraceback\u001b[0m: \n\"\"\"\nTraceback (most recent call last):\n  File \"/d1/boudica1/anaconda3/lib/python3.7/multiprocessing/pool.py\", line 121, in worker\n    result = (True, func(*args, **kwds))\n  File \"/d1/boudica1/anaconda3/lib/python3.7/multiprocessing/pool.py\", line 44, in mapstar\n    return list(map(*args))\n  File \"/d1/boudica1/lmatra/radmc-gala/emcee/emcee3/ensemble.py\", line 487, in __call__\n    return self.f(x, *self.args, **self.kwargs)\n  File \"/d1/boudica1/lmatra/GJ14/uvfit/setup_mcmc.py\", line 200, in lnpostfn\n    imag     =     radmc3dPy.image.readImage(binary=True)\n  File \"/d1/boudica1/lmatra/radmc-gala/radmc-3d/version_0.41/python/radmc3dPy/image.py\", line 1111, in readImage\n    dum.readImage(fname=fname, binary=binary, old=old)\n  File \"/d1/boudica1/lmatra/radmc-gala/radmc-3d/version_0.41/python/radmc3dPy/image.py\", line 724, in readImage\n    dum = np.fromfile(fname, count=4, dtype=int)\nFileNotFoundError: [Errno 2] No such file or directory: 'image.bout'\n\"\"\"",
      "\nThe above exception was the direct cause of the following exception:\n",
      "\u001b[0;31mFileNotFoundError\u001b[0m                         Traceback (most recent call last)",
      "\u001b[0;32m/d1/boudica1/lmatra/GJ14/uvfit/setup_mcmc.py\u001b[0m in \u001b[0;36m<module>\u001b[0;34m()\u001b[0m\n\u001b[1;32m     15\u001b[0m \u001b[0;31m# This step actually starts the MCMC, at which point a progress bar should come up (may need installation of a python package).\u001b[0m\u001b[0;34m\u001b[0m\u001b[0;34m\u001b[0m\u001b[0;34m\u001b[0m\u001b[0m\n\u001b[1;32m     16\u001b[0m \u001b[0;31m# The MCMC runs for nsteps and starts the walkers for each parameter at position 'pos' defined above\u001b[0m\u001b[0;34m\u001b[0m\u001b[0;34m\u001b[0m\u001b[0;34m\u001b[0m\u001b[0m\n\u001b[0;32m---> 17\u001b[0;31m \u001b[0msampler\u001b[0m\u001b[0;34m.\u001b[0m\u001b[0mrun_mcmc\u001b[0m\u001b[0;34m(\u001b[0m\u001b[0mpos\u001b[0m\u001b[0;34m,\u001b[0m\u001b[0mnsteps\u001b[0m\u001b[0;34m,\u001b[0m\u001b[0mprogress\u001b[0m\u001b[0;34m=\u001b[0m\u001b[0;32mTrue\u001b[0m\u001b[0;34m)\u001b[0m\u001b[0;34m\u001b[0m\u001b[0;34m\u001b[0m\u001b[0m\n\u001b[0m\u001b[1;32m     18\u001b[0m \u001b[0;31m# If number of steps is insufficient, i.e. if the chains have not converged for each parameter, run for more steps using:\u001b[0m\u001b[0;34m\u001b[0m\u001b[0;34m\u001b[0m\u001b[0;34m\u001b[0m\u001b[0m\n\u001b[1;32m     19\u001b[0m \u001b[0;31m#sampler.run_mcmc(None,nsteps,progress=True)\u001b[0m\u001b[0;34m\u001b[0m\u001b[0;34m\u001b[0m\u001b[0;34m\u001b[0m\u001b[0m\n",
      "\u001b[0;32m/d1/boudica1/lmatra/radmc-gala/emcee/emcee3/ensemble.py\u001b[0m in \u001b[0;36mrun_mcmc\u001b[0;34m(self, pos0, nsteps, rstate0, log_prob0, blobs0, **kwargs)\u001b[0m\n\u001b[1;32m    336\u001b[0m         \u001b[0mresults\u001b[0m \u001b[0;34m=\u001b[0m \u001b[0;32mNone\u001b[0m\u001b[0;34m\u001b[0m\u001b[0;34m\u001b[0m\u001b[0m\n\u001b[1;32m    337\u001b[0m         for results in self.sample(pos0, log_prob0, rstate0=rstate0,\n\u001b[0;32m--> 338\u001b[0;31m                                    blobs0=blobs0, iterations=nsteps, **kwargs):\n\u001b[0m\u001b[1;32m    339\u001b[0m             \u001b[0;32mpass\u001b[0m\u001b[0;34m\u001b[0m\u001b[0;34m\u001b[0m\u001b[0m\n\u001b[1;32m    340\u001b[0m \u001b[0;34m\u001b[0m\u001b[0m\n",
      "\u001b[0;32m/d1/boudica1/lmatra/radmc-gala/emcee/emcee3/ensemble.py\u001b[0m in \u001b[0;36msample\u001b[0;34m(self, p0, log_prob0, rstate0, blobs0, iterations, thin_by, thin, store, progress)\u001b[0m\n\u001b[1;32m    228\u001b[0m         \u001b[0mblobs\u001b[0m \u001b[0;34m=\u001b[0m \u001b[0mblobs0\u001b[0m\u001b[0;34m\u001b[0m\u001b[0;34m\u001b[0m\u001b[0m\n\u001b[1;32m    229\u001b[0m         \u001b[0;32mif\u001b[0m \u001b[0mlog_prob\u001b[0m \u001b[0;32mis\u001b[0m \u001b[0;32mNone\u001b[0m\u001b[0;34m:\u001b[0m\u001b[0;34m\u001b[0m\u001b[0;34m\u001b[0m\u001b[0m\n\u001b[0;32m--> 230\u001b[0;31m             \u001b[0mlog_prob\u001b[0m\u001b[0;34m,\u001b[0m \u001b[0mblobs\u001b[0m \u001b[0;34m=\u001b[0m \u001b[0mself\u001b[0m\u001b[0;34m.\u001b[0m\u001b[0mcompute_log_prob\u001b[0m\u001b[0;34m(\u001b[0m\u001b[0mp\u001b[0m\u001b[0;34m)\u001b[0m\u001b[0;34m\u001b[0m\u001b[0;34m\u001b[0m\u001b[0m\n\u001b[0m\u001b[1;32m    231\u001b[0m         \u001b[0;32mif\u001b[0m \u001b[0mnp\u001b[0m\u001b[0;34m.\u001b[0m\u001b[0mshape\u001b[0m\u001b[0;34m(\u001b[0m\u001b[0mlog_prob\u001b[0m\u001b[0;34m)\u001b[0m \u001b[0;34m!=\u001b[0m \u001b[0;34m(\u001b[0m\u001b[0mself\u001b[0m\u001b[0;34m.\u001b[0m\u001b[0mnwalkers\u001b[0m\u001b[0;34m,\u001b[0m \u001b[0;34m)\u001b[0m\u001b[0;34m:\u001b[0m\u001b[0;34m\u001b[0m\u001b[0;34m\u001b[0m\u001b[0m\n\u001b[1;32m    232\u001b[0m             \u001b[0;32mraise\u001b[0m \u001b[0mValueError\u001b[0m\u001b[0;34m(\u001b[0m\u001b[0;34m\"incompatible input dimensions\"\u001b[0m\u001b[0;34m)\u001b[0m\u001b[0;34m\u001b[0m\u001b[0;34m\u001b[0m\u001b[0m\n",
      "\u001b[0;32m/d1/boudica1/lmatra/radmc-gala/emcee/emcee3/ensemble.py\u001b[0m in \u001b[0;36mcompute_log_prob\u001b[0;34m(self, coords)\u001b[0m\n\u001b[1;32m    379\u001b[0m                 \u001b[0mmap_func\u001b[0m \u001b[0;34m=\u001b[0m \u001b[0mmap\u001b[0m\u001b[0;34m\u001b[0m\u001b[0;34m\u001b[0m\u001b[0m\n\u001b[1;32m    380\u001b[0m             results = list(map_func(self.log_prob_fn,\n\u001b[0;32m--> 381\u001b[0;31m                                     (p[i] for i in range(len(p)))))\n\u001b[0m\u001b[1;32m    382\u001b[0m \u001b[0;34m\u001b[0m\u001b[0m\n\u001b[1;32m    383\u001b[0m         \u001b[0;32mtry\u001b[0m\u001b[0;34m:\u001b[0m\u001b[0;34m\u001b[0m\u001b[0;34m\u001b[0m\u001b[0m\n",
      "\u001b[0;32m/d1/boudica1/anaconda3/lib/python3.7/multiprocessing/pool.py\u001b[0m in \u001b[0;36mmap\u001b[0;34m(self, func, iterable, chunksize)\u001b[0m\n\u001b[1;32m    266\u001b[0m         \u001b[0;32min\u001b[0m \u001b[0ma\u001b[0m \u001b[0mlist\u001b[0m \u001b[0mthat\u001b[0m \u001b[0;32mis\u001b[0m \u001b[0mreturned\u001b[0m\u001b[0;34m.\u001b[0m\u001b[0;34m\u001b[0m\u001b[0;34m\u001b[0m\u001b[0m\n\u001b[1;32m    267\u001b[0m         '''\n\u001b[0;32m--> 268\u001b[0;31m         \u001b[0;32mreturn\u001b[0m \u001b[0mself\u001b[0m\u001b[0;34m.\u001b[0m\u001b[0m_map_async\u001b[0m\u001b[0;34m(\u001b[0m\u001b[0mfunc\u001b[0m\u001b[0;34m,\u001b[0m \u001b[0miterable\u001b[0m\u001b[0;34m,\u001b[0m \u001b[0mmapstar\u001b[0m\u001b[0;34m,\u001b[0m \u001b[0mchunksize\u001b[0m\u001b[0;34m)\u001b[0m\u001b[0;34m.\u001b[0m\u001b[0mget\u001b[0m\u001b[0;34m(\u001b[0m\u001b[0;34m)\u001b[0m\u001b[0;34m\u001b[0m\u001b[0;34m\u001b[0m\u001b[0m\n\u001b[0m\u001b[1;32m    269\u001b[0m \u001b[0;34m\u001b[0m\u001b[0m\n\u001b[1;32m    270\u001b[0m     \u001b[0;32mdef\u001b[0m \u001b[0mstarmap\u001b[0m\u001b[0;34m(\u001b[0m\u001b[0mself\u001b[0m\u001b[0;34m,\u001b[0m \u001b[0mfunc\u001b[0m\u001b[0;34m,\u001b[0m \u001b[0miterable\u001b[0m\u001b[0;34m,\u001b[0m \u001b[0mchunksize\u001b[0m\u001b[0;34m=\u001b[0m\u001b[0;32mNone\u001b[0m\u001b[0;34m)\u001b[0m\u001b[0;34m:\u001b[0m\u001b[0;34m\u001b[0m\u001b[0;34m\u001b[0m\u001b[0m\n",
      "\u001b[0;32m/d1/boudica1/anaconda3/lib/python3.7/multiprocessing/pool.py\u001b[0m in \u001b[0;36mget\u001b[0;34m(self, timeout)\u001b[0m\n\u001b[1;32m    655\u001b[0m             \u001b[0;32mreturn\u001b[0m \u001b[0mself\u001b[0m\u001b[0;34m.\u001b[0m\u001b[0m_value\u001b[0m\u001b[0;34m\u001b[0m\u001b[0;34m\u001b[0m\u001b[0m\n\u001b[1;32m    656\u001b[0m         \u001b[0;32melse\u001b[0m\u001b[0;34m:\u001b[0m\u001b[0;34m\u001b[0m\u001b[0;34m\u001b[0m\u001b[0m\n\u001b[0;32m--> 657\u001b[0;31m             \u001b[0;32mraise\u001b[0m \u001b[0mself\u001b[0m\u001b[0;34m.\u001b[0m\u001b[0m_value\u001b[0m\u001b[0;34m\u001b[0m\u001b[0;34m\u001b[0m\u001b[0m\n\u001b[0m\u001b[1;32m    658\u001b[0m \u001b[0;34m\u001b[0m\u001b[0m\n\u001b[1;32m    659\u001b[0m     \u001b[0;32mdef\u001b[0m \u001b[0m_set\u001b[0m\u001b[0;34m(\u001b[0m\u001b[0mself\u001b[0m\u001b[0;34m,\u001b[0m \u001b[0mi\u001b[0m\u001b[0;34m,\u001b[0m \u001b[0mobj\u001b[0m\u001b[0;34m)\u001b[0m\u001b[0;34m:\u001b[0m\u001b[0;34m\u001b[0m\u001b[0;34m\u001b[0m\u001b[0m\n",
      "\u001b[0;31mFileNotFoundError\u001b[0m: [Errno 2] No such file or directory: 'image.bout'"
     ]
    }
   ],
   "source": [
    "os.chdir('../uvfit')\n",
    "backendaddress='backend_'+sourcetag+'_todaysdate_computersname.pkl'\n",
    "#np.save('backendaddress.npy', backendaddress)\n",
    "pickle.dump(backendaddress, open('backendaddress.npy', 'wb'), protocol=2)\n",
    "\n",
    "\n",
    "#print(np.load('backendaddress.npy'))\n",
    "#!ls\n",
    "\n",
    "#import setup_mcmc\n",
    "%run -i setup_mcmc\n",
    "nsteps=10\n",
    "\n",
    "#print(priors_up)\n",
    "# This step actually starts the MCMC, at which point a progress bar should come up (may need installation of a python package).\n",
    "# The MCMC runs for nsteps and starts the walkers for each parameter at position 'pos' defined above\n",
    "sampler.run_mcmc(pos,nsteps,progress=True)\n",
    "# If number of steps is insufficient, i.e. if the chains have not converged for each parameter, run for more steps using:\n",
    "#sampler.run_mcmc(None,nsteps,progress=True)\n",
    "# where nsteps is the number of steps you want to go further by."
   ]
  },
  {
   "cell_type": "code",
   "execution_count": null,
   "metadata": {},
   "outputs": [],
   "source": []
  },
  {
   "cell_type": "code",
   "execution_count": null,
   "metadata": {},
   "outputs": [],
   "source": []
  },
  {
   "cell_type": "code",
   "execution_count": null,
   "metadata": {},
   "outputs": [],
   "source": []
  }
 ],
 "metadata": {
  "kernelspec": {
   "display_name": "Python 3",
   "language": "python",
   "name": "python3"
  },
  "language_info": {
   "codemirror_mode": {
    "name": "ipython",
    "version": 3
   },
   "file_extension": ".py",
   "mimetype": "text/x-python",
   "name": "python",
   "nbconvert_exporter": "python",
   "pygments_lexer": "ipython3",
   "version": "3.7.3"
  }
 },
 "nbformat": 4,
 "nbformat_minor": 2
}
