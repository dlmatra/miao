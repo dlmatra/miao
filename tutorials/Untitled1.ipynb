{
 "cells": [
  {
   "cell_type": "code",
   "execution_count": null,
   "metadata": {},
   "outputs": [],
   "source": [
    "#Postprocessing\n",
    "if postproc:\n",
    "    if not (imaging or fit):\n",
    "        print ('Will be carrying out postprocessing ONLY')\n",
    "    else:\n",
    "        print('Will be carrying out postprocessing')\n",
    "    if not os.path.exists(workingdir+'/'+sourcetag+'/'+'uvfit'):\n",
    "        sys.exit('Carry out fit before POSTprocessing!')\n",
    "    for i in ['analysis', 'plots', 'uvfit/evaluation']:\n",
    "        if not os.path.exists(workingdir+'/'+sourcetag+'/'+i):\n",
    "            os.mkdir(workingdir+'/'+sourcetag+'/'+i)\n",
    "    !cp -r {radmcgalapath}/utils/evaluatemodel_radmc3d.py {workingdir}/{sourcetag}/uvfit/. \n",
    "    !cp -r {radmcgalapath}/utils/uvresidualtoms.py {workingdir}/{sourcetag}/uvfit/. \n",
    "    !cp -r {radmcgalapath}/utils/makeuvdeprojplot_simple_multiple.py {workingdir}/{sourcetag}/uvfit/.\n",
    "    !cp -r {radmcgalapath}/utils/plotimage.py {workingdir}/{sourcetag}/analysis/.  \n",
    "    !cp -r {radmcgalapath}/utils/imagecombo.py {workingdir}/{sourcetag}/analysis/. "
   ]
  }
 ],
 "metadata": {
  "kernelspec": {
   "display_name": "Python 3",
   "language": "python",
   "name": "python3"
  },
  "language_info": {
   "codemirror_mode": {
    "name": "ipython",
    "version": 3
   },
   "file_extension": ".py",
   "mimetype": "text/x-python",
   "name": "python",
   "nbconvert_exporter": "python",
   "pygments_lexer": "ipython3",
   "version": "3.7.3"
  }
 },
 "nbformat": 4,
 "nbformat_minor": 2
}
