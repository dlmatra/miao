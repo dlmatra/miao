{
 "cells": [
  {
   "cell_type": "markdown",
   "metadata": {},
   "source": [
    "## Step 2: Run visibility fit by forward-modeling with RADMC-3D (ray tracing) and GALARIO (for FFT) through emcee package"
   ]
  },
  {
   "cell_type": "markdown",
   "metadata": {},
   "source": [
    "Review what the belt looks like, and use it to inform the choice of parameters and the setup for the fit. <br> Start this script in the target's main directory (workingdir+'/'+sourcetag) from Step 1."
   ]
  },
  {
   "cell_type": "code",
   "execution_count": null,
   "metadata": {},
   "outputs": [],
   "source": [
    "#Read in directories as defined in step 1\n",
    "radmcgalapath, casapath, sourcetag, workingdir, vis, nvis = pickle.load(open('./imagepars.npy','rb'))\n",
    "#Open CASA viewer to display the belt. Keep display open to inform your choice of parameters below.\n",
    "os.chdir('../imaging')\n",
    "!{casapath}/casaviewer &"
   ]
  },
  {
   "cell_type": "markdown",
   "metadata": {},
   "source": [
    "Define a few FIXED parameters for the fit"
   ]
  },
  {
   "cell_type": "code",
   "execution_count": null,
   "metadata": {},
   "outputs": [],
   "source": [
    "Lstar=0.111  #Stellar luminosity, in Solar luminosities, for blackbody temperature calculation\n",
    "dist=14.7  #distance to the star, in pc\n",
    "imsize=24.0     #size (diameter) of the image you want to calculate the radiative transfer over, in arcsec.\n",
    "#Make sure it includes all emission from the disk, but be wary of making it too large as ray-tracing becomes too expensive"
   ]
  },
  {
   "cell_type": "markdown",
   "metadata": {},
   "source": [
    "Define disk starting parameters, and priors. This is for a belt with radially Gaussian surface density distribution,\n",
    "and vertically Gaussian number density distribution, e.g. Matra et al. 2019b, Sect. 4.2, and Eq. 1. <br>\n",
    "$$ \\rho=\\Sigma_0\\ e^{-\\frac{(r-r_{\\rm c})^2}{2\\sigma^2}}\\frac{e^{-\\frac{z^2}{2(hr)^2}}}{\\sqrt{2\\pi}hr} $$<br>\n",
    "*Note that rho_0 in Eq. of the paper should really be in surface density units, so should have been represented as a Sigma_0 in the paper.* <br>\n",
    "*Also note this is NOT the same as a belt with a radial density, rather than surface density, distribution, in which the sqrt{2pi}hr normalization would not be present*"
   ]
  },
  {
   "cell_type": "code",
   "execution_count": 2,
   "metadata": {},
   "outputs": [
    {
     "ename": "IndentationError",
     "evalue": "unexpected indent (<ipython-input-2-19407f8b6146>, line 132)",
     "output_type": "error",
     "traceback": [
      "\u001b[0;36m  File \u001b[0;32m\"<ipython-input-2-19407f8b6146>\"\u001b[0;36m, line \u001b[0;32m132\u001b[0m\n\u001b[0;31m    priors_up.append(sigmagal_up[i])\u001b[0m\n\u001b[0m    ^\u001b[0m\n\u001b[0;31mIndentationError\u001b[0m\u001b[0;31m:\u001b[0m unexpected indent\n"
     ]
    }
   ],
   "source": [
    "#Flux scaling\n",
    "fluxdensity=1.8e-3 #Total flux density of the belt, in Jy\n",
    "fluxdensity_dwn, fluxdensity_up = [0.1e-3, 50e-3] #Lower and upper bounds on its prior\n",
    "\n",
    "#Radial parameters\n",
    "rmid=99.0/dist # Radial peak location of Gaussian surface density, arcsec\n",
    "rmid_dwn, rmid_up = [0.3, 12.0]\n",
    "sigma=32.0/2.35/dist #standard deviation of radial Gaussian surface density\n",
    "sigma_dwn, sigma_up = [0.05, 'halfrmid'] #halfrmid is special setup that enables the maximum sigma to be half whatever \n",
    "#rmid is in current model evaluation.\n",
    "\n",
    "#Vertical parameters\n",
    "useh=True  #Do you want to leave the vertical aspect ratio as a free parameter? Only worth it for belts that you \n",
    "#believe have a chance to be vertically resolved\n",
    "if useh:\n",
    "    h=0.05 #aspect ratio of belt, constant with radius according to the equation above.\n",
    "    h_dwn, h_up = [0.005, 0.2]\n",
    "else:\n",
    "    h=0.03\n",
    "\n",
    "#Geometry parameters\n",
    "incl=65.0 #inclination, degrees from face-on\n",
    "incl_dwn, incl_up = [0.1, 89.99]\n",
    "posang=5.5 #position angle, East of North. **Needs to be between 0 and 180 degrees!**\n",
    "#Here below set priors in a way that your position angle is not at the edge of the prior distribution. \n",
    "#No need to modify these priors.\n",
    "if posang<45.0 or posang>135.0:\n",
    "    posang_dwn, posang_up = [-90.0, 90.0]\n",
    "else:\n",
    "    posang_dwn, posang_up = [0.0, 180.0]\n",
    "    \n",
    "#Add star if wanted/needed. This will be located at the geometrical center of the belt.\n",
    "star=True\n",
    "if star:\n",
    "    fstar=4e-5 #star's flux density, in Jy\n",
    "    fstar_dwn, fstar_up = [1e-6, 2e-3]"
   ]
  },
  {
   "cell_type": "markdown",
   "metadata": {},
   "source": [
    "Define dataset-dependent parameters: the offsets of the (star+)belt system from the phase center of the observation (dRA and dDec), and the weight factor by which to multiply all visibility weights of each dataset. <br>\n",
    "The latter is necessary to ensure the measurement uncertainty on each visibility is correct, and therefore that the uncertainties derived on the parameters of the fit are correct. This is not very expensive to do as the values of these weight factors converge very quickly."
   ]
  },
  {
   "cell_type": "code",
   "execution_count": null,
   "metadata": {},
   "outputs": [],
   "source": [
    "if nvis>1: \n",
    "    #If you have more than one visibility dataset to fit, define lists - rather than values - of starting \n",
    "    #parameters and priors\n",
    "    dRA=[-0.07,0.1,0.1] #RA offset of star+disk from phase center of observations. \n",
    "    ###Remember, RA is positive to the right in the CASA viewer image!###\n",
    "    dRA_dwn=[-3.0,-3.0,-3.0]\n",
    "    dRA_up=[3.0,3.0,3.0]\n",
    "    dDec=[0.14,-0.1,-0.1] #Dec offset of star+disk from phase center of observations\n",
    "    dDec_dwn=[-3.0,-3.0,-3.0]\n",
    "    dDec_up=[3.0,3.0,3.0]\n",
    "    wtfact=[0.289,0.289,1e-4] #factors by which incorrect weights should be multiplied by.\n",
    "    #This is typically a value between 0.2 and 0.8 for later ALMA Cycles (>~3, but depends on the CASA version used for\n",
    "    #reduction), around 1 (i.e. weights should be correct) for SMA data. For early ALMA Cycles, this factor comes out \n",
    "    #very low, something between 1e-5 and a few times 1e-4 (i.e. weights are largely overestimated by CASA).\n",
    "    wtfact_dwn=[1e-6,1e-6,1e-6]\n",
    "    wtfact_up=[10.0,10.0,10.0]\n",
    "else:\n",
    "    dRA=[-0.07] #RA offset of star+disk from phase center of observations\n",
    "    dRA_dwn=[-3.0]\n",
    "    dRA_up=[3.0]\n",
    "    dDec=[0.14] #Dec offset of star+disk from phase center of observations\n",
    "    dDec_dwn=[-3.0]\n",
    "    dDec_up=[3.0]\n",
    "    wtfact=[0.289] #factors by which incorrect weights should be multiplied by\n",
    "    wtfact_dwn=[1e-6]\n",
    "    wtfact_up=[10.0]"
   ]
  },
  {
   "cell_type": "markdown",
   "metadata": {},
   "source": [
    "Here below add background sources (galaxies?) that happen to lie in the field and can affect the modelling. <br>\n",
    "There can be more than 1, and these can be point sources or resolved. If you deem them to be resolved, set resolved=True and model them as a simple inclined 2D Gaussian. <br>\n",
    "Note that the number of parameters quickly increases if you have many resolved galaxies! Which will slow down your fit."
   ]
  },
  {
   "cell_type": "code",
   "execution_count": 3,
   "metadata": {},
   "outputs": [
    {
     "ename": "IndentationError",
     "evalue": "unexpected indent (<ipython-input-3-5a62748f8f4e>, line 77)",
     "output_type": "error",
     "traceback": [
      "\u001b[0;36m  File \u001b[0;32m\"<ipython-input-3-5a62748f8f4e>\"\u001b[0;36m, line \u001b[0;32m77\u001b[0m\n\u001b[0;31m    priors_up.append(sigmagal_up[i])\u001b[0m\n\u001b[0m    ^\u001b[0m\n\u001b[0;31mIndentationError\u001b[0m\u001b[0;31m:\u001b[0m unexpected indent\n"
     ]
    }
   ],
   "source": [
    "ngal=0 #Number of galaxies in the field to be modelled.\n",
    "if ngal>=1:\n",
    "    resolved=[True, False, False] # if deemed resolved, use 2D Gaussian as galaxy model (6 free parameters), and set \n",
    "    #resolved=True for that galaxy. \n",
    "    #Otherwise, use point source (3 free parameters) by setting resolved=False.\n",
    "    fbkg=[285e-6,500e-6,500e-6] #Total flux density of galaxy (galaxies) (Jy)\n",
    "    fbkg_dwn=[1e-6,1e-6,1e-6]\n",
    "    fbkg_up=[10e-3,10e-3,10e-3]\n",
    "    dRAbkg=[2.97,2.97,2.97] # RA offset of galaxy (galaxies) from center of star+disk system. Note that this WILL NOT\n",
    "    #account for proper motion of the star+disk between datasets taken at different times, \n",
    "    #since the offset is fixed for all datasets.\n",
    "    dRAbkg_dwn=[x-3.0 for x in dRAbkg]\n",
    "    dRAbkg_up=[x+3.0 for x in dRAbkg]\n",
    "    dDecbkg=[1.81,1.81,1.81] # Dec offset of galaxy (galaxies) from center of star+disk system. Note that this WILL NOT\n",
    "    #account for proper motion of the star+disk between datasets taken at different times, \n",
    "    #since the offset is fixed for all datasets.\n",
    "    dDecbkg_dwn=[x-3.0 for x in dDecbkg]\n",
    "    dDecbkg_up=[x+3.0 for x in dDecbkg]\n",
    "    sigmagal=[0.3,0,0] # standard deviation (arcsec) of Gaussian used to describe the bkg source\n",
    "    sigmagal_dwn=[0.05,0.05,0.05]\n",
    "    sigmagal_up=[1.0,1.0,1.0]\n",
    "    PAgal=[28.0,0,0] # PA (deg), East of North. **Needs to be between 0 and 180 degrees!**\n",
    "    #Set prior bounds on PA in a smart way, as done for the disk.\n",
    "    PAgal_dwn=[]\n",
    "    PAgal_up=[]\n",
    "    for i in PAgal:\n",
    "        if PAgal<45.0 or PAgal>135.0:\n",
    "            PAgal_dwn.append(-90.0)\n",
    "            PAgal_up.append(90.0)\n",
    "        else:\n",
    "            PAgal_dwn.append(0.0)\n",
    "            PAgal_up.append(180.0)   \n",
    "    incgal=[49.0,0,0] # inclination of the bkg source from face-on (degrees)\n",
    "    incgal_dwn=[0.1,0.1,0.1]\n",
    "    incgal_up=[89.99,89.99,89.99]\n",
    "else: \n",
    "    resolved=None\n",
    "    fbkg=None\n",
    "    dRAbkg=None\n",
    "    dDecbkg=None\n",
    "    sigmagal=None\n",
    "    PAgal=None\n",
    "    incgal=None"
   ]
  },
  {
   "cell_type": "markdown",
   "metadata": {},
   "source": [
    "Create needed folders for fitting, check that the imaging has been carried out as we need the primary beam for fitting."
   ]
  },
  {
   "cell_type": "code",
   "execution_count": null,
   "metadata": {},
   "outputs": [],
   "source": [
    "if not os.path.exists(workingdir+'/'+sourcetag+'/imaging'):\n",
    "    sys.exit('Carry out imaging first: need .pb primary beam image')\n",
    "for i in ['uvfit']:\n",
    "    if not os.path.exists(workingdir+'/'+sourcetag+'/'+i):\n",
    "        os.mkdir(workingdir+'/'+sourcetag+'/'+i)\n",
    "!cp -r {radmcgalapath}/utils/setup_mcmc.py {workingdir}/{sourcetag}/uvfit/. \n",
    "!cp -r {radmcgalapath}/utils/problem_setup_cont_gauss.py {workingdir}/{sourcetag}/uvfit/.  \n",
    "!cp -r {radmcgalapath}/utils/dustkappa_10445.micr.inp {workingdir}/{sourcetag}/uvfit/. "
   ]
  },
  {
   "cell_type": "markdown",
   "metadata": {},
   "source": [
    "Set up model (including ray-tracing with RADMC-3D, and visibility computation with galario) and MCMC run through emcee. The run will be saved at every step at the backend \n",
    "address specified. <br>\n",
    "**IMPORTANT**: setting newbackend to True overwrites existing backend at the given name. If you care about a given MCMC \n",
    "that has taken you a long time to run, make sure you do NOT overwrite this backend! <br>\n",
    "If you set newbackend to False, the MCMC will\n",
    "continue from its last step. This is what you want to do if you decided to stop the MCMC while it was running, and you \n",
    "want to continue it (see further steps below)."
   ]
  },
  {
   "cell_type": "code",
   "execution_count": null,
   "metadata": {},
   "outputs": [],
   "source": [
    "os.chdir(workingdir+'/'+sourcetag+'/uvfit')\n",
    "\n",
    "#Decide whether you want to overwrite backend (newbackend=True), or continue from existing backend.\n",
    "newbackend=True\n",
    "backendaddress='backend_'+sourcetag+'_todaysdate_computersname_v2.pkl'\n",
    "pickle.dump(backendaddress, open('backendaddress.npy', 'wb'), protocol=2)\n",
    "\n",
    "%run -i setup_mcmc"
   ]
  },
  {
   "cell_type": "markdown",
   "metadata": {},
   "source": [
    "And now run MCMC for whichever number of steps (nsteps) you like. <br>\n",
    "A progress bar will come up if you have installed the tqdm package. If tired of waiting at any point, you can kill it by interrupting the notebook's kernel. The current state of the sampler will be saved within the backend and can be recovered."
   ]
  },
  {
   "cell_type": "code",
   "execution_count": null,
   "metadata": {},
   "outputs": [],
   "source": [
    "nsteps=1000\n",
    "sampler.run_mcmc(pos,nsteps,progress=True)"
   ]
  },
  {
   "cell_type": "markdown",
   "metadata": {},
   "source": [
    "Quick check on how things went. Burnin is the number of steps you're going to eventually throw out because the chains had not converged yet - you can guess that value for now, as long as it's below the number of steps the MCMC ran for so far."
   ]
  },
  {
   "cell_type": "code",
   "execution_count": null,
   "metadata": {},
   "outputs": [],
   "source": [
    "chain=backend.get_chain()\n",
    "for j in range(chain.shape[2]):\n",
    "    pl.figure()\n",
    "    for i in range(chain.shape[1]):\n",
    "        pl.plot(chain[:,i,j], alpha=0.1)"
   ]
  },
  {
   "cell_type": "markdown",
   "metadata": {},
   "source": [
    "If chains look converged for every parameter (you can also use more formal convergence criteria - see e.g. emcee \n",
    "documentation), you can be happy and proceed to the next notebook describing postprocessing (Step 3). <br>\n",
    "If you're not happy, run for longer using:"
   ]
  },
  {
   "cell_type": "code",
   "execution_count": null,
   "metadata": {},
   "outputs": [],
   "source": [
    "# If number of steps is insufficient, i.e. if the chains have not converged for each parameter, run for more steps using:\n",
    "newbackend=False\n",
    "%run -i setup_mcmc\n",
    "nsteps=1000-chain.shape[0] #chain.shape[0] contains the number of steps we have currently run for, and nsteps will be\n",
    "# the number of steps you want to go further by.\n",
    "sampler.run_mcmc(None,nsteps,progress=True)"
   ]
  }
 ],
 "metadata": {
  "kernelspec": {
   "display_name": "Python 3",
   "language": "python",
   "name": "python3"
  },
  "language_info": {
   "codemirror_mode": {
    "name": "ipython",
    "version": 3
   },
   "file_extension": ".py",
   "mimetype": "text/x-python",
   "name": "python",
   "nbconvert_exporter": "python",
   "pygments_lexer": "ipython3",
   "version": "3.7.3"
  }
 },
 "nbformat": 4,
 "nbformat_minor": 2
}
