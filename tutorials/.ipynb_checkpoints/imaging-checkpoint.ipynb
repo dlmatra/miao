{
 "cells": [
  {
   "cell_type": "markdown",
   "metadata": {},
   "source": [
    "## Step 1: Set up directory tree, extract visibilities, carry out imaging"
   ]
  },
  {
   "cell_type": "markdown",
   "metadata": {},
   "source": [
    "Import packages, define addresses within local machine"
   ]
  },
  {
   "cell_type": "code",
   "execution_count": 1,
   "metadata": {},
   "outputs": [
    {
     "name": "stdout",
     "output_type": "stream",
     "text": [
      "Directory for object GJ14 already exists at /d1/boudica1/lmatra\n"
     ]
    }
   ],
   "source": [
    "import numpy as np\n",
    "import os\n",
    "import pickle\n",
    "\n",
    "### This is the address on your local machine to the package\n",
    "miao='/d1/boudica1/lmatra/miao'\n",
    "### This is the address on your local machine to CASA\n",
    "casapath='/d1/boudica1/casa-release-5.4.0-68.el6/bin'\n",
    "### This is the name of the folder where you want to carry out all the analysis and modelling - typically\n",
    "### the name of the source you observed\n",
    "sourcetag='GJ14'\n",
    "### And this is the address on your local machine where that folder will be created (if it doesn't exist already)\n",
    "workingdir='/d1/boudica1/lmatra'\n",
    "### Finally, this is the address on your local machine of your CASA visibility MS file. This can be a list of multiple\n",
    "### files if you want to image and model visibilities separately (e.g. if you had different pointings in a mosaic,\n",
    "### different observation dates, different arrays, etc.)\n",
    "vis=['/sma/SMAusers/lmatra/REASONS_ALMA/cycle5/GJ14/calibratedms/GJ14_calibratedvis_cont.ms']\n",
    "\n",
    "#Create directories\n",
    "nvis=len(vis)\n",
    "if not os.path.exists(workingdir+'/'+sourcetag):\n",
    "    os.mkdir(workingdir+'/'+sourcetag)\n",
    "    print('Creating directory for object '+sourcetag+' at '+workingdir)\n",
    "else:\n",
    "    print('Directory for object '+sourcetag+' already exists at '+workingdir)"
   ]
  },
  {
   "cell_type": "markdown",
   "metadata": {},
   "source": [
    "Decide on parameters that you want for CASA imaging through tclean. See CASA tclean documentation for more info.\n",
    "By default, we will produce images with pixel and image sizes chosen according to the u-v distances covered in the dataset (see later). Multiscale deconvolution will be used."
   ]
  },
  {
   "cell_type": "code",
   "execution_count": 2,
   "metadata": {},
   "outputs": [],
   "source": [
    "### Is your observation a mosaic? (i.e. does it contain multiple pointings, or multiple heterogeneous arrays (e.g.\n",
    "### ALMA 12m + ACA 7m)?\n",
    "mosaic=False\n",
    "if mosaic:\n",
    "    mosaic=True\n",
    "    ### If observation is a mosaic, what coordinates do you need at the center of the image? \n",
    "    phasecenter='J2000 22h57m39.449700 -29d37m22.68681'\n",
    "else:\n",
    "    phasecenter=''\n",
    "### What weighting scheme would you like?\n",
    "weighting='natural'\n",
    "if weighting=='briggs':\n",
    "    robust=0.5\n",
    "else:\n",
    "    robust=''\n",
    "### Would you like to add a u-v taper (practically 'smoothing' your data in image space)?\n",
    "uvtaper=[''] #e.g. ['1arcsec']\n",
    "### Do you want to interact with tclean? I.e. carry out deconvolution and draw clean masks interactively?\n",
    "### NB if False, running imaging within CASA separately from this notebook is not needed.\n",
    "### NBB BUT your images will just be dirty images, and no deconvolution will be carried out.\n",
    "interactive=True"
   ]
  },
  {
   "cell_type": "markdown",
   "metadata": {},
   "source": [
    "Create directory structure for imaging, print imaging parameters chosen above"
   ]
  },
  {
   "cell_type": "code",
   "execution_count": 3,
   "metadata": {},
   "outputs": [],
   "source": [
    "#Create directories needed for imaging\n",
    "os.chdir(workingdir+'/'+sourcetag)\n",
    "for i in ['calibratedms', 'imaging']:\n",
    "    if not os.path.exists(workingdir+'/'+sourcetag+'/'+i):\n",
    "         os.mkdir(workingdir+'/'+sourcetag+'/'+i)\n",
    "!cp -r {miaopath}/utils/mstonumpyortxt_multiple.py {workingdir}/{sourcetag}/calibratedms/.\n",
    "for i in np.arange(len(vis)):\n",
    "    if not os.path.exists('calibratedms/'+vis[i].rsplit('/',1)[1]):\n",
    "        !cp -r {vis[i]} {workingdir}/{sourcetag}/calibratedms/.\n",
    "    vis[i]=vis[i].rsplit('/',1)[1]\n",
    "    #print(vis[i])\n",
    "!cp -r {miaopath}/utils/imagingscript_multiple.py {workingdir}/{sourcetag}/imaging/. \n",
    "\n",
    "#Save directories and dataset names\n",
    "pickle.dump([miaopath, casapath, sourcetag, workingdir, vis, nvis], \n",
    "            open(workingdir+'/'+sourcetag+'/dirvises.npy', 'wb'), protocol=2)\n",
    "\n",
    "#Save imaging parameters\n",
    "pickle.dump([sourcetag,workingdir,vis,nvis,mosaic,phasecenter,weighting,robust,uvtaper,interactive], \n",
    "            open(workingdir+'/'+sourcetag+'/imaging/imagepars.npy', 'wb'), protocol=2)"
   ]
  },
  {
   "cell_type": "markdown",
   "metadata": {},
   "source": [
    "Convert visibilities in CASA MS format to a python save file. This is done with CASA within the notebook. "
   ]
  },
  {
   "cell_type": "code",
   "execution_count": 4,
   "metadata": {},
   "outputs": [
    {
     "name": "stdout",
     "output_type": "stream",
     "text": [
      "\n",
      "=========================================\n",
      "The start-up time of CASA may vary\n",
      "depending on whether the shared libraries\n",
      "are cached or not.\n",
      "=========================================\n",
      "\n",
      "\u001b]0;IPython: GJ14/calibratedms\u0007IPython 5.1.0 -- An enhanced Interactive Python.\n",
      "\n",
      "CASA 5.4.0-68   -- Common Astronomy Software Applications\n",
      "\n",
      "--> CrashReporter initialized.\n",
      "Found data with 225826 uv points per channel\n",
      "with 1 channels per SPW and 2 polarizations,\n",
      "8 SPWs and Channel 0 frequency of 1st SPW of 243.116401246 GHz\n",
      "corresponding to 1.23311302102 mm\n",
      "Datasets has baselines between 11.6500031801 and 371.63538144 m\n"
     ]
    }
   ],
   "source": [
    "os.chdir('calibratedms')\n",
    "!{casapath}/casa -c mstonumpyortxt_multiple.py"
   ]
  },
  {
   "cell_type": "markdown",
   "metadata": {},
   "source": [
    "Read in visibilities into Python, and use Galario's tool to figure out ideal cell size and image size.\n",
    "Typically half the suggested image size is OK, and can save significant computation time."
   ]
  },
  {
   "cell_type": "code",
   "execution_count": 5,
   "metadata": {},
   "outputs": [
    {
     "name": "stdout",
     "output_type": "stream",
     "text": [
      "Pixel size (arcsec) and number of pixels required for dataset GJ14_calibratedvis_cont.ms:\n",
      "0.06843568580635173 512.0\n",
      "\n",
      "*** Pixel size (arcsec) and number of pixels that will be used: ***\n",
      "0.06843568580635173 512\n"
     ]
    }
   ],
   "source": [
    "from galario.double import get_image_size\n",
    "\n",
    "#Read visibility data into python, figure out optimal pixel and image size for imaging. \n",
    "u=[[] for x in vis]\n",
    "v=[[] for x in vis]\n",
    "Re=[[] for x in vis]\n",
    "Im=[[] for x in vis]\n",
    "w=[[] for x in vis]\n",
    "nxy=[[] for x in vis]\n",
    "dxy=[[] for x in vis]\n",
    "for i in np.arange(nvis):\n",
    "    u[i], v[i], Re[i], Im[i], w[i] = np.load(vis[i][:-3]+'.npy')\n",
    "    nxy[i], dxy[i] = get_image_size(u, v)\n",
    "    nxy[i]/=2\n",
    "    print('Pixel size (arcsec) and number of pixels required for dataset '+vis[i]+':')\n",
    "    print(dxy[i]*180.0/np.pi*3600, nxy[i])    \n",
    "\n",
    "#Figure out pix size and number for concatenated image. This is needed if more than one visibility dataset is present.\n",
    "dxyall=np.min(dxy)\n",
    "nxyall=np.int(np.ceil(np.max(np.asarray(dxy)*np.asarray(nxy))/dxyall/2.0)*2)\n",
    "print('')\n",
    "print('*** Pixel size (arcsec) and number of pixels that will be used: ***')\n",
    "print(dxyall*180.0/np.pi*3600, nxyall)    \n",
    "\n",
    "#Save pixel sizes and number of pixels, for imaging and later fitting\n",
    "pickle.dump([dxyall, np.int(nxyall)], open(workingdir+'/'+sourcetag+'/calibratedms/pixinfo.npy', 'wb'), protocol=2)"
   ]
  },
  {
   "cell_type": "markdown",
   "metadata": {},
   "source": [
    "Then run the CLEANing using CASA's tclean, also producing FITS files for the image and primary beam, which we will need later, under the hood. For multiple visibility datasets, this produces images for each dataset AND for the concatenated dataset. \n",
    "\n",
    "Note that there may well be large weight differentials between datasets, especially if some come from early ALMA Cycles, or other telescope facilities. These are not accounted for during any concatenation that happens here, but will be accounted for in post-processing after visibility fitting, as the weights are (somewhat) fitted for in the modelling."
   ]
  },
  {
   "cell_type": "code",
   "execution_count": 6,
   "metadata": {
    "scrolled": true
   },
   "outputs": [
    {
     "name": "stdout",
     "output_type": "stream",
     "text": [
      "\n",
      "=========================================\n",
      "The start-up time of CASA may vary\n",
      "depending on whether the shared libraries\n",
      "are cached or not.\n",
      "=========================================\n",
      "\n",
      "\u001b]0;IPython: GJ14/imaging\u0007IPython 5.1.0 -- An enhanced Interactive Python.\n",
      "\n",
      "CASA 5.4.0-68   -- Common Astronomy Software Applications\n",
      "\n",
      "--> CrashReporter initialized.\n",
      "2019-10-26 16:33:03\tSEVERE\tMeasTable::dUTC(Double) (file ../../measures/Measures/MeasTable.cc, line 4396)\tLeap second table TAI_UTC seems out-of-date. \n",
      "2019-10-26 16:33:03\tSEVERE\tMeasTable::dUTC(Double) (file ../../measures/Measures/MeasTable.cc, line 4396)+\tUntil the table is updated (see the CASA documentation or your system admin),\n",
      "2019-10-26 16:33:03\tSEVERE\tMeasTable::dUTC(Double) (file ../../measures/Measures/MeasTable.cc, line 4396)+\ttimes and coordinates derived from UTC could be wrong by 1s or more.\n",
      "\n",
      "0%....10....20....30....40....50....60....70....80....90....100%\n"
     ]
    }
   ],
   "source": [
    "os.chdir('../imaging')\n",
    "\n",
    "!{casapath}/casa -c imagingscript_multiple.py"
   ]
  },
  {
   "cell_type": "markdown",
   "metadata": {},
   "source": [
    "Nice dataset! You now have CLEAN images which we will plot nicely with matplotlib later during postprocessing.\n",
    "\n",
    "For now, take a look at your image with the CASA viewer (command below), measure the RMS noise level in an empty region and note it for later.\n",
    "You may now proceed with the visibility fitting in the vismodelling tutorial :)"
   ]
  },
  {
   "cell_type": "code",
   "execution_count": 7,
   "metadata": {},
   "outputs": [
    {
     "name": "stdout",
     "output_type": "stream",
     "text": [
      "--> CrashReporter initialized.\n",
      "^C\n"
     ]
    }
   ],
   "source": [
    "!{casapath}/casaviewer "
   ]
  }
 ],
 "metadata": {
  "kernelspec": {
   "display_name": "Python 3",
   "language": "python",
   "name": "python3"
  },
  "language_info": {
   "codemirror_mode": {
    "name": "ipython",
    "version": 3
   },
   "file_extension": ".py",
   "mimetype": "text/x-python",
   "name": "python",
   "nbconvert_exporter": "python",
   "pygments_lexer": "ipython3",
   "version": "3.7.3"
  }
 },
 "nbformat": 4,
 "nbformat_minor": 2
}
